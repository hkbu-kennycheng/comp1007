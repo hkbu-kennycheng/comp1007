{
 "cells": [
  {
   "cell_type": "markdown",
   "metadata": {},
   "source": [
    "# Lab9\n",
    "# Fundamental Statistics with Python"
   ]
  },
  {
   "cell_type": "markdown",
   "metadata": {},
   "source": [
    "--------\n",
    "## Introduction\n",
    "In this section, we will learn how to use **NumPy** and **SciPy** packages for basic probability and statistics. In the first part, we learn how to draw data samples from different probability distributions. In the second part, we will work on a data set and apply some statistical study:\n",
    "- Find the mean, maximum, minimum, and standard deviation;\n",
    "- Find the median and integer quartile range;\n",
    "- Count the number of students in each score range;\n",
    "- Create charts to show the student distribution."
   ]
  },
  {
   "cell_type": "markdown",
   "metadata": {},
   "source": [
    "--------\n",
    "## *1. Basic Probability Distributions* ##\n",
    "\n",
    "### Discrete uniform distribution\n",
    "\n",
    "With discrete uniform distribution, a finite number of values are equally likely to be observed; every one of n values has an equal probability of 1/n. E.g., For example, if we roll a fair dice with six sides 1, 2, 3, 4, 5, and 6, then each side has equal probability of 1/6 of facing up. \n",
    "\n",
    "The following code simulates the game of rolling dices. It uses **np.random.randint(min, max+1)** to generate a random integer in the range of [min, max] each time. "
   ]
  },
  {
   "cell_type": "code",
   "execution_count": null,
   "metadata": {},
   "outputs": [
    {
     "name": "stdout",
     "output_type": "stream",
     "text": [
      "Rolling the dice\n",
      "You get ...\n",
      "5\n"
     ]
    }
   ],
   "source": [
    "import numpy as np\n",
    "import numpy.random as random\n",
    "min = 1\n",
    "max = 6\n",
    "roll = 'y'\n",
    "while roll == 'y':\n",
    "    print(\"Rolling the dice\")\n",
    "    print(\"You get ...\")\n",
    "    print(random.randint(min, max+1))\n",
    "    roll = input(\"Roll again? (y/n)\")"
   ]
  },
  {
   "cell_type": "markdown",
   "metadata": {},
   "source": [
    "### Binominal Distribution\n",
    "\n",
    "Consider a sequence of n independent experiments, each with a success probability of p. Then the total number of successes B(n, p) follows the Binomial distribution. The following code shows three binomial distributions with n = 20 and p = 0.2, 0.5, and 0.8 respectively. We generate 10000 data points for each distribution and draw the histograms."
   ]
  },
  {
   "cell_type": "code",
   "execution_count": null,
   "metadata": {},
   "outputs": [],
   "source": [
    "import matplotlib.pyplot as plt\n",
    "\n",
    "n = 20\n",
    "binom1 = random.binomial(n, 0.2, 10000)\n",
    "binom2 = random.binomial(n, 0.5, 10000)\n",
    "binom3 = random.binomial(n, 0.8, 10000)\n",
    "\n",
    "fig = plt.figure()\n",
    "kwargs = dict(histtype='stepfilled', alpha=0.3, bins=range(1, 21))\n",
    "plt.hist(binom1, **kwargs)\n",
    "plt.hist(binom2, **kwargs)\n",
    "plt.hist(binom3, **kwargs)\n",
    "\n",
    "#The sample output is given below:\n",
    "plt.show()"
   ]
  },
  {
   "cell_type": "markdown",
   "metadata": {},
   "source": [
    "### Normal Distribution (or Gaussian Distribution)\n",
    "\n",
    "Normal distribution is a continuous probability distribution for a real-valued random variable. Function **np.random.normal(mean, std, size)** draws random samples from a normal distribution. The following code illustrates three normal distributions with different means and standard deviations."
   ]
  },
  {
   "cell_type": "code",
   "execution_count": null,
   "metadata": {},
   "outputs": [],
   "source": [
    "norm1 = random.normal(0, 0.8, 10000)\n",
    "norm2 = random.normal(-2, 1, 10000)\n",
    "norm3 = random.normal(3, 2, 10000)\n",
    "\n",
    "fig = plt.figure()\n",
    "kwargs = dict(histtype='stepfilled', alpha=0.3, bins=40)\n",
    "plt.hist(norm1, **kwargs)\n",
    "plt.hist(norm2, **kwargs)\n",
    "plt.hist(norm3, **kwargs)\n",
    "\n",
    "plt.show()"
   ]
  },
  {
   "cell_type": "markdown",
   "metadata": {},
   "source": [
    "----------\n",
    "## *2. Counting Student Scores and Creating a Graph of Score Distributions with Median and Inter-Quartile Range*"
   ]
  },
  {
   "cell_type": "markdown",
   "metadata": {},
   "source": [
    "1. Import required library packages."
   ]
  },
  {
   "cell_type": "code",
   "execution_count": null,
   "metadata": {},
   "outputs": [],
   "source": [
    "import numpy as np\n",
    "from scipy import stats\n",
    "import pandas as pd\n",
    "from matplotlib import pyplot as plt"
   ]
  },
  {
   "cell_type": "markdown",
   "metadata": {},
   "source": [
    "2.\tDownload the data file **quiz1_scores.csv** from the course web page and save it in D drive."
   ]
  },
  {
   "cell_type": "markdown",
   "metadata": {},
   "source": [
    "3.\tExplore the **quiz1_scores.csv** file using Excel. We can see that the file has 3 columns – the index, student id, and scores. The index and ‘student id’ columns are not used for the statistics. We focus on the ‘scores’ column."
   ]
  },
  {
   "cell_type": "markdown",
   "metadata": {},
   "source": [
    "4.\tLoad the file in Python. And, we store the values of the scores column in the **NumPy’s** ndarray."
   ]
  },
  {
   "cell_type": "code",
   "execution_count": null,
   "metadata": {},
   "outputs": [],
   "source": [
    "df = pd.read_csv('quiz1_scores.csv', index_col='index')\n",
    "scores = df['scores'].values\n",
    "\n",
    "#Remark: df is a DataFrame; \n",
    "#        df['scores'] is a Series, \n",
    "#        df['scores'].values is an ndarray."
   ]
  },
  {
   "cell_type": "markdown",
   "metadata": {},
   "source": [
    "5.\tFinding the median.\n",
    "\n",
    "    Remark: **Median** is the value separating the higher half from the lower half of a data set."
   ]
  },
  {
   "cell_type": "code",
   "execution_count": null,
   "metadata": {},
   "outputs": [],
   "source": [
    "median = np.median(scores)"
   ]
  },
  {
   "cell_type": "markdown",
   "metadata": {},
   "source": [
    "6.\tFinding the q-th percentile.\n",
    "\n",
    "    Remark: A **percentile** is a measure used in statistics indicating the value below which a given percentage of observations in a group of observations falls. For example, the 20th percentile is the value below which 20% of the observations may be found. Median is in fact the 50th percentile.\n"
   ]
  },
  {
   "cell_type": "code",
   "execution_count": null,
   "metadata": {},
   "outputs": [],
   "source": [
    "per75 = np.percentile(scores, 75)\n",
    "per25 = np.percentile(scores, 25)"
   ]
  },
  {
   "cell_type": "markdown",
   "metadata": {},
   "source": [
    "7.\tGetting the **Inter Quartile Range (IQR)**.\n",
    "\n",
    "    Remark: IQR is equal to the difference between 75th and 25th percentiles."
   ]
  },
  {
   "cell_type": "code",
   "execution_count": null,
   "metadata": {},
   "outputs": [],
   "source": [
    "iqr = stats.iqr(scores)"
   ]
  },
  {
   "cell_type": "markdown",
   "metadata": {},
   "source": [
    "8.\tSeparate student scores into 10 groups evenly and count the number of scores in each group."
   ]
  },
  {
   "cell_type": "markdown",
   "metadata": {},
   "source": [
    "    a.\tCreate labels for each group. We will use them as the x axis \n",
    "    labels of the chart. "
   ]
  },
  {
   "cell_type": "code",
   "execution_count": null,
   "metadata": {},
   "outputs": [],
   "source": [
    "labels = ['below 10', \n",
    "          '10 to 19', \n",
    "          '20 to 29', \n",
    "          '30 to 39', \n",
    "          '40 to 49', \n",
    "          '50 to 59', \n",
    "          '60 to 69', \n",
    "          '70 to 79', \n",
    "          '80 to 89', \n",
    "          '90 or above']"
   ]
  },
  {
   "cell_type": "markdown",
   "metadata": {},
   "source": [
    "    b. There are 10 groups, but we need to create a sequence with total 11 \n",
    "    numbers (0, 10, 20, …, 90, 100) that define the bin edges. "
   ]
  },
  {
   "cell_type": "code",
   "execution_count": null,
   "metadata": {},
   "outputs": [],
   "source": [
    "edges = np.linspace(0, 100, 11)"
   ]
  },
  {
   "cell_type": "markdown",
   "metadata": {},
   "source": [
    "The **linspace()** function returns total 11 **float** numbers - 0, 10, 20, 30, 40, 50, 60, 70, 80, 90, and 100. \n",
    "\n",
    "You may also use the following statement to get the same values (but as integers)."
   ]
  },
  {
   "cell_type": "code",
   "execution_count": null,
   "metadata": {},
   "outputs": [],
   "source": [
    "edges = np.arange(0, 101, 10)"
   ]
  },
  {
   "cell_type": "markdown",
   "metadata": {},
   "source": [
    "    c. Use NumPy’s histogram() function to tally scores into the \n",
    "    appropriate interval and count the number of students in each interval.\n",
    "    \n",
    "    Remark: A histogram is an accurate representation of the distribution of numerical data.  To construct a histogram, the first step is to \"bin\" \n",
    "    (or \"bucket\") the range of values, i.e., divide the entire range of \n",
    "    values into a series of intervals, and then count how many values fall into each interval."
   ]
  },
  {
   "cell_type": "markdown",
   "metadata": {},
   "source": [
    "    We have two methods to generate the histogram:\n",
    "    (1)\tspecify the number of bins, then the range will be evenly divided into bins:"
   ]
  },
  {
   "cell_type": "code",
   "execution_count": null,
   "metadata": {},
   "outputs": [],
   "source": [
    "hist, edges = np.histogram(scores, bins=10)"
   ]
  },
  {
   "cell_type": "markdown",
   "metadata": {},
   "source": [
    "    (2)\tspecify the bin edges:"
   ]
  },
  {
   "cell_type": "code",
   "execution_count": null,
   "metadata": {},
   "outputs": [],
   "source": [
    "hist, edges = np.histogram(scores, bins=edges)"
   ]
  },
  {
   "cell_type": "markdown",
   "metadata": {},
   "source": [
    "The **histogram()** function returns two ndarrays – **hist** stores the resulted data that is the count of each interval; **edges** stores the list of bin edges. Notice that the size of **edges** is one more than  the size of **hist**."
   ]
  },
  {
   "cell_type": "markdown",
   "metadata": {},
   "source": [
    "9.\tPrint the histogram result."
   ]
  },
  {
   "cell_type": "code",
   "execution_count": null,
   "metadata": {},
   "outputs": [],
   "source": [
    "print('Score Distribution')\n",
    "for i in range(len(hist)):\n",
    "    print('%s: \\t %d' % (labels[i], hist[i]))"
   ]
  },
  {
   "cell_type": "markdown",
   "metadata": {},
   "source": [
    "10.\tPlot a graph\n",
    "\n",
    "    a.\tTo plot a histogram with 10 bins, we need to find the center values for each bin: "
   ]
  },
  {
   "cell_type": "code",
   "execution_count": null,
   "metadata": {},
   "outputs": [],
   "source": [
    "bin_centers = 0.5 * (edges[1:] + edges[:-1])"
   ]
  },
  {
   "cell_type": "markdown",
   "metadata": {},
   "source": [
    "    The statement above does the following thing:\n",
    "    •\tedges[1:] is the subset of bins from 2nd element to last element.\n",
    "    •\tedges[:-1] is the subset of bins from 1st element to last second element.\n",
    "    •\tAdd two ndarrays together.\n",
    "    •\tThen, multiply the elements by 0.5.\n",
    "    \n",
    "<img src=\"files/lab9_histogramcenter.jpg\"/>"
   ]
  },
  {
   "cell_type": "markdown",
   "metadata": {},
   "source": [
    "    b.\tPlot the graph using the bin_centers and histogram result data, \n",
    "    and add meaningful labels on X axis. To see the step-by-step visual \n",
    "    effect, you need to type the \"%matplotlib qt\" command in the IPython \n",
    "    console first."
   ]
  },
  {
   "cell_type": "code",
   "execution_count": null,
   "metadata": {},
   "outputs": [],
   "source": [
    "plt.plot(bin_centers, hist)\n",
    "plt.xticks(bin_centers, labels, rotation='vertical')"
   ]
  },
  {
   "cell_type": "code",
   "execution_count": null,
   "metadata": {},
   "outputs": [],
   "source": [
    "#You can also choose the bar style for the histogram:\n",
    "plt.bar(bin_centers, hist, width=10)\n",
    "plt.xticks(bin_centers, labels, rotation='vertical')"
   ]
  },
  {
   "cell_type": "markdown",
   "metadata": {},
   "source": [
    "    c.\tAdd an indicator of Inter Quartile range – Q1, Q2, and Q3"
   ]
  },
  {
   "cell_type": "code",
   "execution_count": null,
   "metadata": {},
   "outputs": [],
   "source": [
    "q1 = median - iqr/2\n",
    "q2 = median\n",
    "q3 = median + iqr/2\n",
    "\n",
    "plt.axvline(x=q1, color='lightgrey', linestyle='--')\n",
    "plt.axvline(x=q2, color='red', linestyle=':')\n",
    "plt.axvline(x=q3, color='lightgrey', linestyle='--')\n",
    "\n",
    "plt.plot(bin_centers, hist)\n",
    "plt.xticks(bin_centers, labels, rotation='vertical')"
   ]
  },
  {
   "cell_type": "markdown",
   "metadata": {},
   "source": [
    "    d.\tAdd graph title and text labels."
   ]
  },
  {
   "cell_type": "code",
   "execution_count": null,
   "metadata": {},
   "outputs": [],
   "source": [
    "plt.title('Score Distribution 1', fontsize = 24)\n",
    "\n",
    "plt.text(q1, 5, 'Q1=%.2f'% q1, fontsize = 16)\n",
    "plt.text(q2, 10, 'Median=%.2f'% q2, fontsize = 16)\n",
    "plt.text(q3, 15, 'Q3=%.2f'% q3, fontsize = 16)\n",
    "\n",
    "q1 = median - iqr/2\n",
    "q2 = median\n",
    "q3 = median + iqr/2\n",
    "\n",
    "plt.axvline(x=q1, color='lightgrey', linestyle='--')\n",
    "plt.axvline(x=q2, color='red', linestyle=':')\n",
    "plt.axvline(x=q3, color='lightgrey', linestyle='--')\n",
    "\n",
    "plt.plot(bin_centers, hist)\n",
    "plt.xticks(bin_centers, labels, rotation='vertical')\n",
    "\n",
    "# plt.bar(bin_centers, hist, width=10)\n",
    "# plt.xticks(bin_centers, labels, rotation='vertical')"
   ]
  },
  {
   "cell_type": "markdown",
   "metadata": {},
   "source": [
    "----------\n",
    "## *3. Creating a Graph with Mean, Standard Deviation, Reference Standard Normal Distribution Curve*\n",
    "\n",
    "In this section, we are going to create another graph using the same data set. The graph shows the mean, standard deviation, and a reference curve.\n",
    " \n",
    "You may add the example code of this section after the previous one. At the end, you will see two graphs. The second graph is created by the code of this section. Otherwise, you need to repeat the steps from 1 to 8 of the previous section first."
   ]
  },
  {
   "cell_type": "markdown",
   "metadata": {},
   "source": [
    "11. Finding the mean, maximum, minimum, and standard deviation."
   ]
  },
  {
   "cell_type": "code",
   "execution_count": null,
   "metadata": {},
   "outputs": [],
   "source": [
    "s_mean = scores.mean()\n",
    "s_max = scores.max()\n",
    "s_min = scores.min()\n",
    "s_std = scores.std()\n",
    "\n",
    "#The functions include mean(), max(), min() and std() \n",
    "#    are the built-in functions of ndarray."
   ]
  },
  {
   "cell_type": "markdown",
   "metadata": {},
   "source": [
    "12.\tCompute the density data using the Probability Density Function.\n",
    "\n",
    "    a. Use the pdf() function to compute the reference data."
   ]
  },
  {
   "cell_type": "code",
   "execution_count": null,
   "metadata": {},
   "outputs": [],
   "source": [
    "#We provide a range (0 to 99, 100 elements), the peak (s_mean) and scale (standard deviation).\n",
    "pdf = stats.norm.pdf(range(100), s_mean, scale = s_std)"
   ]
  },
  {
   "cell_type": "markdown",
   "metadata": {},
   "source": [
    "    b. Scale the resulted data up so as to match the histogram data \n",
    "    scale."
   ]
  },
  {
   "cell_type": "code",
   "execution_count": null,
   "metadata": {},
   "outputs": [],
   "source": [
    "Pdf = pdf / pdf.max() * hist.max()"
   ]
  },
  {
   "cell_type": "markdown",
   "metadata": {},
   "source": [
    "13.\tPlot the graph using the bins and histogram result data. Then, change the x-axis labels."
   ]
  },
  {
   "cell_type": "code",
   "execution_count": null,
   "metadata": {},
   "outputs": [],
   "source": [
    "plt.figure()\n",
    "plt.plot(bin_centers, hist)\n",
    "plt.xticks(bin_centers, labels, rotation='vertical')"
   ]
  },
  {
   "cell_type": "markdown",
   "metadata": {},
   "source": [
    "14.\tPlot the density data as a reference curve."
   ]
  },
  {
   "cell_type": "code",
   "execution_count": null,
   "metadata": {},
   "outputs": [],
   "source": [
    "plt.figure()\n",
    "plt.plot(bin_centers, hist)\n",
    "plt.xticks(bin_centers, labels, rotation='vertical')\n",
    "\n",
    "plt.plot(Pdf, '--')"
   ]
  },
  {
   "cell_type": "markdown",
   "metadata": {},
   "source": [
    "15.\tAdd indicators for the mean and standard deviation.\n",
    "\n",
    "    a. Add line and label for mean:"
   ]
  },
  {
   "cell_type": "code",
   "execution_count": null,
   "metadata": {},
   "outputs": [],
   "source": [
    "plt.figure()\n",
    "plt.plot(bin_centers, hist)\n",
    "plt.xticks(bin_centers, labels, rotation='vertical')\n",
    "\n",
    "plt.plot(Pdf, '--')\n",
    "\n",
    "plt.axvline(x=s_mean, color='green')\n",
    "plt.text(s_mean, 10, '$\\mu = %.2f$' % s_mean)\n",
    "\n",
    "#The string ‘$\\mu = %.2f$’ is a formatted string for printing the string \n",
    "#  with special symbols. The \\mu in the string will be replaced by the μ \n",
    "#  symbol but the string must be enclosed in quotation marks and dollar \n",
    "#  signs (‘$  $’)."
   ]
  },
  {
   "cell_type": "markdown",
   "metadata": {},
   "source": [
    "    b. Add lines and labels for standard deviation:"
   ]
  },
  {
   "cell_type": "code",
   "execution_count": null,
   "metadata": {},
   "outputs": [],
   "source": [
    "plt.figure()\n",
    "plt.plot(bin_centers, hist)\n",
    "plt.xticks(bin_centers, labels, rotation='vertical')\n",
    "\n",
    "plt.plot(Pdf, '--')\n",
    "\n",
    "plt.axvline(x=s_mean, color='green')\n",
    "plt.text(s_mean, 10, '$\\mu = %.2f$' % s_mean)\n",
    "\n",
    "for i in range(-2,3):\n",
    "    if (i != 0):\n",
    "        x = s_mean + s_std * i\n",
    "        plt.axvline(x=x, color='lightgrey', linestyle=':')\n",
    "        plt.text(x, 0, '$ %d \\sigma$' % i)"
   ]
  },
  {
   "cell_type": "markdown",
   "metadata": {},
   "source": [
    "16.\tDraw the legend."
   ]
  },
  {
   "cell_type": "code",
   "execution_count": null,
   "metadata": {},
   "outputs": [],
   "source": [
    "plt.figure()\n",
    "plt.plot(bin_centers, hist)\n",
    "plt.xticks(bin_centers, labels, rotation='vertical')\n",
    "\n",
    "plt.plot(Pdf, '--')\n",
    "\n",
    "plt.axvline(x=s_mean, color='green')\n",
    "plt.text(s_mean, 10, '$\\mu = %.2f$' % s_mean)\n",
    "\n",
    "for i in range(-2,3):\n",
    "    if (i != 0):\n",
    "        x = s_mean + s_std * i\n",
    "        plt.axvline(x=x, color='lightgrey', linestyle=':')\n",
    "        plt.text(x, 0, '$ %d \\sigma$' % i)\n",
    "        \n",
    "plt.legend(['Score Counts','Reference'])"
   ]
  },
  {
   "cell_type": "markdown",
   "metadata": {},
   "source": [
    "There are total 7 lines in the graph including the score counts (result of the histogram), reference (the result of pdf), mean, and the lines about the standard division. But, we don’t show all of them in the legend. \n",
    "\n",
    "In the statement above, we pass a list with two strings that mean we want to show the first two lines with the labels stored in the list."
   ]
  }
 ],
 "metadata": {
  "kernelspec": {
   "display_name": "Python 3",
   "language": "python",
   "name": "python3"
  },
  "language_info": {
   "codemirror_mode": {
    "name": "ipython",
    "version": 3
   },
   "file_extension": ".py",
   "mimetype": "text/x-python",
   "name": "python",
   "nbconvert_exporter": "python",
   "pygments_lexer": "ipython3",
   "version": "3.7.4"
  }
 },
 "nbformat": 4,
 "nbformat_minor": 2
}
