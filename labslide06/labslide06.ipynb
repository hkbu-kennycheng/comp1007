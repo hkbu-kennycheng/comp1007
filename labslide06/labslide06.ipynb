{
 "cells": [
  {
   "cell_type": "markdown",
   "metadata": {
    "slideshow": {
     "slide_type": "slide"
    }
   },
   "source": [
    "# Lab 6 Introduction to Pandas\n",
    "\n",
    "- What is Pandas?\n",
    "- Series\n",
    "    - Time Series\n",
    "- Introduction of DataFrame\n",
    "    - Index Object\n",
    "    - Generating and Viewing\n",
    "    - Indexing and Selection\n",
    "    - Operations\n",
    "    - Handling Missing Data\n",
    "- Advanced DataFrame\n",
    "    - Advanced Operations\n",
    "    - Hierarchical indexing (MultiIndex)\n",
    "    - Data Reshaping and Pivot Table"
   ]
  },
  {
   "cell_type": "markdown",
   "metadata": {
    "slideshow": {
     "slide_type": "slide"
    }
   },
   "source": [
    "# Lab 6 Introduction to Pandas\n",
    "\n",
    "- What is Pandas?\n",
    "- <span style=\"color:#aaa\">Series</span>\n",
    "    - <span style=\"color:#aaa\">Time Series</span>\n",
    "- <span style=\"color:#aaa\">DataFrame</span>\n",
    "    - <span style=\"color:#aaa\">Index Object</span>\n",
    "    - <span style=\"color:#aaa\">Generating and Viewing</span>\n",
    "    - <span style=\"color:#aaa\">Indexing and Selection</span>\n",
    "    - <span style=\"color:#aaa\">Operations</span>\n",
    "    - <span style=\"color:#aaa\">Missing Data</span>\n",
    "- <span style=\"color:#aaa\">Advanced DataFrame</span>\n",
    "    - <span style=\"color:#aaa\">Advanced Operations</span>\n",
    "    - <span style=\"color:#aaa\">Hierarchical indexing (MultiIndex)</span>\n",
    "    - <span style=\"color:#aaa\">Data Reshaping and Pivot Table</span>"
   ]
  },
  {
   "cell_type": "markdown",
   "metadata": {
    "slideshow": {
     "slide_type": "subslide"
    }
   },
   "source": [
    "## What is Pandas?\n",
    "- High performance open-source Python library for data manipulation and analysis\n",
    "- Developed (on top of NumPy) by Wes McKinney at 2008\n",
    "- Popular versions: 0.20 (2017) ~ 0.25 (2019)\n",
    "- Latest version (Jan 2020): 1.0\n",
    "- We usually use an alias pd for pandas, like np for numpy"
   ]
  },
  {
   "cell_type": "code",
   "execution_count": null,
   "metadata": {
    "slideshow": {
     "slide_type": "fragment"
    }
   },
   "outputs": [],
   "source": [
    "import pandas as pd\n",
    "pd.__version__\n",
    "\n",
    "import numpy as np"
   ]
  },
  {
   "cell_type": "markdown",
   "metadata": {
    "slideshow": {
     "slide_type": "subslide"
    }
   },
   "source": [
    "## Why Pandas?\n",
    "- NumPy is good for well-formatted and homogeneous data. But real-world data is more complex and noisy.\n",
    "- Pandas is designed for data wrangling (or munging): transform data from the raw form into another format, making it more appropriate for data analytics. It works similar to spreadsheet programs.\n",
    "\n",
    "**Installation**\n",
    "- with Conda: **conda install pandas**\n",
    "- with PyPI (Python Package Index): pip install pandas\n",
    "\n",
    "**Reference**\n",
    "- https://pandas.pydata.org/docs/index.html \n",
    "- Getting started: https://pandas.pydata.org/docs/getting_started/index.html\n",
    "- User guide: https://pandas.pydata.org/docs/user_guide/index.html"
   ]
  },
  {
   "cell_type": "markdown",
   "metadata": {
    "slideshow": {
     "slide_type": "subslide"
    }
   },
   "source": [
    "## Pandas Data Structures\n",
    "\n",
    "- **1-dimensional: _Series_**\n",
    "    - 1D labeled homogeneously-typed array\n",
    "- **2-dimensional: _DataFrame_**\n",
    "    - General 2D labeled, size-mutable tabular structure with potentially heterogeneously-typed column\n",
    "- _**Remark**: there was a 3-dimensional data structure **Panel** in earlier versions of Pandas (0.24 or before), which was removed since version 0.25._\n"
   ]
  },
  {
   "cell_type": "markdown",
   "metadata": {
    "slideshow": {
     "slide_type": "subslide"
    }
   },
   "source": [
    "### A Quick Review of Dict (Dictionary)\n",
    "**Dict** in Python is a flexibly-sized collection of key-value pairs, where key and value are Python objects."
   ]
  },
  {
   "cell_type": "code",
   "execution_count": null,
   "metadata": {
    "slideshow": {
     "slide_type": "fragment"
    }
   },
   "outputs": [],
   "source": [
    "# E.g., the following statement creates a dict with three key-value pairs:\n",
    "d = {'name':'CHAN TAI MAN', 'birth':2001, 'grade':86.5}\n",
    "print(d)"
   ]
  },
  {
   "cell_type": "code",
   "execution_count": null,
   "metadata": {
    "slideshow": {
     "slide_type": "fragment"
    }
   },
   "outputs": [],
   "source": [
    "# To access a value in a dict, we need to know its corresponding key:\n",
    "print(d['name'], d['birth'], d['grade'])"
   ]
  },
  {
   "cell_type": "code",
   "execution_count": null,
   "metadata": {
    "slideshow": {
     "slide_type": "fragment"
    }
   },
   "outputs": [],
   "source": [
    "# We can add new key-value pair directly by assignment:\n",
    "d['phone'] = '65658888'\n",
    "print(d)"
   ]
  },
  {
   "cell_type": "markdown",
   "metadata": {
    "slideshow": {
     "slide_type": "slide"
    }
   },
   "source": [
    "# Lab 6 Introduction to Pandas\n",
    "\n",
    "- <span style=\"color:#aaa\">What is Pandas?</span>\n",
    "- Series\n",
    "    - <span style=\"color:#aaa\">Time Series</span>\n",
    "- <span style=\"color:#aaa\">DataFrame</span>\n",
    "    - <span style=\"color:#aaa\">Index Object</span>\n",
    "    - <span style=\"color:#aaa\">Generating and Viewing</span>\n",
    "    - <span style=\"color:#aaa\">Indexing and Selection</span>\n",
    "    - <span style=\"color:#aaa\">Operations</span>\n",
    "    - <span style=\"color:#aaa\">Missing Data</span>\n",
    "- <span style=\"color:#aaa\">Advanced DataFrame</span>\n",
    "    - <span style=\"color:#aaa\">Advanced Operations</span>\n",
    "    - <span style=\"color:#aaa\">Hierarchical indexing (MultiIndex)</span>\n",
    "    - <span style=\"color:#aaa\">Data Reshaping and Pivot Table</span>"
   ]
  },
  {
   "cell_type": "markdown",
   "metadata": {
    "slideshow": {
     "slide_type": "subslide"
    }
   },
   "source": [
    "## Series\n",
    "**Series** is a 1-dimensional **labeled array**, capable of holding any data type (integers, strings, floating point numbers, Python objects, etc.).\n",
    "- All data items in a Series must be the same data type\n",
    "- Each item in the array has an associatied **label**, also called **index**.\n",
    "- Why do we need labels?\n",
    "    - Like a dict, a data time can be quickly located by its label.\n",
    "    - **Remark 1**: Unlike a dict, labels in a Series don't need to be unique\n",
    "    - **Remark 2**: Unlike a dict, the size of a Series is fixed after its creation\n",
    "- Importtant attributes of a Series **s**:\n",
    "\n",
    "|attribute|description|\n",
    "|---------|-----------|\n",
    "|_s.values_|its data|\n",
    "| _s.index_|its labels|\n",
    "|_s.dtype_|its data type|\n",
    "|_s.size_|its size|"
   ]
  },
  {
   "cell_type": "markdown",
   "metadata": {
    "slideshow": {
     "slide_type": "subslide"
    }
   },
   "source": [
    "## Examples: Create Series by pd.Series()\n",
    "\n",
    "Create a Series object from an ndarray with random values"
   ]
  },
  {
   "cell_type": "code",
   "execution_count": null,
   "metadata": {
    "slideshow": {
     "slide_type": "fragment"
    }
   },
   "outputs": [],
   "source": [
    "s = pd.Series(np.random.randn(3))\n",
    "print(s)"
   ]
  },
  {
   "cell_type": "markdown",
   "metadata": {
    "slideshow": {
     "slide_type": "fragment"
    }
   },
   "source": [
    "create a Series object from an ndarray with the index."
   ]
  },
  {
   "cell_type": "code",
   "execution_count": null,
   "metadata": {
    "slideshow": {
     "slide_type": "fragment"
    }
   },
   "outputs": [],
   "source": [
    "s = pd.Series(np.random.randn(3), index=['a', 'b', 'c'])\n",
    "print(s)"
   ]
  },
  {
   "cell_type": "markdown",
   "metadata": {
    "slideshow": {
     "slide_type": "fragment"
    }
   },
   "source": [
    "create a Series object from an ndarray with the same index."
   ]
  },
  {
   "cell_type": "code",
   "execution_count": null,
   "metadata": {
    "slideshow": {
     "slide_type": "fragment"
    }
   },
   "outputs": [],
   "source": [
    "s = pd.Series(np.random.randn(3), index=['a', 'a', 'a'])\n",
    "print(s)"
   ]
  },
  {
   "cell_type": "markdown",
   "metadata": {
    "slideshow": {
     "slide_type": "subslide"
    }
   },
   "source": [
    "### Examples: Create Series by pd.Series()\n",
    "\n",
    " create a Series object from a scalar with the index"
   ]
  },
  {
   "cell_type": "code",
   "execution_count": null,
   "metadata": {
    "slideshow": {
     "slide_type": "fragment"
    }
   },
   "outputs": [],
   "source": [
    "s = pd.Series(10.0, index=['a', 'b', 'c', 'd', 'e'])\n",
    "print(s)\n",
    "print(s.size)\n",
    "print(s.values)\n",
    "print(s.index)"
   ]
  },
  {
   "cell_type": "markdown",
   "metadata": {
    "slideshow": {
     "slide_type": "fragment"
    }
   },
   "source": [
    "create a Series object from a dict without specifying the index"
   ]
  },
  {
   "cell_type": "code",
   "execution_count": null,
   "metadata": {
    "slideshow": {
     "slide_type": "fragment"
    }
   },
   "outputs": [],
   "source": [
    "d = {'b': 1, 'a': 0, 'c': 2}\n",
    "s = pd.Series(d)\n",
    "print(s)"
   ]
  },
  {
   "cell_type": "markdown",
   "metadata": {
    "slideshow": {
     "slide_type": "subslide"
    }
   },
   "source": [
    "### Examples: Create Series by pd.Series()\n",
    "\n",
    "create a Series object from a dict with the index. **Caution**: the index may not match the keys of your dict!"
   ]
  },
  {
   "cell_type": "code",
   "execution_count": null,
   "metadata": {
    "slideshow": {
     "slide_type": "fragment"
    }
   },
   "outputs": [],
   "source": [
    "d = {'a': 0., 'b': 1., 'c': 2.}\n",
    "s = pd.Series(d, index=['b', 'c', 'd', 'a'])\n",
    "print(s)"
   ]
  },
  {
   "cell_type": "markdown",
   "metadata": {
    "slideshow": {
     "slide_type": "fragment"
    }
   },
   "source": [
    "**Remarks**\n",
    "- NaN (not a number) is the standard missing data marker used in pandas.\n",
    "- Numpy explicitly defines numpy.nan (or np.nan). It is very useful in data analytics"
   ]
  },
  {
   "cell_type": "markdown",
   "metadata": {
    "slideshow": {
     "slide_type": "subslide"
    }
   },
   "source": [
    "## Examples: Series acts similarly to an 1-D ndarray\n",
    "\n",
    "Although we defined our own index, we can still use the default index 0, 1, …, 4 to access the values."
   ]
  },
  {
   "cell_type": "code",
   "execution_count": null,
   "metadata": {
    "slideshow": {
     "slide_type": "fragment"
    }
   },
   "outputs": [],
   "source": [
    "s = pd.Series(np.random.randn(5), index=['a', 'b', 'c', 'd', 'e'])\n",
    "print(s)\n",
    "print(s[0])\n",
    "print(s[:3])"
   ]
  },
  {
   "cell_type": "code",
   "execution_count": null,
   "metadata": {
    "slideshow": {
     "slide_type": "fragment"
    }
   },
   "outputs": [],
   "source": [
    "print(s['a'])\n",
    "s['c'] = 1.2345\n",
    "print(s)\n",
    "print('e' in s)\n",
    "print('f' in s)"
   ]
  },
  {
   "cell_type": "markdown",
   "metadata": {
    "slideshow": {
     "slide_type": "subslide"
    }
   },
   "source": [
    "## Examples: Series acts similarly to an 1-D ndarray\n",
    "\n",
    "Vertorized operations and label alignment"
   ]
  },
  {
   "cell_type": "code",
   "execution_count": null,
   "metadata": {
    "slideshow": {
     "slide_type": "fragment"
    }
   },
   "outputs": [],
   "source": [
    "print(s)\n",
    "print(s*2)\n",
    "print(np.exp(s))\n",
    "print(s[1:])\n",
    "print(s[:-1])\n",
    "print(s[1:] + s[:-1]) # be careful"
   ]
  },
  {
   "cell_type": "markdown",
   "metadata": {
    "slideshow": {
     "slide_type": "fragment"
    }
   },
   "source": [
    "### Remark\n",
    "- Operations between Series automatically align the data based on label.\n",
    "- If label is not found, we will get NaN"
   ]
  },
  {
   "cell_type": "markdown",
   "metadata": {
    "slideshow": {
     "slide_type": "slide"
    }
   },
   "source": [
    "# Lab 6 Introduction to Pandas\n",
    "\n",
    "- <span style=\"color:#aaa\">What is Pandas?</span>\n",
    "- <span style=\"color:#aaa\">Series</span>\n",
    "    - Time Series\n",
    "- <span style=\"color:#aaa\">DataFrame</span>\n",
    "    - <span style=\"color:#aaa\">Index Object</span>\n",
    "    - <span style=\"color:#aaa\">Generating and Viewing</span>\n",
    "    - <span style=\"color:#aaa\">Indexing and Selection</span>\n",
    "    - <span style=\"color:#aaa\">Operations</span>\n",
    "    - <span style=\"color:#aaa\">Missing Data</span>\n",
    "- <span style=\"color:#aaa\">Advanced DataFrame</span>\n",
    "    - <span style=\"color:#aaa\">Advanced Operations</span>\n",
    "    - <span style=\"color:#aaa\">Hierarchical indexing (MultiIndex)</span>\n",
    "    - <span style=\"color:#aaa\">Data Reshaping and Pivot Table</span>"
   ]
  },
  {
   "cell_type": "markdown",
   "metadata": {
    "slideshow": {
     "slide_type": "slide"
    }
   },
   "source": [
    "## Time Series\n",
    "Time series data is a sequence of data measured or observed at many points in time.\n",
    "\n",
    "- Very often, time series are with a fixed frequency, i.e., the time interval between two consecutive measurements is fixed.\n",
    "\n",
    "Python standard library has the **datetime** module to handle date and time data"
   ]
  },
  {
   "cell_type": "code",
   "execution_count": null,
   "metadata": {
    "slideshow": {
     "slide_type": "fragment"
    }
   },
   "outputs": [],
   "source": [
    "# the 1st datetime is the module name, the 2nd is class name\n",
    "from datetime import datetime \n",
    "from datetime import timedelta"
   ]
  },
  {
   "cell_type": "markdown",
   "metadata": {
    "slideshow": {
     "slide_type": "fragment"
    }
   },
   "source": [
    "- A **datetime** object stores the **date** and **time** information. \n",
    "- A **timedelta** object represents the **time difference** between two datetime objects"
   ]
  },
  {
   "cell_type": "markdown",
   "metadata": {
    "slideshow": {
     "slide_type": "subslide"
    }
   },
   "source": [
    "## Time Series Examples\n",
    "\n",
    "Get datetime from now"
   ]
  },
  {
   "cell_type": "code",
   "execution_count": null,
   "metadata": {
    "slideshow": {
     "slide_type": "fragment"
    }
   },
   "outputs": [],
   "source": [
    "now1 = datetime.now()\n",
    "print(now1)\n",
    "print(now1.year, now1.month, now1.day)\n",
    "print(now1.hour, now1.minute, now1.second, now1.microsecond)"
   ]
  },
  {
   "cell_type": "markdown",
   "metadata": {
    "slideshow": {
     "slide_type": "fragment"
    }
   },
   "source": [
    "Get datetime from a bit later"
   ]
  },
  {
   "cell_type": "code",
   "execution_count": null,
   "metadata": {
    "slideshow": {
     "slide_type": "fragment"
    }
   },
   "outputs": [],
   "source": [
    "now2 = datetime.now()\n",
    "print(now2)"
   ]
  },
  {
   "cell_type": "markdown",
   "metadata": {
    "slideshow": {
     "slide_type": "subslide"
    }
   },
   "source": [
    "# Time Series Examples\n",
    "\n",
    "To see the difference between each time value\n",
    "- ~1000 mircosecond (0.001 second)\n",
    "- it will be different from different hardware"
   ]
  },
  {
   "cell_type": "code",
   "execution_count": null,
   "metadata": {
    "slideshow": {
     "slide_type": "fragment"
    }
   },
   "outputs": [],
   "source": [
    "delta = now2 - now1\n",
    "print(delta)"
   ]
  },
  {
   "cell_type": "markdown",
   "metadata": {
    "slideshow": {
     "slide_type": "fragment"
    }
   },
   "source": [
    "Time calculation"
   ]
  },
  {
   "cell_type": "code",
   "execution_count": null,
   "metadata": {
    "slideshow": {
     "slide_type": "fragment"
    }
   },
   "outputs": [],
   "source": [
    "start = datetime(2020, 3, 5)\n",
    "print(start)\n",
    "end = start + timedelta(12)\n",
    "print(end)"
   ]
  },
  {
   "cell_type": "markdown",
   "metadata": {
    "slideshow": {
     "slide_type": "subslide"
    }
   },
   "source": [
    "# Time Series Examples\n",
    "\n",
    "Pandas provides the **date_range()** function to easily create a sequence of time points as an index."
   ]
  },
  {
   "cell_type": "code",
   "execution_count": null,
   "metadata": {
    "slideshow": {
     "slide_type": "fragment"
    }
   },
   "outputs": [],
   "source": [
    "# generate 100 time points with an interval of 1 second\n",
    "rng = pd.date_range('1/1/2020', periods=100, freq='S')\n",
    "rng"
   ]
  },
  {
   "cell_type": "code",
   "execution_count": null,
   "metadata": {
    "slideshow": {
     "slide_type": "fragment"
    }
   },
   "outputs": [],
   "source": [
    "# generate a time Series with 100 values, using rng as the index\n",
    "ts = pd.Series(np.random.randint(0, 500, len(rng)), index=rng)\n",
    "ts"
   ]
  },
  {
   "cell_type": "code",
   "execution_count": null,
   "metadata": {
    "slideshow": {
     "slide_type": "fragment"
    }
   },
   "outputs": [],
   "source": [
    "# generate 50 time points with an interval of 1 day\n",
    "rng2 = pd.date_range('1/1/2020', periods=100, freq='D')\n",
    "ts2 = pd.Series(np.random.randint(0, 500, len(rng2)), index=rng2)\n",
    "ts2"
   ]
  },
  {
   "cell_type": "markdown",
   "metadata": {
    "slideshow": {
     "slide_type": "subslide"
    }
   },
   "source": [
    "## Using COVID-19 data as an example\n",
    "\n",
    "use pd.read_csv() to load data, `sequeeze=True` indicates single column and it will return a Series"
   ]
  },
  {
   "cell_type": "code",
   "execution_count": null,
   "metadata": {
    "slideshow": {
     "slide_type": "fragment"
    }
   },
   "outputs": [],
   "source": [
    "ser = pd.read_csv('cases_mainland_china.csv', parse_dates=['date'], index_col='date', squeeze=True)\n",
    "ser.head()\n",
    "ser.tail()"
   ]
  },
  {
   "cell_type": "code",
   "execution_count": null,
   "metadata": {
    "slideshow": {
     "slide_type": "fragment"
    }
   },
   "outputs": [],
   "source": [
    "# Time Series Visualization\n",
    "ser.plot.line()"
   ]
  },
  {
   "cell_type": "code",
   "execution_count": null,
   "metadata": {
    "slideshow": {
     "slide_type": "fragment"
    }
   },
   "outputs": [],
   "source": [
    "ser.plot.bar()"
   ]
  },
  {
   "cell_type": "code",
   "execution_count": null,
   "metadata": {
    "slideshow": {
     "slide_type": "fragment"
    }
   },
   "outputs": [],
   "source": [
    "# Time Series Analysis\n",
    "# How to find the new cases every day?\n",
    "diff=ser.diff()\n",
    "diff.plot.bar()"
   ]
  },
  {
   "cell_type": "markdown",
   "metadata": {
    "slideshow": {
     "slide_type": "subslide"
    }
   },
   "source": [
    "## Series Summary\n",
    "\n",
    "- Attributes of a Series object s:\n",
    "    - s.values, s.index, s.dtype, s.size\n",
    "- To create a Pandas Series object by pd.Series():\n",
    "    - from an ndaaray with and without index\n",
    "    - from a scalar with index\n",
    "    - from a dict with and without index\n",
    "- To access data in a Series object s:\n",
    "    - by default integer index `s[0]`, `s[1]`, …\n",
    "    - by the user-specified index like a dict\n",
    "    - vectorized operations like an ndarray\n",
    "- Time Series\n",
    "    - datetime and timedelta objects (in the datetime module)\n",
    "    - **pd.date_range()** can generate a sequence of time points\n",
    "    - **pd.read_csv()** can read CSV data as a Series\n",
    "    - Visualization: **Series.plot.line()** and **Series.plot.bar()**"
   ]
  },
  {
   "cell_type": "markdown",
   "metadata": {
    "slideshow": {
     "slide_type": "slide"
    }
   },
   "source": [
    "# Lab 6 Introduction to Pandas\n",
    "\n",
    "- <span style=\"color:#aaa\">What is Pandas?</span>\n",
    "- <span style=\"color:#aaa\">Series</span>\n",
    "    - <span style=\"color:#aaa\">Time Series</span>\n",
    "- DataFrame\n",
    "    - <span style=\"color:#aaa\">Index Object</span>\n",
    "    - <span style=\"color:#aaa\">Generating and Viewing</span>\n",
    "    - <span style=\"color:#aaa\">Indexing and Selection</span>\n",
    "    - <span style=\"color:#aaa\">Operations</span>\n",
    "    - <span style=\"color:#aaa\">Missing Data</span>\n",
    "- <span style=\"color:#aaa\">Advanced DataFrame</span>\n",
    "    - <span style=\"color:#aaa\">Advanced Operations</span>\n",
    "    - <span style=\"color:#aaa\">Hierarchical indexing (MultiIndex)</span>\n",
    "    - <span style=\"color:#aaa\">Data Reshaping and Pivot Table</span>"
   ]
  },
  {
   "cell_type": "markdown",
   "metadata": {
    "slideshow": {
     "slide_type": "subslide"
    }
   },
   "source": [
    "## DataFrame\n",
    "\n",
    "A 2-dimensional labeled data structure with columns of potentially different types\n",
    "- Similar to a spreadsheet in Excel\n",
    "- Each column is actually a Series object, so a DataFrame can be regarded as a dict of Series objects\n",
    "\n",
    "A DataFrame can be generated by **pd.DataFrame()** from different sources:\n",
    "- Dict of 1-D ndarrays, lists, dicts, or Series\n",
    "- 2-D ndarrays\n",
    "- A Series\n",
    "- Another DataFrame "
   ]
  },
  {
   "cell_type": "markdown",
   "metadata": {
    "slideshow": {
     "slide_type": "subslide"
    }
   },
   "source": [
    "# Lab 6 Introduction to Pandas\n",
    "\n",
    "- <span style=\"color:#aaa\">What is Pandas?</span>\n",
    "- <span style=\"color:#aaa\">Series</span>\n",
    "    - <span style=\"color:#aaa\">Time Series</span>\n",
    "- DataFrame\n",
    "    - Index Object\n",
    "    - <span style=\"color:#aaa\">Generating and Viewing</span>\n",
    "    - <span style=\"color:#aaa\">Indexing and Selection</span>\n",
    "    - <span style=\"color:#aaa\">Operations</span>\n",
    "    - <span style=\"color:#aaa\">Missing Data</span>\n",
    "- <span style=\"color:#aaa\">Advanced DataFrame</span>\n",
    "    - <span style=\"color:#aaa\">Advanced Operations</span>\n",
    "    - <span style=\"color:#aaa\">Hierarchical indexing (MultiIndex)</span>\n",
    "    - <span style=\"color:#aaa\">Data Reshaping and Pivot Table</span>"
   ]
  },
  {
   "cell_type": "markdown",
   "metadata": {
    "slideshow": {
     "slide_type": "subslide"
    }
   },
   "source": [
    "## Index object\n",
    "\n",
    "**Index object** is used to organize your data so that a data item can be quickly accessed through its index. \n",
    "\n",
    "In Pandas, a Series or DataFrame object contains an explicit **Index object** that allows us to quickly reference a data item. \n",
    "*Remark: an Index object contains all the indices of the data.*\n",
    "\n",
    "In Pandas, there are many types of Index object, such as\n",
    "- RangeIndex, Int64Index, Float64Index, DatetimeIndex\n",
    "- CategoricalIndex, IntervalIndex\n",
    "- MultiIndex\n",
    "\n",
    "The Index object can be thought of either as an **immutable array** or an **ordered set**."
   ]
  },
  {
   "cell_type": "markdown",
   "metadata": {
    "slideshow": {
     "slide_type": "subslide"
    }
   },
   "source": [
    "### Examples of Index Object in Series"
   ]
  },
  {
   "cell_type": "code",
   "execution_count": null,
   "metadata": {
    "slideshow": {
     "slide_type": "fragment"
    }
   },
   "outputs": [],
   "source": [
    "# create a Series object from a dict\n",
    "d = {'b': 1, 'a': 0, 'c': 2}\n",
    "s = pd.Series(d)\n",
    "print(s)\n",
    "print(s.index)"
   ]
  },
  {
   "cell_type": "code",
   "execution_count": null,
   "metadata": {
    "slideshow": {
     "slide_type": "fragment"
    }
   },
   "outputs": [],
   "source": [
    "# reindex (Remark: s will not be affected)\n",
    "s2 = s.reindex(['a', 'b', 'c', 'd'])\n",
    "print(s2)"
   ]
  },
  {
   "cell_type": "code",
   "execution_count": null,
   "metadata": {
    "slideshow": {
     "slide_type": "fragment"
    }
   },
   "outputs": [],
   "source": [
    "# create a Series object from an ndarray\n",
    "s = pd.Series(np.random.randn(5))\n",
    "print(s.index)"
   ]
  },
  {
   "cell_type": "markdown",
   "metadata": {
    "slideshow": {
     "slide_type": "subslide"
    }
   },
   "source": [
    "### Examples of Create Index Object Explicitly"
   ]
  },
  {
   "cell_type": "code",
   "execution_count": null,
   "metadata": {
    "slideshow": {
     "slide_type": "fragment"
    }
   },
   "outputs": [],
   "source": [
    "# create integer index\n",
    "ind = pd.Index([1, 3, 5, 7, 9])\n",
    "print(ind)"
   ]
  },
  {
   "cell_type": "code",
   "execution_count": null,
   "metadata": {
    "slideshow": {
     "slide_type": "fragment"
    }
   },
   "outputs": [],
   "source": [
    "# create object index\n",
    "strd = pd.Index(['Tom', 'Bob', 'Rose'])\n",
    "print(strd)"
   ]
  },
  {
   "cell_type": "code",
   "execution_count": null,
   "metadata": {
    "slideshow": {
     "slide_type": "fragment"
    }
   },
   "outputs": [],
   "source": [
    "# create a Datatime index\n",
    "rng = pd.date_range('1/1/2020', periods=4, freq='M')\n",
    "print(rng)"
   ]
  },
  {
   "cell_type": "code",
   "execution_count": null,
   "metadata": {
    "slideshow": {
     "slide_type": "fragment"
    }
   },
   "outputs": [],
   "source": [
    "# An index object can operate like an immutable array\n",
    "ind = pd.Index([2, 4, 6, 8, 10])\n",
    "print(ind[1])\n",
    "print(ind[2:])\n",
    "print(ind[:3])\n",
    "print(ind[1:5:2])\n",
    "print(ind.size, ind.shape, ind.ndim, ind.dtype)"
   ]
  },
  {
   "cell_type": "markdown",
   "metadata": {
    "slideshow": {
     "slide_type": "subslide"
    }
   },
   "source": [
    "### Index as an Ordered Set ###\n",
    "- Sometimes we need to process multiple Series or DataFrames using set arithmetic\n",
    "- Lets introduce four basic set operations:\n",
    "    1. Union (or)\n",
    "    2. Intersections (and)\n",
    "    3. Difference (-)\n",
    "    4. Symmetric difference (xor)\n",
    "    \n",
    "**Remark**: Symmetric difference is equal to (Union - Intersection)"
   ]
  },
  {
   "cell_type": "code",
   "execution_count": null,
   "metadata": {
    "slideshow": {
     "slide_type": "fragment"
    }
   },
   "outputs": [],
   "source": [
    "indA = pd.Index([1, 3, 5, 7, 9])\n",
    "indB = pd.Index([2, 3, 5, 7, 11])\n",
    "print(indA | indB) # union ( A or B)\n",
    "print(indA & indB) # intersection ( A and B )\n",
    "print(indA.difference(indB)) # difference ( A - B )\n",
    "print(indA ^ indB) # symettric difference ( (AorB) - (AandB))"
   ]
  },
  {
   "cell_type": "markdown",
   "metadata": {
    "slideshow": {
     "slide_type": "subslide"
    }
   },
   "source": [
    "# Lab 6 Introduction to Pandas\n",
    "\n",
    "- <span style=\"color:#aaa\">What is Pandas?</span>\n",
    "- <span style=\"color:#aaa\">Series</span>\n",
    "    - <span style=\"color:#aaa\">Time Series</span>\n",
    "- DataFrame\n",
    "    - <span style=\"color:#aaa\">Index Object</span>\n",
    "    - Generating and Viewing\n",
    "    - <span style=\"color:#aaa\">Indexing and Selection</span>\n",
    "    - <span style=\"color:#aaa\">Operations</span>\n",
    "    - <span style=\"color:#aaa\">Missing Data</span>\n",
    "- <span style=\"color:#aaa\">Advanced DataFrame</span>\n",
    "    - <span style=\"color:#aaa\">Advanced Operations</span>\n",
    "    - <span style=\"color:#aaa\">Hierarchical indexing (MultiIndex)</span>\n",
    "    - <span style=\"color:#aaa\">Data Reshaping and Pivot Table</span>"
   ]
  },
  {
   "cell_type": "markdown",
   "metadata": {
    "slideshow": {
     "slide_type": "subslide"
    }
   },
   "source": [
    "# Examples Generatae DataFrame from dict of ndarrays or lists\n",
    "\n",
    "Generate DataFrame from dict of Series"
   ]
  },
  {
   "cell_type": "code",
   "execution_count": null,
   "metadata": {
    "slideshow": {
     "slide_type": "fragment"
    }
   },
   "outputs": [],
   "source": [
    "# without passing the index, the default index range(n) will be used\n",
    "#     where n is the array length\n",
    "d = {'one':[1., 2., 3., 4.], \n",
    "     'two':[4., 3., 2., 1.]}\n",
    "df = pd.DataFrame(d)\n",
    "print(df)"
   ]
  },
  {
   "cell_type": "code",
   "execution_count": null,
   "metadata": {
    "slideshow": {
     "slide_type": "fragment"
    }
   },
   "outputs": [],
   "source": [
    "df = pd.DataFrame(d, index=['a', 'b', 'c', 'd'])\n",
    "print(df)"
   ]
  },
  {
   "cell_type": "code",
   "execution_count": null,
   "metadata": {
    "slideshow": {
     "slide_type": "fragment"
    }
   },
   "outputs": [],
   "source": [
    "d = {'one': pd.Series([1., 2., 3.], index=['a', 'b', 'c']),\n",
    "     'two': pd.Series([1., 2., 3., 4.], index=['a', 'b', 'c', 'd'])}\n",
    "df = pd.DataFrame(d)\n",
    "print(df)"
   ]
  },
  {
   "cell_type": "markdown",
   "metadata": {
    "slideshow": {
     "slide_type": "subslide"
    }
   },
   "source": [
    "# Examples Generatae DataFrame from dict of ndarrays or lists"
   ]
  },
  {
   "cell_type": "code",
   "execution_count": null,
   "metadata": {
    "slideshow": {
     "slide_type": "fragment"
    }
   },
   "outputs": [],
   "source": [
    "# the index specifies which rows should be used\n",
    "df = pd.DataFrame(d, index=['d', 'b', 'a'])\n",
    "print(df)"
   ]
  },
  {
   "cell_type": "code",
   "execution_count": null,
   "metadata": {
    "slideshow": {
     "slide_type": "fragment"
    }
   },
   "outputs": [],
   "source": [
    "df = df.reindex(['a', 'b', 'c', 'd'])\n",
    "print(df)"
   ]
  },
  {
   "cell_type": "code",
   "execution_count": null,
   "metadata": {
    "slideshow": {
     "slide_type": "fragment"
    }
   },
   "outputs": [],
   "source": [
    "# the columns specifies which columns should be used\n",
    "df = pd.DataFrame(d, index=['d', 'b', 'a'], columns=['two', 'three'])\n",
    "print(df)"
   ]
  },
  {
   "cell_type": "code",
   "execution_count": null,
   "metadata": {
    "slideshow": {
     "slide_type": "fragment"
    }
   },
   "outputs": [],
   "source": [
    "population_dict = {'California': 38332521, 'Texas': 26448193,\n",
    "'New York': 19651127, 'Florida': 19552860, 'Illinois': 12882135}\n",
    "population = pd.Series(population_dict)\n",
    "\n",
    "area_dict = {'California': 423967, 'Texas': 695662, 'New York': 141297,\n",
    "'Florida': 170312, 'Illinois': 149995}\n",
    "area = pd.Series(area_dict)\n",
    "\n",
    "states = pd.DataFrame({'population': population, 'area': area})\n",
    "print(states)"
   ]
  },
  {
   "cell_type": "markdown",
   "metadata": {
    "slideshow": {
     "slide_type": "subslide"
    }
   },
   "source": [
    "# Examples Generate DataFrame from 2-D ndarray"
   ]
  },
  {
   "cell_type": "code",
   "execution_count": null,
   "metadata": {
    "slideshow": {
     "slide_type": "fragment"
    }
   },
   "outputs": [],
   "source": [
    "dates = pd.date_range('20200305', periods=5)\n",
    "print(dates)"
   ]
  },
  {
   "cell_type": "code",
   "execution_count": null,
   "metadata": {
    "slideshow": {
     "slide_type": "fragment"
    }
   },
   "outputs": [],
   "source": [
    "df = pd.DataFrame(np.random.randn(5, 4), index=dates, columns=list('ABCD'))\n",
    "print(df)"
   ]
  },
  {
   "cell_type": "markdown",
   "metadata": {
    "slideshow": {
     "slide_type": "fragment"
    }
   },
   "source": [
    "**Remark**: list('ABCD') gives us `['A', 'B', 'C', 'D']`"
   ]
  },
  {
   "cell_type": "markdown",
   "metadata": {
    "slideshow": {
     "slide_type": "subslide"
    }
   },
   "source": [
    "## Examples Viewing Raw Data\n",
    "\n",
    "We can view the DataFrame as an enhanced two-dimensional array. The raw underlying data array of a DataFrame can be accessed through **pd.values**.\n"
   ]
  },
  {
   "cell_type": "code",
   "execution_count": null,
   "metadata": {
    "slideshow": {
     "slide_type": "fragment"
    }
   },
   "outputs": [],
   "source": [
    "print(df.values)\n",
    "type(df.values)\n",
    "print(df.values[0])"
   ]
  },
  {
   "cell_type": "code",
   "execution_count": null,
   "metadata": {
    "slideshow": {
     "slide_type": "fragment"
    }
   },
   "outputs": [],
   "source": [
    "# Viewing Frame Data\n",
    "df.head(3)\n",
    "df.tail(3)"
   ]
  },
  {
   "cell_type": "code",
   "execution_count": null,
   "metadata": {
    "slideshow": {
     "slide_type": "fragment"
    }
   },
   "outputs": [],
   "source": [
    "# Display the Index and Column Labels\n",
    "df.index # row index\n",
    "df.columns # column index"
   ]
  },
  {
   "cell_type": "markdown",
   "metadata": {
    "slideshow": {
     "slide_type": "subslide"
    }
   },
   "source": [
    "## Examples Statistic Summary\n",
    "\n",
    "**pd.describe()** display some static of numeric columns"
   ]
  },
  {
   "cell_type": "code",
   "execution_count": null,
   "metadata": {
    "slideshow": {
     "slide_type": "fragment"
    }
   },
   "outputs": [],
   "source": [
    "df.describe()"
   ]
  },
  {
   "cell_type": "markdown",
   "metadata": {
    "slideshow": {
     "slide_type": "fragment"
    }
   },
   "source": [
    "In the 2-D DataFrame, there are two axes.\n",
    "- axis = 0: the vertical direction (or row-wise)\n",
    "- axis = 1: the horizontal direction (or column-wise)"
   ]
  },
  {
   "cell_type": "code",
   "execution_count": null,
   "metadata": {
    "slideshow": {
     "slide_type": "fragment"
    }
   },
   "outputs": [],
   "source": [
    "df.sort_index(axis=1, ascending=False) # Sorting by an axis"
   ]
  },
  {
   "cell_type": "code",
   "execution_count": null,
   "metadata": {
    "slideshow": {
     "slide_type": "fragment"
    }
   },
   "outputs": [],
   "source": [
    "df.sort_values(by='B') # Given many rows, how to sort them according to the values in some column?"
   ]
  },
  {
   "cell_type": "code",
   "execution_count": null,
   "metadata": {
    "slideshow": {
     "slide_type": "fragment"
    }
   },
   "outputs": [],
   "source": [
    "df.sort_values(by='B', ascending=False) # try it"
   ]
  },
  {
   "cell_type": "markdown",
   "metadata": {
    "slideshow": {
     "slide_type": "subslide"
    }
   },
   "source": [
    "# Lab 6 Introduction to Pandas\n",
    "\n",
    "- <span style=\"color:#aaa\">What is Pandas?</span>\n",
    "- <span style=\"color:#aaa\">Series</span>\n",
    "    - <span style=\"color:#aaa\">Time Series</span>\n",
    "- DataFrame\n",
    "    - <span style=\"color:#aaa\">Index Object</span>\n",
    "    - <span style=\"color:#aaa\">Generating and Viewing</span>\n",
    "    - Indexing and Selection\n",
    "    - <span style=\"color:#aaa\">Operations</span>\n",
    "    - <span style=\"color:#aaa\">Missing Data</span>\n",
    "- <span style=\"color:#aaa\">Advanced DataFrame</span>\n",
    "    - <span style=\"color:#aaa\">Advanced Operations</span>\n",
    "    - <span style=\"color:#aaa\">Hierarchical indexing (MultiIndex)</span>\n",
    "    - <span style=\"color:#aaa\">Data Reshaping and Pivot Table</span>"
   ]
  },
  {
   "cell_type": "markdown",
   "metadata": {
    "slideshow": {
     "slide_type": "subslide"
    }
   },
   "source": [
    "DataFrame offers df.loc and df.iloc attributies to access the data.\n",
    "- `df.loc[]` allows indexing and slicing using explicit index (i.e., label)\n",
    "- `df.iloc[]` allows indexing and slicing using the implicit integer index (i.e., location)\n",
    "\n",
    "|Operation|Example|Return type|\n",
    "|---------|-------|-----------|\n",
    "|Select a column by label|`df[label]`|Series|\n",
    "|Select a row by label|`df.loc[label]`|Series|\n",
    "|Select a row by integer location|`df.iloc[loc]`|Series|\n",
    "|Slice rows|`df[5:10]`<br>`df.iloc[5:10]`<br>`df.loc[a:b]`|DataFrame|\n",
    "|Select some columns in rows|`df.iloc[a:b, c:d]`|DataFrame|"
   ]
  },
  {
   "cell_type": "markdown",
   "metadata": {
    "slideshow": {
     "slide_type": "subslide"
    }
   },
   "source": [
    "## Examples  Indexing and Selection\n",
    "\n",
    "A DataFrame can be regarded as a dict of Series objects, where each column is a Series that can be located through its column label."
   ]
  },
  {
   "cell_type": "code",
   "execution_count": null,
   "metadata": {
    "slideshow": {
     "slide_type": "fragment"
    }
   },
   "outputs": [],
   "source": [
    "df['A']"
   ]
  },
  {
   "cell_type": "code",
   "execution_count": null,
   "metadata": {
    "slideshow": {
     "slide_type": "fragment"
    }
   },
   "outputs": [],
   "source": [
    "df.A #try it"
   ]
  },
  {
   "cell_type": "markdown",
   "metadata": {
    "slideshow": {
     "slide_type": "fragment"
    }
   },
   "source": [
    "Select a Single Row"
   ]
  },
  {
   "cell_type": "code",
   "execution_count": null,
   "metadata": {
    "slideshow": {
     "slide_type": "fragment"
    }
   },
   "outputs": [],
   "source": [
    "df.loc['2020-03-06'] # by row label"
   ]
  },
  {
   "cell_type": "code",
   "execution_count": null,
   "metadata": {
    "slideshow": {
     "slide_type": "fragment"
    }
   },
   "outputs": [],
   "source": [
    "df.iloc[0] # by row position"
   ]
  },
  {
   "cell_type": "markdown",
   "metadata": {
    "slideshow": {
     "slide_type": "subslide"
    }
   },
   "source": [
    "## Examples Indexing and Selection\n",
    "\n",
    "Slicing Rows"
   ]
  },
  {
   "cell_type": "code",
   "execution_count": null,
   "metadata": {
    "slideshow": {
     "slide_type": "fragment"
    }
   },
   "outputs": [],
   "source": [
    "df[1:3]"
   ]
  },
  {
   "cell_type": "code",
   "execution_count": null,
   "metadata": {
    "slideshow": {
     "slide_type": "fragment"
    }
   },
   "outputs": [],
   "source": [
    "# the same as df[1:3]\n",
    "# row 3 is excluded\n",
    "df.iloc[1:3]"
   ]
  },
  {
   "cell_type": "code",
   "execution_count": null,
   "metadata": {
    "slideshow": {
     "slide_type": "fragment"
    }
   },
   "outputs": [],
   "source": [
    "# row '2020-03-07' is included\n",
    "df.loc['2020-03-06':'2020-03-07']"
   ]
  },
  {
   "cell_type": "markdown",
   "metadata": {
    "slideshow": {
     "slide_type": "subslide"
    }
   },
   "source": [
    "## Examples Indexing and Selection\n",
    "\n",
    "Select Some Columns of Some Rows"
   ]
  },
  {
   "cell_type": "code",
   "execution_count": null,
   "metadata": {
    "slideshow": {
     "slide_type": "fragment"
    }
   },
   "outputs": [],
   "source": [
    "# select the first 2 columns in Row 3-4\n",
    "df.iloc[3:5, 0:2]"
   ]
  },
  {
   "cell_type": "code",
   "execution_count": null,
   "metadata": {
    "slideshow": {
     "slide_type": "fragment"
    }
   },
   "outputs": [],
   "source": [
    "# select the first and the third columns in Rows[1,2,4]\n",
    "df.iloc[[1, 2, 4], [0, 2]]"
   ]
  },
  {
   "cell_type": "markdown",
   "metadata": {
    "slideshow": {
     "slide_type": "fragment"
    }
   },
   "source": [
    "Add a New Column"
   ]
  },
  {
   "cell_type": "code",
   "execution_count": null,
   "metadata": {
    "slideshow": {
     "slide_type": "fragment"
    }
   },
   "outputs": [],
   "source": [
    "s1 = pd.Series([1, 2, 3, 4, 5], index=pd.date_range('20200305', periods=5))\n",
    "print(s1)"
   ]
  },
  {
   "cell_type": "code",
   "execution_count": null,
   "metadata": {
    "slideshow": {
     "slide_type": "fragment"
    }
   },
   "outputs": [],
   "source": [
    "df['F'] = s1\n",
    "print(df)"
   ]
  },
  {
   "cell_type": "markdown",
   "metadata": {
    "slideshow": {
     "slide_type": "subslide"
    }
   },
   "source": [
    "## Examples Indexing and Selection\n",
    "\n",
    "Set Values by `at[]`, `iat[]`, `loc[]`, `iloc[]`"
   ]
  },
  {
   "cell_type": "code",
   "execution_count": null,
   "metadata": {
    "slideshow": {
     "slide_type": "fragment"
    }
   },
   "outputs": [],
   "source": [
    "df.at['2020-03-05', 'A'] = 0\n",
    "df.iat[0, 1] = 0\n",
    "print(df)"
   ]
  },
  {
   "cell_type": "code",
   "execution_count": null,
   "metadata": {
    "slideshow": {
     "slide_type": "fragment"
    }
   },
   "outputs": [],
   "source": [
    "df.loc[:, 'D'] = np.array([5] * len(df))\n",
    "print(df)"
   ]
  },
  {
   "cell_type": "code",
   "execution_count": null,
   "metadata": {
    "slideshow": {
     "slide_type": "fragment"
    }
   },
   "outputs": [],
   "source": [
    "#try it\n",
    "df.iloc[:, 1] = np.array([4]*len(df))\n",
    "print(df)"
   ]
  },
  {
   "cell_type": "markdown",
   "metadata": {
    "slideshow": {
     "slide_type": "subslide"
    }
   },
   "source": [
    "# Lab 6 Introduction to Pandas\n",
    "\n",
    "- <span style=\"color:#aaa\">What is Pandas?</span>\n",
    "- <span style=\"color:#aaa\">Series</span>\n",
    "    - <span style=\"color:#aaa\">Time Series</span>\n",
    "- DataFrame\n",
    "    - <span style=\"color:#aaa\">Index Object</span>\n",
    "    - <span style=\"color:#aaa\">Generating and Viewing</span>\n",
    "    - <span style=\"color:#aaa\">Indexing and Selection</span>\n",
    "    - Operations\n",
    "    - <span style=\"color:#aaa\">Missing Data</span>\n",
    "- <span style=\"color:#aaa\">Advanced DataFrame</span>\n",
    "    - <span style=\"color:#aaa\">Advanced Operations</span>\n",
    "    - <span style=\"color:#aaa\">Hierarchical indexing (MultiIndex)</span>\n",
    "    - <span style=\"color:#aaa\">Data Reshaping and Pivot Table</span>"
   ]
  },
  {
   "cell_type": "markdown",
   "metadata": {
    "slideshow": {
     "slide_type": "subslide"
    }
   },
   "source": [
    "## Operations on DataFrames\n",
    "\n",
    "If we apply a NumPy universal function on a Pandas object, the result will be another Pandas object with the Index preserved.\n",
    "\n",
    "\n",
    "Universal functions: https://docs.scipy.org/doc/numpy/reference/ufuncs.html#ufunc "
   ]
  },
  {
   "cell_type": "code",
   "execution_count": null,
   "metadata": {
    "slideshow": {
     "slide_type": "fragment"
    }
   },
   "outputs": [],
   "source": [
    "rng = np.random.RandomState(42)\n",
    "df = pd.DataFrame(rng.randint(0, 10, (3, 4)),\n",
    "                  columns=['A', 'B', 'C', 'D'])\n",
    "print(df)\n",
    "\n",
    "np.sin(df * np.pi / 4)"
   ]
  },
  {
   "cell_type": "markdown",
   "metadata": {
    "slideshow": {
     "slide_type": "fragment"
    }
   },
   "source": [
    "**RandomState()** is a random number generator."
   ]
  },
  {
   "cell_type": "markdown",
   "metadata": {
    "slideshow": {
     "slide_type": "subslide"
    }
   },
   "source": [
    "### Index Alignment\n",
    "\n",
    "For binary operations on two DataFrame objects, Pandas will align indices in the process of performing the operation."
   ]
  },
  {
   "cell_type": "code",
   "execution_count": null,
   "metadata": {
    "slideshow": {
     "slide_type": "fragment"
    }
   },
   "outputs": [],
   "source": [
    "A = pd.DataFrame(rng.randint(0, 20, (2, 2)),\n",
    "                 columns=list('AB'))\n",
    "print(A)"
   ]
  },
  {
   "cell_type": "code",
   "execution_count": null,
   "metadata": {
    "slideshow": {
     "slide_type": "fragment"
    }
   },
   "outputs": [],
   "source": [
    "B = pd.DataFrame(rng.randint(0, 10, (3, 3)),\n",
    "                 columns=list('BAC'))\n",
    "print(B)"
   ]
  },
  {
   "cell_type": "markdown",
   "metadata": {
    "slideshow": {
     "slide_type": "fragment"
    }
   },
   "source": [
    "- the new row Index is the union of the two row Index\n",
    "- the new column label is also the union\n",
    "- NaN for missing values"
   ]
  },
  {
   "cell_type": "code",
   "execution_count": null,
   "metadata": {
    "slideshow": {
     "slide_type": "fragment"
    }
   },
   "outputs": [],
   "source": [
    "print(A+B)"
   ]
  },
  {
   "cell_type": "markdown",
   "metadata": {
    "slideshow": {
     "slide_type": "subslide"
    }
   },
   "source": [
    "### Index Alignment and subtraction\n",
    "\n",
    "When we perform operations between a DataFrame and a Series, the index and column alignment is similarly maintained."
   ]
  },
  {
   "cell_type": "code",
   "execution_count": null,
   "metadata": {
    "slideshow": {
     "slide_type": "fragment"
    }
   },
   "outputs": [],
   "source": [
    "A = rng.randint(10, size=(3, 4))\n",
    "df = pd.DataFrame(A, columns=list('QRST'))\n",
    "print(df)"
   ]
  },
  {
   "cell_type": "markdown",
   "metadata": {
    "slideshow": {
     "slide_type": "fragment"
    }
   },
   "source": [
    "subtraction between a DataFrame and one of its rows is applied row-wise"
   ]
  },
  {
   "cell_type": "code",
   "execution_count": null,
   "metadata": {
    "slideshow": {
     "slide_type": "fragment"
    }
   },
   "outputs": [],
   "source": [
    "df - df.iloc[0]"
   ]
  },
  {
   "cell_type": "markdown",
   "metadata": {
    "slideshow": {
     "slide_type": "fragment"
    }
   },
   "source": [
    "subtraction between a DataFrame and one of its columns is applied column-wise"
   ]
  },
  {
   "cell_type": "code",
   "execution_count": null,
   "metadata": {
    "slideshow": {
     "slide_type": "fragment"
    }
   },
   "outputs": [],
   "source": [
    "df.subtract(df['R'], axis=0)"
   ]
  },
  {
   "cell_type": "markdown",
   "metadata": {
    "slideshow": {
     "slide_type": "subslide"
    }
   },
   "source": [
    "### Applying function\n",
    "\n",
    "**pd.apply(func, axis)** function can apply a given function to the whole DataFrame."
   ]
  },
  {
   "cell_type": "code",
   "execution_count": null,
   "metadata": {
    "slideshow": {
     "slide_type": "fragment"
    }
   },
   "outputs": [],
   "source": [
    "df = pd.DataFrame(np.random.randint(0,100,size = (6,2)), \n",
    "                  columns = ['first','second'])\n",
    "print(df)"
   ]
  },
  {
   "cell_type": "code",
   "execution_count": null,
   "metadata": {
    "slideshow": {
     "slide_type": "fragment"
    }
   },
   "outputs": [],
   "source": [
    "#try it\n",
    "df1 = df.apply(np.sqrt)\n",
    "print(df1)"
   ]
  },
  {
   "cell_type": "code",
   "execution_count": null,
   "metadata": {
    "slideshow": {
     "slide_type": "fragment"
    }
   },
   "outputs": [],
   "source": [
    "# downward\n",
    "df2 = df.apply(np.sum)\n",
    "print(df2)"
   ]
  },
  {
   "cell_type": "code",
   "execution_count": null,
   "metadata": {
    "slideshow": {
     "slide_type": "fragment"
    }
   },
   "outputs": [],
   "source": [
    "# rightward\n",
    "df3 = df.apply(np.sum, axis=1)\n",
    "print(df3)"
   ]
  },
  {
   "cell_type": "markdown",
   "metadata": {
    "slideshow": {
     "slide_type": "subslide"
    }
   },
   "source": [
    "# Lab 6 Introduction to Pandas\n",
    "\n",
    "- <span style=\"color:#aaa\">What is Pandas?</span>\n",
    "- <span style=\"color:#aaa\">Series</span>\n",
    "    - <span style=\"color:#aaa\">Time Series</span>\n",
    "- DataFrame\n",
    "    - <span style=\"color:#aaa\">Index Object</span>\n",
    "    - <span style=\"color:#aaa\">Generating and Viewing</span>\n",
    "    - <span style=\"color:#aaa\">Indexing and Selection</span>\n",
    "    - <span style=\"color:#aaa\">Operations</span>\n",
    "    - Missing Data\n",
    "- <span style=\"color:#aaa\">Advanced DataFrame</span>\n",
    "    - <span style=\"color:#aaa\">Advanced Operations</span>\n",
    "    - <span style=\"color:#aaa\">Hierarchical indexing (MultiIndex)</span>\n",
    "    - <span style=\"color:#aaa\">Data Reshaping and Pivot Table</span>"
   ]
  },
  {
   "cell_type": "markdown",
   "metadata": {
    "slideshow": {
     "slide_type": "subslide"
    }
   },
   "source": [
    "## Handling Missing Data\n",
    "\n",
    "'2020301' and '2020302' don't align"
   ]
  },
  {
   "cell_type": "code",
   "execution_count": null,
   "metadata": {
    "slideshow": {
     "slide_type": "fragment"
    }
   },
   "outputs": [],
   "source": [
    "dates = pd.date_range('20200301', periods=6)\n",
    "df = pd.DataFrame(np.random.randn(6, 4), index=dates, columns=list('ABCD'))\n",
    "print(df)\n",
    "s1 = pd.Series([1, 2, 3, 4, 5, 6], index=pd.date_range('20200302', periods=6))\n",
    "print(s1)\n",
    "df['F'] = s1\n",
    "print(df)"
   ]
  },
  {
   "cell_type": "markdown",
   "metadata": {
    "slideshow": {
     "slide_type": "fragment"
    }
   },
   "source": [
    "**df.reindex(index,columns)** reconstruct the data using the specified index and columns. Missing data will be replaced with `NaN`."
   ]
  },
  {
   "cell_type": "code",
   "execution_count": null,
   "metadata": {
    "slideshow": {
     "slide_type": "fragment"
    }
   },
   "outputs": [],
   "source": [
    "df1 = df.reindex(index=dates[0:4], columns=list(df.columns) + ['E'])\n",
    "print(df1)\n",
    "df1.loc[dates[0]:dates[1], 'E'] = 1\n",
    "print(df1)"
   ]
  },
  {
   "cell_type": "markdown",
   "metadata": {
    "slideshow": {
     "slide_type": "subslide"
    }
   },
   "source": [
    "## Handling Missing Data\n",
    "\n",
    "**df.dropna()** and **df.fillna()** are used to handling missing data."
   ]
  },
  {
   "cell_type": "code",
   "execution_count": null,
   "metadata": {
    "slideshow": {
     "slide_type": "fragment"
    }
   },
   "outputs": [],
   "source": [
    "# drop rows with NaN\n",
    "df2=df1.dropna()\n",
    "print(df2)"
   ]
  },
  {
   "cell_type": "code",
   "execution_count": null,
   "metadata": {
    "slideshow": {
     "slide_type": "fragment"
    }
   },
   "outputs": [],
   "source": [
    "# drop columns with NaN\n",
    "df3=df1.dropna(axis=1)\n",
    "print(df3)"
   ]
  },
  {
   "cell_type": "code",
   "execution_count": null,
   "metadata": {
    "slideshow": {
     "slide_type": "fragment"
    }
   },
   "outputs": [],
   "source": [
    "# replace NaN with a value\n",
    "df4=df1.fillna(value=5)\n",
    "print(df4)"
   ]
  },
  {
   "cell_type": "markdown",
   "metadata": {
    "slideshow": {
     "slide_type": "slide"
    }
   },
   "source": [
    "# Lab 6 Introduction to Pandas\n",
    "\n",
    "- <span style=\"color:#aaa\">What is Pandas?</span>\n",
    "- <span style=\"color:#aaa\">Series</span>\n",
    "    - <span style=\"color:#aaa\">Time Series</span>\n",
    "- <span style=\"color:#aaa\">DataFrame</span>\n",
    "    - <span style=\"color:#aaa\">Index Object</span>\n",
    "    - <span style=\"color:#aaa\">Generating and Viewing</span>\n",
    "    - <span style=\"color:#aaa\">Indexing and Selection</span>\n",
    "    - <span style=\"color:#aaa\">Operations</span>\n",
    "    - <span style=\"color:#aaa\">Missing Data</span>\n",
    "- Advanced DataFrame\n",
    "    - Advanced Operations\n",
    "    - <span style=\"color:#aaa\">Hierarchical indexing (MultiIndex)</span>\n",
    "    - <span style=\"color:#aaa\">Data Reshaping and Pivot Table</span>"
   ]
  },
  {
   "cell_type": "markdown",
   "metadata": {
    "slideshow": {
     "slide_type": "subslide"
    }
   },
   "source": [
    "## Advanced DataFrame Operations\n",
    "\n",
    "- Concatenate two or more DataFrames\n",
    "- Join two DataFrames\n",
    "- Groupby\n",
    "\n",
    "### **Question: How to combine two ore more DataFrames?** ####\n",
    "\n",
    "**pd.concat()** performs **concatenation operation** along an axis (by default, axis = 0) while performing optional set logic (union or intersection) of the indexes (if any) on the other axes"
   ]
  },
  {
   "cell_type": "markdown",
   "metadata": {
    "slideshow": {
     "slide_type": "subslide"
    }
   },
   "source": [
    "## Concatenation by pd.concat()\n",
    "\n",
    "### A simple example: the input DataFrames have same column labels"
   ]
  },
  {
   "cell_type": "code",
   "execution_count": null,
   "metadata": {
    "slideshow": {
     "slide_type": "fragment"
    }
   },
   "outputs": [],
   "source": [
    "df1 = pd.DataFrame({'A': ['A0', 'A1', 'A2', 'A3'],\n",
    "                    'B': ['B0', 'B1', 'B2', 'B3'],\n",
    "                    'C': ['C0', 'C1', 'C2', 'C3'],\n",
    "                    'D': ['D0', 'D1', 'D2', 'D3']},\n",
    "                    index=[0, 1, 2, 3])\n",
    "df2 = pd.DataFrame({'A': ['A4', 'A5', 'A6', 'A7'],\n",
    "                    'B': ['B4', 'B5', 'B6', 'B7'],\n",
    "                    'C': ['C4', 'C5', 'C6', 'C7'],\n",
    "                    'D': ['D4', 'D5', 'D6', 'D7']},\n",
    "                    index=[0, 1, 2, 3])\n",
    "frames = [df1, df2]"
   ]
  },
  {
   "cell_type": "code",
   "execution_count": null,
   "metadata": {
    "slideshow": {
     "slide_type": "fragment"
    }
   },
   "outputs": [],
   "source": [
    "result1 = pd.concat(frames)\n",
    "print(result1)"
   ]
  },
  {
   "cell_type": "markdown",
   "metadata": {
    "slideshow": {
     "slide_type": "fragment"
    }
   },
   "source": [
    "result2 = pd.concat(frames, ignore_index = True)\n",
    "print(result2)"
   ]
  },
  {
   "cell_type": "markdown",
   "metadata": {
    "slideshow": {
     "slide_type": "subslide"
    }
   },
   "source": [
    "## Concatenation by pd.concat()\n",
    "\n",
    "### A complex example: the input DataFrames have different column labels\n",
    "\n",
    "By default, the union of labels will be used. None-exist data will be filled by NaN"
   ]
  },
  {
   "cell_type": "code",
   "execution_count": null,
   "metadata": {
    "slideshow": {
     "slide_type": "fragment"
    }
   },
   "outputs": [],
   "source": [
    "df1 = pd.DataFrame({'A': ['A0', 'A1', 'A2', 'A3'],\n",
    "                    'B': ['B0', 'B1', 'B2', 'B3'],\n",
    "                    'C': ['C0', 'C1', 'C2', 'C3'],\n",
    "                    'D': ['D0', 'D1', 'D2', 'D3']},\n",
    "                    index=[0, 1, 2, 3])\n",
    "df2 = pd.DataFrame({'B': ['B4', 'B5', 'B6', 'B7'],\n",
    "                    'C': ['C4', 'C5', 'C6', 'C7'],\n",
    "                    'D': ['D4', 'D5', 'D6', 'D7'],\n",
    "                    'E': ['E4', 'E5', 'E6', 'E7']},\n",
    "                    index=[0, 1, 2, 3])\n",
    "frames = [df2, df1]"
   ]
  },
  {
   "cell_type": "code",
   "execution_count": null,
   "metadata": {
    "slideshow": {
     "slide_type": "fragment"
    }
   },
   "outputs": [],
   "source": [
    "result = pd.concat(frames, ignore_index = True, sort=False)\n",
    "print(result)"
   ]
  },
  {
   "cell_type": "code",
   "execution_count": null,
   "metadata": {
    "slideshow": {
     "slide_type": "fragment"
    }
   },
   "outputs": [],
   "source": [
    "frames = [df1, df2]\n",
    "result = pd.concat(frames, ignore_index = True, sort=False)\n",
    "print(result)"
   ]
  },
  {
   "cell_type": "markdown",
   "metadata": {
    "slideshow": {
     "slide_type": "subslide"
    }
   },
   "source": [
    "## Join DataFrames by pd.merge()\n",
    "\n",
    "Given two DataFrame objects (say left and right) that share a common column label (say 'key'), we can merge them based on the common column:  **pd.merge(left, right, on='key')**\n",
    "\n",
    "**A simple scenario**: the two columns from the two DataFrames are the same."
   ]
  },
  {
   "cell_type": "code",
   "execution_count": null,
   "metadata": {
    "slideshow": {
     "slide_type": "fragment"
    }
   },
   "outputs": [],
   "source": [
    "left = pd.DataFrame({'key': ['foo', 'bar'], 'lval': [1, 2]})\n",
    "print(left)"
   ]
  },
  {
   "cell_type": "code",
   "execution_count": null,
   "metadata": {
    "slideshow": {
     "slide_type": "fragment"
    }
   },
   "outputs": [],
   "source": [
    "right = pd.DataFrame({'key': ['foo', 'bar'], 'rval': [4, 5]})\n",
    "print(right)"
   ]
  },
  {
   "cell_type": "code",
   "execution_count": null,
   "metadata": {
    "slideshow": {
     "slide_type": "fragment"
    }
   },
   "outputs": [],
   "source": [
    "merged = pd.merge(left, right, on='key')\n",
    "print(merged)"
   ]
  },
  {
   "cell_type": "markdown",
   "metadata": {
    "slideshow": {
     "slide_type": "subslide"
    }
   },
   "source": [
    "## Join DataFrames by pd.merge()\n",
    "\n",
    "### **But in many cases, the two columns may not be exactly the same. Then how do we merge them?** ####\n",
    "- **Intersection** (inner join): the result will only include the row labels that appear in both input DataFrames. This is the default way of merge()\n",
    "- **Union** (outer join): the result will include all row labels from the two input DataFrames\n",
    "- **Left join**: keep all labels from left DataFrame\n",
    "- **Right join**: keep all labels from right DataFrame"
   ]
  },
  {
   "cell_type": "code",
   "execution_count": null,
   "metadata": {
    "slideshow": {
     "slide_type": "fragment"
    }
   },
   "outputs": [],
   "source": [
    "age = pd.DataFrame({'name': ['Bob', 'Jack', 'Peter', 'Tom'], 'Age': [20, 23, 18, 19]})\n",
    "print(age)"
   ]
  },
  {
   "cell_type": "code",
   "execution_count": null,
   "metadata": {
    "slideshow": {
     "slide_type": "fragment"
    }
   },
   "outputs": [],
   "source": [
    "grade = pd.DataFrame({'name': ['Bob', 'Jack', 'Peter', 'Zoe'], 'Grade': [95, 87, 92, 78]})\n",
    "print(grade)"
   ]
  },
  {
   "cell_type": "code",
   "execution_count": null,
   "metadata": {
    "slideshow": {
     "slide_type": "fragment"
    }
   },
   "outputs": [],
   "source": [
    "merged = pd.merge(age, grade, on='name')\n",
    "print(merged)"
   ]
  },
  {
   "cell_type": "markdown",
   "metadata": {
    "slideshow": {
     "slide_type": "subslide"
    }
   },
   "source": [
    "## Join DataFrames by pd.merge()\n",
    "- **Union** (outer join): the result will include all row labels from the two input DataFrame"
   ]
  },
  {
   "cell_type": "code",
   "execution_count": null,
   "metadata": {
    "slideshow": {
     "slide_type": "fragment"
    }
   },
   "outputs": [],
   "source": [
    "o_merged = pd.merge(age, grade, on='name', how='outer')\n",
    "print(o_merged)"
   ]
  },
  {
   "cell_type": "markdown",
   "metadata": {
    "slideshow": {
     "slide_type": "fragment"
    }
   },
   "source": [
    "- **Left join**: keep all labels from left DataFrame"
   ]
  },
  {
   "cell_type": "code",
   "execution_count": null,
   "metadata": {
    "slideshow": {
     "slide_type": "fragment"
    }
   },
   "outputs": [],
   "source": [
    "l_merged = pd.merge(age, grade, on='name', how='left')\n",
    "print(l_merged)"
   ]
  },
  {
   "cell_type": "markdown",
   "metadata": {
    "slideshow": {
     "slide_type": "fragment"
    }
   },
   "source": [
    "\n",
    "- **Right join**: keep all labels from right DataFrame"
   ]
  },
  {
   "cell_type": "code",
   "execution_count": null,
   "metadata": {
    "slideshow": {
     "slide_type": "fragment"
    }
   },
   "outputs": [],
   "source": [
    "r_merged = pd.merge(age, grade, on='name', how='right')\n",
    "print(r_merged)"
   ]
  },
  {
   "cell_type": "markdown",
   "metadata": {
    "slideshow": {
     "slide_type": "subslide"
    }
   },
   "source": [
    "## Grouping by pd.groupby()"
   ]
  },
  {
   "cell_type": "code",
   "execution_count": null,
   "metadata": {
    "slideshow": {
     "slide_type": "fragment"
    }
   },
   "outputs": [],
   "source": [
    "fortune = pd.read_csv('files\\lab6_fortune1000.csv', index_col='Rank')\n",
    "fortune.head(5)"
   ]
  },
  {
   "cell_type": "markdown",
   "metadata": {
    "slideshow": {
     "slide_type": "fragment"
    }
   },
   "source": [
    "**Groupby** is an important data analysis method. It usually involves one or more of the following three steps:\n",
    "- Splitting the data into groups based on some criteria\n",
    "- Applying a function to each group independently\n",
    "- Combining the results into a data structure\n"
   ]
  },
  {
   "cell_type": "code",
   "execution_count": null,
   "metadata": {
    "slideshow": {
     "slide_type": "fragment"
    }
   },
   "outputs": [],
   "source": [
    "# What are the different sectors?\n",
    "fortune['Sector'].unique()"
   ]
  },
  {
   "cell_type": "markdown",
   "metadata": {
    "slideshow": {
     "slide_type": "subslide"
    }
   },
   "source": [
    "## Grouping by pd.groupby()"
   ]
  },
  {
   "cell_type": "code",
   "execution_count": null,
   "metadata": {
    "slideshow": {
     "slide_type": "fragment"
    }
   },
   "outputs": [],
   "source": [
    "# Group by sector\n",
    "sector = fortune.groupby('Sector')"
   ]
  },
  {
   "cell_type": "code",
   "execution_count": null,
   "metadata": {
    "slideshow": {
     "slide_type": "fragment"
    }
   },
   "outputs": [],
   "source": [
    "# details of the groups\n",
    "sector.groups"
   ]
  },
  {
   "cell_type": "code",
   "execution_count": null,
   "metadata": {
    "slideshow": {
     "slide_type": "fragment"
    }
   },
   "outputs": [],
   "source": [
    "# How many rows per group?\n",
    "sector.size()"
   ]
  },
  {
   "cell_type": "code",
   "execution_count": null,
   "metadata": {
    "slideshow": {
     "slide_type": "fragment"
    }
   },
   "outputs": [],
   "source": [
    "# Numeric statistics for each group\n",
    "sector.describe()"
   ]
  },
  {
   "cell_type": "code",
   "execution_count": null,
   "metadata": {
    "slideshow": {
     "slide_type": "fragment"
    }
   },
   "outputs": [],
   "source": [
    "# Apply the sum() function\n",
    "sector.sum()"
   ]
  },
  {
   "cell_type": "markdown",
   "metadata": {
    "slideshow": {
     "slide_type": "subslide"
    }
   },
   "source": [
    "## Grouping by pd.groupby()\n",
    "\n",
    "We can access a specific group from a groupby object by get_group() function. The returned group is a DataFrame."
   ]
  },
  {
   "cell_type": "code",
   "execution_count": null,
   "metadata": {
    "slideshow": {
     "slide_type": "fragment"
    }
   },
   "outputs": [],
   "source": [
    "# Get the 'Technology' group\n",
    "tech = sector.get_group('Technology')"
   ]
  },
  {
   "cell_type": "code",
   "execution_count": null,
   "metadata": {
    "slideshow": {
     "slide_type": "fragment"
    }
   },
   "outputs": [],
   "source": [
    "# what's the data type?\n",
    "type(tech)"
   ]
  },
  {
   "cell_type": "code",
   "execution_count": null,
   "metadata": {
    "slideshow": {
     "slide_type": "fragment"
    }
   },
   "outputs": [],
   "source": [
    "# display some contents\n",
    "tech.head()"
   ]
  },
  {
   "cell_type": "markdown",
   "metadata": {
    "slideshow": {
     "slide_type": "slide"
    }
   },
   "source": [
    "# Lab 6 Introduction to Pandas\n",
    "\n",
    "- <span style=\"color:#aaa\">What is Pandas?</span>\n",
    "- <span style=\"color:#aaa\">Series</span>\n",
    "    - <span style=\"color:#aaa\">Time Series</span>\n",
    "- <span style=\"color:#aaa\">DataFrame</span>\n",
    "    - <span style=\"color:#aaa\">Index Object</span>\n",
    "    - <span style=\"color:#aaa\">Generating and Viewing</span>\n",
    "    - <span style=\"color:#aaa\">Indexing and Selection</span>\n",
    "    - <span style=\"color:#aaa\">Operations</span>\n",
    "    - <span style=\"color:#aaa\">Missing Data</span>\n",
    "- Advanced DataFrame\n",
    "    - <span style=\"color:#aaa\">Advanced Operations</span>\n",
    "    - Hierarchical indexing (MultiIndex)\n",
    "    - <span style=\"color:#aaa\">Data Reshaping and Pivot Table</span>"
   ]
  },
  {
   "attachments": {},
   "cell_type": "markdown",
   "metadata": {
    "slideshow": {
     "slide_type": "subslide"
    }
   },
   "source": [
    "## Hierarchical indexing (MultiIndex)\n",
    "\n",
    "So far we have learned about 1D Series and 2D DataFrame\n",
    "How about *3-dimensional* data? E.g.,\n",
    "\n",
    "<img src=\"data.png\" width=\"40%\" style=\"display:inline\" /> <img src=\"table.png\" width=\"40%\" style=\"display:inline\"   />\n",
    "\n",
    "We can transform the 3D data into 2D table with a new column 'Year'\n",
    "\n",
    "Potential row index:\n",
    "- Year\n",
    "- Company\n",
    "- (Year, Company)\n",
    "\n",
    "**Question**: which columns(s) should we use as the new row index?"
   ]
  },
  {
   "cell_type": "markdown",
   "metadata": {
    "slideshow": {
     "slide_type": "subslide"
    }
   },
   "source": [
    "### MultiIndex Examples\n",
    "\n",
    "The tuple (Year, Company) can uniquely indentify a row, so we can use the tuple (Year, Company) as the index. This is called MultiIndex in Pandas.\n",
    "\n",
    "We can create a MultiIndex by **pd.MultiIndex.from_tuples()**"
   ]
  },
  {
   "cell_type": "code",
   "execution_count": null,
   "metadata": {
    "slideshow": {
     "slide_type": "fragment"
    }
   },
   "outputs": [],
   "source": [
    "tuples = [('2017', 'Company A'), ('2017', 'Company B'),('2017', 'Company C'),\n",
    "          ('2018', 'Company A'), ('2018', 'Company B'),('2018', 'Company C'),\n",
    "          ('2019', 'Company A'), ('2019', 'Company B'),('2019', 'Company C')]\n",
    "mindex = pd.MultiIndex.from_tuples(tuples, names=['Year', 'Company'])\n",
    "mindex"
   ]
  },
  {
   "cell_type": "markdown",
   "metadata": {
    "slideshow": {
     "slide_type": "fragment"
    }
   },
   "source": [
    "Since our MultiIndex is a combination of 'Year' and 'Company', there is an easier way to create the same MultiIndex by **pd.MultiIndex.from_product()**"
   ]
  },
  {
   "cell_type": "code",
   "execution_count": null,
   "metadata": {
    "slideshow": {
     "slide_type": "fragment"
    }
   },
   "outputs": [],
   "source": [
    "Year = ['2017', '2018', '2019']\n",
    "Company = ['Company A', 'Company B', 'Company C']\n",
    "mindex = pd.MultiIndex.from_product([Year, Company], names=['Year', 'Company'])\n",
    "mindex"
   ]
  },
  {
   "cell_type": "markdown",
   "metadata": {
    "slideshow": {
     "slide_type": "subslide"
    }
   },
   "source": [
    "### MultiIndex Examples\n",
    "\n",
    "We can generate a DataFrame using the created MultiIndex object.\n",
    "\n",
    "**Remark**: in this example, we use MultiIndex in axis = 0. It is also possible to use MultiIndex in axis = 1."
   ]
  },
  {
   "cell_type": "code",
   "execution_count": null,
   "metadata": {
    "slideshow": {
     "slide_type": "fragment"
    }
   },
   "outputs": [],
   "source": [
    "df = pd.DataFrame(np.random.randint(1000, 10000, (9, 3)), index=mindex, columns=['Hong Kong Island', 'Kowloon', 'NT'])\n",
    "df"
   ]
  },
  {
   "cell_type": "code",
   "execution_count": null,
   "metadata": {
    "slideshow": {
     "slide_type": "fragment"
    }
   },
   "outputs": [],
   "source": [
    " # try it\n",
    "df.index\n",
    "df.columns"
   ]
  },
  {
   "cell_type": "markdown",
   "metadata": {
    "slideshow": {
     "slide_type": "subslide"
    }
   },
   "source": [
    "### Access Data with MultiIndex\n",
    "\n",
    "we can select data by a \"partial\" label identifying a subgroup in the data"
   ]
  },
  {
   "cell_type": "code",
   "execution_count": null,
   "metadata": {
    "slideshow": {
     "slide_type": "fragment"
    }
   },
   "outputs": [],
   "source": [
    "# select one group of rows\n",
    "print(df.loc['2017'])\n"
   ]
  },
  {
   "cell_type": "code",
   "execution_count": null,
   "metadata": {
    "slideshow": {
     "slide_type": "fragment"
    }
   },
   "outputs": [],
   "source": [
    "# select one row\n",
    "print(df.loc[('2017', 'Company C')])"
   ]
  },
  {
   "cell_type": "code",
   "execution_count": null,
   "metadata": {
    "slideshow": {
     "slide_type": "fragment"
    }
   },
   "outputs": [],
   "source": [
    "# select one data\n",
    "print(df.loc[('2017', 'Company C'), 'Kowloon'])"
   ]
  },
  {
   "cell_type": "markdown",
   "metadata": {
    "slideshow": {
     "slide_type": "slide"
    }
   },
   "source": [
    "# Lab 6 Introduction to Pandas\n",
    "\n",
    "- <span style=\"color:#aaa\">What is Pandas?</span>\n",
    "- <span style=\"color:#aaa\">Series</span>\n",
    "    - <span style=\"color:#aaa\">Time Series</span>\n",
    "- <span style=\"color:#aaa\">DataFrame</span>\n",
    "    - <span style=\"color:#aaa\">Index Object</span>\n",
    "    - <span style=\"color:#aaa\">Generating and Viewing</span>\n",
    "    - <span style=\"color:#aaa\">Indexing and Selection</span>\n",
    "    - <span style=\"color:#aaa\">Operations</span>\n",
    "    - <span style=\"color:#aaa\">Missing Data</span>\n",
    "- Advanced DataFrame\n",
    "    - <span style=\"color:#aaa\">Advanced Operations</span>\n",
    "    - <span style=\"color:#aaa\">Hierarchical indexing (MultiIndex)</span>\n",
    "    - Data Reshaping and Pivot Table"
   ]
  },
  {
   "cell_type": "markdown",
   "metadata": {
    "slideshow": {
     "slide_type": "subslide"
    }
   },
   "source": [
    "### Data Reshaping and Pivot Table\n",
    "\n",
    "Reshaping means the transformation of the structure of a table to make it suitable for further analysis\n",
    "\n",
    "Considr the following table:\n",
    "![](reshaping.png)\n",
    "\n",
    "**Question**: Can we compare the cost of different sizes more easily?"
   ]
  },
  {
   "cell_type": "markdown",
   "metadata": {
    "slideshow": {
     "slide_type": "subslide"
    }
   },
   "source": [
    "### Reshaping by pd.pivot()\n",
    "\n",
    "The **pd.pivot(index, columns, values)** function is used to create a new DataFram out of a given one. We need to specify the index, columns, and values for the new DataFrame, using the column labes of the original DataFrame."
   ]
  },
  {
   "cell_type": "code",
   "execution_count": null,
   "metadata": {
    "slideshow": {
     "slide_type": "fragment"
    }
   },
   "outputs": [],
   "source": [
    "shop = {'Product':['shoe', 'shoe', 'shoe', 'dress', 'dress', 'dress'], \n",
    "        'Size':['L', 'M', 'S', 'L', 'M', 'S'],\n",
    "        'Cost':[50, 45, 40, 100, 90, 80]}\n",
    "df = pd.DataFrame(shop)\n",
    "print(df)\n",
    "df.pivot(index='Product', columns='Size', values='Cost')"
   ]
  },
  {
   "cell_type": "markdown",
   "metadata": {
    "slideshow": {
     "slide_type": "subslide"
    }
   },
   "source": [
    "### Reshaping by pd.pivot()\n",
    "\n",
    "The pivot() function works only if (index, columns) is unique in the original DataFrame There are many cases that (index, columns) is not unique, e.g.,\n",
    "<img src=\"pivot.png\" width=\"50%\">\n",
    "\n",
    "**Pivot table** can be used to aggregate the data from rows with the same (State, City), e.g., mean, max, min, sum, std, len, etc. The **pd.pivot_table(values, index, columns, aggfunc='mean')** function is used to create a new DataFrame out of a given one, which applies the aggfunc on each group of rows with the same (index, columns) pair. \n",
    "\n",
    "**Remark**: The values should be **numerical** types. Commonly used aggfunc includes *np.sum, np.mean, np.max, np.min, np.std, len, etc.*"
   ]
  },
  {
   "cell_type": "code",
   "execution_count": null,
   "metadata": {
    "slideshow": {
     "slide_type": "subslide"
    }
   },
   "outputs": [],
   "source": [
    "salary = {'State':['California', 'California', 'California', 'California', 'Washington', 'Washington'],\n",
    "          'City':['Los Angeles', 'Los Angeles', 'San Jose', 'San Jose', 'Seattle', 'Seattle'],\n",
    "          'Year':['2018', '2019', '2018', '2019', '2018', '2019'],\n",
    "          'Salary':[65700, 67400, 63500, 63800, 58700, 59300]}\n",
    "\n",
    "df = pd.DataFrame(salary)\n",
    "df"
   ]
  },
  {
   "cell_type": "markdown",
   "metadata": {
    "slideshow": {
     "slide_type": "fragment"
    }
   },
   "source": [
    "### Examples of Pivot Table\n",
    "\n",
    "There are two unique values in 'Year':'2018', '2019'. They will become the column labels."
   ]
  },
  {
   "cell_type": "code",
   "execution_count": null,
   "metadata": {
    "slideshow": {
     "slide_type": "fragment"
    }
   },
   "outputs": [],
   "source": [
    "df.pivot_table(index='State', columns='Year', values='Salary', aggfunc=np.sum)"
   ]
  },
  {
   "cell_type": "markdown",
   "metadata": {
    "slideshow": {
     "slide_type": "fragment"
    }
   },
   "source": [
    "There are two unique values in 'State':'California', 'Washington'. They will become the column labels.\n",
    "**Remark**: default aggfunc = np.mean"
   ]
  },
  {
   "cell_type": "code",
   "execution_count": null,
   "metadata": {
    "slideshow": {
     "slide_type": "fragment"
    }
   },
   "outputs": [],
   "source": [
    "df.pivot_table(index='Year', columns='State', values='Salary')\n",
    "df.pivot_table(index=['State', 'City'], columns='Year', values='Salary')"
   ]
  },
  {
   "cell_type": "markdown",
   "metadata": {
    "slideshow": {
     "slide_type": "subslide"
    }
   },
   "source": [
    "### Pivot Table with MultiIndex"
   ]
  },
  {
   "cell_type": "code",
   "execution_count": null,
   "metadata": {
    "slideshow": {
     "slide_type": "fragment"
    }
   },
   "outputs": [],
   "source": [
    "df = pd.DataFrame({'A': ['one', 'one', 'two', 'three'] * 3,\n",
    "                   'B': ['A', 'B', 'C'] * 4,\n",
    "                   'C': ['foo', 'foo', 'foo', 'bar', 'bar', 'bar'] * 2,\n",
    "                   'D': np.random.randn(12),\n",
    "                   'E': np.random.randn(12)})\n",
    "df"
   ]
  },
  {
   "cell_type": "markdown",
   "metadata": {
    "slideshow": {
     "slide_type": "fragment"
    }
   },
   "source": [
    "Column 'C' has two unique values: 'foo', and 'bar'. They will be the colun labels in the pivot table. For some (index, column), there is no data in the original DataFrame, e.g. ('three','A', 'foo'). NaN will be used to fill up."
   ]
  },
  {
   "cell_type": "code",
   "execution_count": null,
   "metadata": {
    "slideshow": {
     "slide_type": "fragment"
    }
   },
   "outputs": [],
   "source": [
    "pd.pivot_table(df, values='D', index=['A', 'B'], columns=['C'])"
   ]
  },
  {
   "cell_type": "code",
   "execution_count": null,
   "metadata": {
    "slideshow": {
     "slide_type": "fragment"
    }
   },
   "outputs": [],
   "source": [
    "pd.pivot_table(df, values=['D', 'E'], index=['A', 'B'], columns=['C'])"
   ]
  },
  {
   "cell_type": "code",
   "execution_count": null,
   "metadata": {},
   "outputs": [],
   "source": []
  }
 ],
 "metadata": {
  "celltoolbar": "Slideshow",
  "kernelspec": {
   "display_name": "Python 3",
   "language": "python",
   "name": "python3"
  },
  "language_info": {
   "codemirror_mode": {
    "name": "ipython",
    "version": 3
   },
   "file_extension": ".py",
   "mimetype": "text/x-python",
   "name": "python",
   "nbconvert_exporter": "python",
   "pygments_lexer": "ipython3",
   "version": "3.6.11"
  }
 },
 "nbformat": 4,
 "nbformat_minor": 2
}
