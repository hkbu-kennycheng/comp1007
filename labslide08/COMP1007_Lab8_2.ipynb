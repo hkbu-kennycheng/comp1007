{
 "cells": [
  {
   "cell_type": "markdown",
   "metadata": {},
   "source": [
    "# Lab8\n",
    "# Python For Financial Applications\n",
    "## Part II - Mortgage Payment and Amortization Schedule"
   ]
  },
  {
   "cell_type": "markdown",
   "metadata": {},
   "source": [
    "---------\n",
    "In this session, we will learn how to calculate the monthly payments of a mortgage and generate an amortization schedule using **NumPy** package and **Pandas** package, and create charts using Matplotlib package.\n",
    "\n",
    "By finishing this session, you will be able to:\n",
    "- Use the **pmt(), ppmt(), ipmt()** functions to calculate the monthly payment, principal payment and interest payment of the mortgage.\n",
    "- Apply the basic features of Pandas DataFrame.\n"
   ]
  },
  {
   "cell_type": "markdown",
   "metadata": {},
   "source": [
    "## Importing Necessary Packages\n",
    "We have to import them in our python code. Add the following code to the beginning of your python file:"
   ]
  },
  {
   "cell_type": "code",
   "execution_count": 1,
   "metadata": {},
   "outputs": [],
   "source": [
    "import pandas as pd\n",
    "import numpy as np\n",
    "from datetime import date"
   ]
  },
  {
   "cell_type": "markdown",
   "metadata": {},
   "source": [
    "## Calculating Mortgage Payment and Interest\n",
    "We are going to learn how to calculate the monthly payment of a 30 year $5 million mortgage with annual interest rate of 2.5%. \n",
    "\n",
    "First, we define the variables for the mortgage. Assume that the starting date of the periods is 1st July 2018."
   ]
  },
  {
   "cell_type": "code",
   "execution_count": 2,
   "metadata": {},
   "outputs": [],
   "source": [
    "interest_rate = 2.5 / 100 / 12\n",
    "nper = 30 * 12\n",
    "pv = 5000000\n",
    "start_date = date(2018, 7, 1)"
   ]
  },
  {
   "cell_type": "markdown",
   "metadata": {},
   "source": [
    "## Monthly Payment\n",
    "To calculate the monthly payment, the following formula is used:\n",
    "\n",
    "<img src='files/lab8_monthlypayment_formula.JPG'/>\n",
    "\n",
    "But, **Numpy** provides a function named **pmt()** that allows us to get the result directly. The syntax is:\n",
    "\n",
    "> *result = np.pmt(rate, num_of_periods, principal_value)*\n",
    "\n",
    "Let’s use our example to calculate the monthly payment using the **pmt()** function. The following statement is as follows:"
   ]
  },
  {
   "cell_type": "code",
   "execution_count": 3,
   "metadata": {},
   "outputs": [
    {
     "data": {
      "text/plain": [
       "-19756.044940885946"
      ]
     },
     "execution_count": 3,
     "metadata": {},
     "output_type": "execute_result"
    }
   ],
   "source": [
    "pmt = np.pmt(interest_rate, nper, pv)\n",
    "\n",
    "pmt"
   ]
  },
  {
   "cell_type": "markdown",
   "metadata": {},
   "source": [
    "To make the result clearer, we round the result off to 2 decimal places:"
   ]
  },
  {
   "cell_type": "code",
   "execution_count": 4,
   "metadata": {},
   "outputs": [
    {
     "data": {
      "text/plain": [
       "-19756.04"
      ]
     },
     "execution_count": 4,
     "metadata": {},
     "output_type": "execute_result"
    }
   ],
   "source": [
    "pmt = round(np.pmt(interest_rate, nper, pv), 2)\n",
    "\n",
    "pmt"
   ]
  },
  {
   "cell_type": "markdown",
   "metadata": {},
   "source": [
    "We get *-19756.04*. It indicates that the monthly payment of *$19,756.04* would be required.\n",
    "\n",
    "The monthly payment includes principal payment and interest payment. The monthly payment stays constant over the time but the amount applied to principal increases and the interest decreases as we move forward in time."
   ]
  },
  {
   "cell_type": "markdown",
   "metadata": {},
   "source": [
    "## *Principal Payment and Interest Payment*\n",
    "The principal payment can be calculated using the Numpy’s *ppmt()* function. The syntax is:\n",
    "\n",
    "> *result = np.ppmt(rate, i, num_of_periods, principal_value)*\n",
    "\n",
    "Where *i* indicates the specific period. \n",
    "The following is the example to calculate the principal payment of the 1st period:"
   ]
  },
  {
   "cell_type": "code",
   "execution_count": 5,
   "metadata": {},
   "outputs": [
    {
     "data": {
      "text/plain": [
       "-9339.37827421928"
      ]
     },
     "execution_count": 5,
     "metadata": {},
     "output_type": "execute_result"
    }
   ],
   "source": [
    "ppmt = np.ppmt(interest_rate, 1, nper, pv)\n",
    "\n",
    "ppmt"
   ]
  },
  {
   "cell_type": "markdown",
   "metadata": {},
   "source": [
    "By the way, we round the result off to 2 decimal places:"
   ]
  },
  {
   "cell_type": "code",
   "execution_count": 6,
   "metadata": {},
   "outputs": [
    {
     "data": {
      "text/plain": [
       "-9339.38"
      ]
     },
     "execution_count": 6,
     "metadata": {},
     "output_type": "execute_result"
    }
   ],
   "source": [
    "ppmt = round(np.ppmt(interest_rate, 1, nper, pv), 2)\n",
    "\n",
    "ppmt"
   ]
  },
  {
   "cell_type": "markdown",
   "metadata": {},
   "source": [
    "Then, we get *-9339.38*. That means only *$9,339.38* in the payment of the 1st period belongs to the principal payment. Others would be the interest payment.\n",
    "\n",
    "The interest payment would be equal to:\n",
    "\n",
    "> Interest_Payment= Payment-Principal_Payment\n",
    "\n",
    "We can get the interest payment using a simple subtraction as the formula above, we do:"
   ]
  },
  {
   "cell_type": "code",
   "execution_count": 7,
   "metadata": {},
   "outputs": [
    {
     "data": {
      "text/plain": [
       "-10416.660000000002"
      ]
     },
     "execution_count": 7,
     "metadata": {},
     "output_type": "execute_result"
    }
   ],
   "source": [
    "ipmt = pmt - ppmt\n",
    "\n",
    "ipmt"
   ]
  },
  {
   "cell_type": "markdown",
   "metadata": {},
   "source": [
    "However, if you do not know the amounts of the payment and the principal payment, you can compute it by using **Numpy’s ipmt()** function directly. The syntax is:\n",
    "\n",
    "> *ipmt = np.ipmt(rate, i, periods, principal_value)*\n",
    "\n",
    "Note: the **np.ipmt()** function returns the result as an **ndarray**. You may convert the result by using the **float()** function."
   ]
  },
  {
   "cell_type": "code",
   "execution_count": 8,
   "metadata": {},
   "outputs": [
    {
     "data": {
      "text/plain": [
       "-10416.67"
      ]
     },
     "execution_count": 8,
     "metadata": {},
     "output_type": "execute_result"
    }
   ],
   "source": [
    "ipmt = round(float(np.ipmt(interest_rate, 1, nper, pv)),2)\n",
    "\n",
    "ipmt"
   ]
  },
  {
   "cell_type": "markdown",
   "metadata": {},
   "source": [
    "## Creating an amortization schedule\n",
    "\n",
    "An amortization schedule is a table detailing each periodic payment on an amortizing loan, such as a mortgage. It includes payment numbers, payment dates, monthly payment amounts, principal and interest payment amount of each period, balances, cumulative principal amounts, etc.\n",
    "\n",
    "The following is the sample of amortization schedule:\n",
    "\n",
    "<img src=\"files/lab8_schedulesample.jpg\"/>"
   ]
  },
  {
   "cell_type": "markdown",
   "metadata": {},
   "source": [
    "Pandas’ DataFrame can be used to build this kind of table. We now follow the steps below to create an amortization schedule:"
   ]
  },
  {
   "cell_type": "markdown",
   "metadata": {},
   "source": [
    "1. We create a code cell and define some parameters:"
   ]
  },
  {
   "cell_type": "code",
   "execution_count": 9,
   "metadata": {},
   "outputs": [],
   "source": [
    "import pandas as pd\n",
    "import numpy as np\n",
    "from datetime import date\n",
    "\n",
    "interest_rate = 2.5 / 100 / 12\n",
    "nper = 30 * 12\n",
    "pv = 5000000\n",
    "start_date = date(2018, 7, 1)"
   ]
  },
  {
   "cell_type": "markdown",
   "metadata": {},
   "source": [
    "2.\tWe first create a list of payment dates. The payment starting date is 1st July 2018, and the mortgage duration is 30 years. Assume that we make a payment every month, there are total 360 payments.  Therefore, the list of payment dates contains 360 dates from 1st July 2018 to 1st June 2048. We create the list using the following statement:"
   ]
  },
  {
   "cell_type": "code",
   "execution_count": 10,
   "metadata": {},
   "outputs": [],
   "source": [
    "date_range = pd.date_range(start_date, periods=nper, freq='MS')"
   ]
  },
  {
   "cell_type": "markdown",
   "metadata": {},
   "source": [
    "3.\tThe table has six columns – Payment Date, Payment, Principal, Interest, Balance, and Cumulative Principal. The “Period” is the index of the table, we will ignore this column at this moment. We create the data frame (the table) by using the following statement:"
   ]
  },
  {
   "cell_type": "code",
   "execution_count": 11,
   "metadata": {},
   "outputs": [],
   "source": [
    "df = pd.DataFrame(columns=['Payment Date', 'Payment', 'Principal', 'Interest', 'Balance',  'Cumulative Principal'])"
   ]
  },
  {
   "cell_type": "markdown",
   "metadata": {},
   "source": [
    "4. Then, we assign the list date_range to the data frame."
   ]
  },
  {
   "cell_type": "code",
   "execution_count": 12,
   "metadata": {},
   "outputs": [],
   "source": [
    "df['Payment Date'] = date_range"
   ]
  },
  {
   "cell_type": "code",
   "execution_count": 13,
   "metadata": {},
   "outputs": [
    {
     "data": {
      "text/html": [
       "<div>\n",
       "<style scoped>\n",
       "    .dataframe tbody tr th:only-of-type {\n",
       "        vertical-align: middle;\n",
       "    }\n",
       "\n",
       "    .dataframe tbody tr th {\n",
       "        vertical-align: top;\n",
       "    }\n",
       "\n",
       "    .dataframe thead th {\n",
       "        text-align: right;\n",
       "    }\n",
       "</style>\n",
       "<table border=\"1\" class=\"dataframe\">\n",
       "  <thead>\n",
       "    <tr style=\"text-align: right;\">\n",
       "      <th></th>\n",
       "      <th>Payment Date</th>\n",
       "      <th>Payment</th>\n",
       "      <th>Principal</th>\n",
       "      <th>Interest</th>\n",
       "      <th>Balance</th>\n",
       "      <th>Cumulative Principal</th>\n",
       "    </tr>\n",
       "  </thead>\n",
       "  <tbody>\n",
       "    <tr>\n",
       "      <td>0</td>\n",
       "      <td>2018-07-01</td>\n",
       "      <td>NaN</td>\n",
       "      <td>NaN</td>\n",
       "      <td>NaN</td>\n",
       "      <td>NaN</td>\n",
       "      <td>NaN</td>\n",
       "    </tr>\n",
       "    <tr>\n",
       "      <td>1</td>\n",
       "      <td>2018-08-01</td>\n",
       "      <td>NaN</td>\n",
       "      <td>NaN</td>\n",
       "      <td>NaN</td>\n",
       "      <td>NaN</td>\n",
       "      <td>NaN</td>\n",
       "    </tr>\n",
       "    <tr>\n",
       "      <td>2</td>\n",
       "      <td>2018-09-01</td>\n",
       "      <td>NaN</td>\n",
       "      <td>NaN</td>\n",
       "      <td>NaN</td>\n",
       "      <td>NaN</td>\n",
       "      <td>NaN</td>\n",
       "    </tr>\n",
       "    <tr>\n",
       "      <td>3</td>\n",
       "      <td>2018-10-01</td>\n",
       "      <td>NaN</td>\n",
       "      <td>NaN</td>\n",
       "      <td>NaN</td>\n",
       "      <td>NaN</td>\n",
       "      <td>NaN</td>\n",
       "    </tr>\n",
       "    <tr>\n",
       "      <td>4</td>\n",
       "      <td>2018-11-01</td>\n",
       "      <td>NaN</td>\n",
       "      <td>NaN</td>\n",
       "      <td>NaN</td>\n",
       "      <td>NaN</td>\n",
       "      <td>NaN</td>\n",
       "    </tr>\n",
       "    <tr>\n",
       "      <td>...</td>\n",
       "      <td>...</td>\n",
       "      <td>...</td>\n",
       "      <td>...</td>\n",
       "      <td>...</td>\n",
       "      <td>...</td>\n",
       "      <td>...</td>\n",
       "    </tr>\n",
       "    <tr>\n",
       "      <td>355</td>\n",
       "      <td>2048-02-01</td>\n",
       "      <td>NaN</td>\n",
       "      <td>NaN</td>\n",
       "      <td>NaN</td>\n",
       "      <td>NaN</td>\n",
       "      <td>NaN</td>\n",
       "    </tr>\n",
       "    <tr>\n",
       "      <td>356</td>\n",
       "      <td>2048-03-01</td>\n",
       "      <td>NaN</td>\n",
       "      <td>NaN</td>\n",
       "      <td>NaN</td>\n",
       "      <td>NaN</td>\n",
       "      <td>NaN</td>\n",
       "    </tr>\n",
       "    <tr>\n",
       "      <td>357</td>\n",
       "      <td>2048-04-01</td>\n",
       "      <td>NaN</td>\n",
       "      <td>NaN</td>\n",
       "      <td>NaN</td>\n",
       "      <td>NaN</td>\n",
       "      <td>NaN</td>\n",
       "    </tr>\n",
       "    <tr>\n",
       "      <td>358</td>\n",
       "      <td>2048-05-01</td>\n",
       "      <td>NaN</td>\n",
       "      <td>NaN</td>\n",
       "      <td>NaN</td>\n",
       "      <td>NaN</td>\n",
       "      <td>NaN</td>\n",
       "    </tr>\n",
       "    <tr>\n",
       "      <td>359</td>\n",
       "      <td>2048-06-01</td>\n",
       "      <td>NaN</td>\n",
       "      <td>NaN</td>\n",
       "      <td>NaN</td>\n",
       "      <td>NaN</td>\n",
       "      <td>NaN</td>\n",
       "    </tr>\n",
       "  </tbody>\n",
       "</table>\n",
       "<p>360 rows × 6 columns</p>\n",
       "</div>"
      ],
      "text/plain": [
       "    Payment Date Payment Principal Interest Balance Cumulative Principal\n",
       "0     2018-07-01     NaN       NaN      NaN     NaN                  NaN\n",
       "1     2018-08-01     NaN       NaN      NaN     NaN                  NaN\n",
       "2     2018-09-01     NaN       NaN      NaN     NaN                  NaN\n",
       "3     2018-10-01     NaN       NaN      NaN     NaN                  NaN\n",
       "4     2018-11-01     NaN       NaN      NaN     NaN                  NaN\n",
       "..           ...     ...       ...      ...     ...                  ...\n",
       "355   2048-02-01     NaN       NaN      NaN     NaN                  NaN\n",
       "356   2048-03-01     NaN       NaN      NaN     NaN                  NaN\n",
       "357   2048-04-01     NaN       NaN      NaN     NaN                  NaN\n",
       "358   2048-05-01     NaN       NaN      NaN     NaN                  NaN\n",
       "359   2048-06-01     NaN       NaN      NaN     NaN                  NaN\n",
       "\n",
       "[360 rows x 6 columns]"
      ]
     },
     "execution_count": 13,
     "metadata": {},
     "output_type": "execute_result"
    }
   ],
   "source": [
    "# Now, the data frame contains the data as follows:\n",
    "df"
   ]
  },
  {
   "cell_type": "markdown",
   "metadata": {},
   "source": [
    "5.\tThe first column is the index column that starts from 0. We reset the indices in the range from 1 to 360 (30 years x 12 months = 360 periods). The following lines are used to a new column named “Period” and set it as index:"
   ]
  },
  {
   "cell_type": "code",
   "execution_count": 14,
   "metadata": {},
   "outputs": [],
   "source": [
    "df['Period'] = range(1, nper + 1)\n",
    "df.set_index('Period', inplace=True)"
   ]
  },
  {
   "cell_type": "code",
   "execution_count": 15,
   "metadata": {},
   "outputs": [
    {
     "data": {
      "text/html": [
       "<div>\n",
       "<style scoped>\n",
       "    .dataframe tbody tr th:only-of-type {\n",
       "        vertical-align: middle;\n",
       "    }\n",
       "\n",
       "    .dataframe tbody tr th {\n",
       "        vertical-align: top;\n",
       "    }\n",
       "\n",
       "    .dataframe thead th {\n",
       "        text-align: right;\n",
       "    }\n",
       "</style>\n",
       "<table border=\"1\" class=\"dataframe\">\n",
       "  <thead>\n",
       "    <tr style=\"text-align: right;\">\n",
       "      <th></th>\n",
       "      <th>Payment Date</th>\n",
       "      <th>Payment</th>\n",
       "      <th>Principal</th>\n",
       "      <th>Interest</th>\n",
       "      <th>Balance</th>\n",
       "      <th>Cumulative Principal</th>\n",
       "    </tr>\n",
       "    <tr>\n",
       "      <th>Period</th>\n",
       "      <th></th>\n",
       "      <th></th>\n",
       "      <th></th>\n",
       "      <th></th>\n",
       "      <th></th>\n",
       "      <th></th>\n",
       "    </tr>\n",
       "  </thead>\n",
       "  <tbody>\n",
       "    <tr>\n",
       "      <td>1</td>\n",
       "      <td>2018-07-01</td>\n",
       "      <td>NaN</td>\n",
       "      <td>NaN</td>\n",
       "      <td>NaN</td>\n",
       "      <td>NaN</td>\n",
       "      <td>NaN</td>\n",
       "    </tr>\n",
       "    <tr>\n",
       "      <td>2</td>\n",
       "      <td>2018-08-01</td>\n",
       "      <td>NaN</td>\n",
       "      <td>NaN</td>\n",
       "      <td>NaN</td>\n",
       "      <td>NaN</td>\n",
       "      <td>NaN</td>\n",
       "    </tr>\n",
       "    <tr>\n",
       "      <td>3</td>\n",
       "      <td>2018-09-01</td>\n",
       "      <td>NaN</td>\n",
       "      <td>NaN</td>\n",
       "      <td>NaN</td>\n",
       "      <td>NaN</td>\n",
       "      <td>NaN</td>\n",
       "    </tr>\n",
       "    <tr>\n",
       "      <td>4</td>\n",
       "      <td>2018-10-01</td>\n",
       "      <td>NaN</td>\n",
       "      <td>NaN</td>\n",
       "      <td>NaN</td>\n",
       "      <td>NaN</td>\n",
       "      <td>NaN</td>\n",
       "    </tr>\n",
       "    <tr>\n",
       "      <td>5</td>\n",
       "      <td>2018-11-01</td>\n",
       "      <td>NaN</td>\n",
       "      <td>NaN</td>\n",
       "      <td>NaN</td>\n",
       "      <td>NaN</td>\n",
       "      <td>NaN</td>\n",
       "    </tr>\n",
       "    <tr>\n",
       "      <td>...</td>\n",
       "      <td>...</td>\n",
       "      <td>...</td>\n",
       "      <td>...</td>\n",
       "      <td>...</td>\n",
       "      <td>...</td>\n",
       "      <td>...</td>\n",
       "    </tr>\n",
       "    <tr>\n",
       "      <td>356</td>\n",
       "      <td>2048-02-01</td>\n",
       "      <td>NaN</td>\n",
       "      <td>NaN</td>\n",
       "      <td>NaN</td>\n",
       "      <td>NaN</td>\n",
       "      <td>NaN</td>\n",
       "    </tr>\n",
       "    <tr>\n",
       "      <td>357</td>\n",
       "      <td>2048-03-01</td>\n",
       "      <td>NaN</td>\n",
       "      <td>NaN</td>\n",
       "      <td>NaN</td>\n",
       "      <td>NaN</td>\n",
       "      <td>NaN</td>\n",
       "    </tr>\n",
       "    <tr>\n",
       "      <td>358</td>\n",
       "      <td>2048-04-01</td>\n",
       "      <td>NaN</td>\n",
       "      <td>NaN</td>\n",
       "      <td>NaN</td>\n",
       "      <td>NaN</td>\n",
       "      <td>NaN</td>\n",
       "    </tr>\n",
       "    <tr>\n",
       "      <td>359</td>\n",
       "      <td>2048-05-01</td>\n",
       "      <td>NaN</td>\n",
       "      <td>NaN</td>\n",
       "      <td>NaN</td>\n",
       "      <td>NaN</td>\n",
       "      <td>NaN</td>\n",
       "    </tr>\n",
       "    <tr>\n",
       "      <td>360</td>\n",
       "      <td>2048-06-01</td>\n",
       "      <td>NaN</td>\n",
       "      <td>NaN</td>\n",
       "      <td>NaN</td>\n",
       "      <td>NaN</td>\n",
       "      <td>NaN</td>\n",
       "    </tr>\n",
       "  </tbody>\n",
       "</table>\n",
       "<p>360 rows × 6 columns</p>\n",
       "</div>"
      ],
      "text/plain": [
       "       Payment Date Payment Principal Interest Balance Cumulative Principal\n",
       "Period                                                                     \n",
       "1        2018-07-01     NaN       NaN      NaN     NaN                  NaN\n",
       "2        2018-08-01     NaN       NaN      NaN     NaN                  NaN\n",
       "3        2018-09-01     NaN       NaN      NaN     NaN                  NaN\n",
       "4        2018-10-01     NaN       NaN      NaN     NaN                  NaN\n",
       "5        2018-11-01     NaN       NaN      NaN     NaN                  NaN\n",
       "...             ...     ...       ...      ...     ...                  ...\n",
       "356      2048-02-01     NaN       NaN      NaN     NaN                  NaN\n",
       "357      2048-03-01     NaN       NaN      NaN     NaN                  NaN\n",
       "358      2048-04-01     NaN       NaN      NaN     NaN                  NaN\n",
       "359      2048-05-01     NaN       NaN      NaN     NaN                  NaN\n",
       "360      2048-06-01     NaN       NaN      NaN     NaN                  NaN\n",
       "\n",
       "[360 rows x 6 columns]"
      ]
     },
     "execution_count": 15,
     "metadata": {},
     "output_type": "execute_result"
    }
   ],
   "source": [
    "#The following is the updated view of the data frame:\n",
    "df"
   ]
  },
  {
   "cell_type": "markdown",
   "metadata": {},
   "source": [
    "6.\tWe assign the values for the Payment, Principal and Interest columns by using **Numpy’s pmt(), ppmt()** and **ipmt()** function:"
   ]
  },
  {
   "cell_type": "code",
   "execution_count": 16,
   "metadata": {},
   "outputs": [],
   "source": [
    "df['Payment'] = np.pmt(interest_rate, nper, pv)\n",
    "df['Principal'] = np.ppmt(interest_rate, 1, nper, pv)\n",
    "df['Interest'] = float(np.ipmt(interest_rate, 1, nper, pv))\n",
    "df = np.around(df, 2)"
   ]
  },
  {
   "cell_type": "code",
   "execution_count": 17,
   "metadata": {},
   "outputs": [
    {
     "data": {
      "text/html": [
       "<div>\n",
       "<style scoped>\n",
       "    .dataframe tbody tr th:only-of-type {\n",
       "        vertical-align: middle;\n",
       "    }\n",
       "\n",
       "    .dataframe tbody tr th {\n",
       "        vertical-align: top;\n",
       "    }\n",
       "\n",
       "    .dataframe thead th {\n",
       "        text-align: right;\n",
       "    }\n",
       "</style>\n",
       "<table border=\"1\" class=\"dataframe\">\n",
       "  <thead>\n",
       "    <tr style=\"text-align: right;\">\n",
       "      <th></th>\n",
       "      <th>Payment Date</th>\n",
       "      <th>Payment</th>\n",
       "      <th>Principal</th>\n",
       "      <th>Interest</th>\n",
       "      <th>Balance</th>\n",
       "      <th>Cumulative Principal</th>\n",
       "    </tr>\n",
       "    <tr>\n",
       "      <th>Period</th>\n",
       "      <th></th>\n",
       "      <th></th>\n",
       "      <th></th>\n",
       "      <th></th>\n",
       "      <th></th>\n",
       "      <th></th>\n",
       "    </tr>\n",
       "  </thead>\n",
       "  <tbody>\n",
       "    <tr>\n",
       "      <td>1</td>\n",
       "      <td>2018-07-01</td>\n",
       "      <td>-19756.04</td>\n",
       "      <td>-9339.38</td>\n",
       "      <td>-10416.67</td>\n",
       "      <td>NaN</td>\n",
       "      <td>NaN</td>\n",
       "    </tr>\n",
       "    <tr>\n",
       "      <td>2</td>\n",
       "      <td>2018-08-01</td>\n",
       "      <td>-19756.04</td>\n",
       "      <td>-9339.38</td>\n",
       "      <td>-10416.67</td>\n",
       "      <td>NaN</td>\n",
       "      <td>NaN</td>\n",
       "    </tr>\n",
       "    <tr>\n",
       "      <td>3</td>\n",
       "      <td>2018-09-01</td>\n",
       "      <td>-19756.04</td>\n",
       "      <td>-9339.38</td>\n",
       "      <td>-10416.67</td>\n",
       "      <td>NaN</td>\n",
       "      <td>NaN</td>\n",
       "    </tr>\n",
       "    <tr>\n",
       "      <td>4</td>\n",
       "      <td>2018-10-01</td>\n",
       "      <td>-19756.04</td>\n",
       "      <td>-9339.38</td>\n",
       "      <td>-10416.67</td>\n",
       "      <td>NaN</td>\n",
       "      <td>NaN</td>\n",
       "    </tr>\n",
       "    <tr>\n",
       "      <td>5</td>\n",
       "      <td>2018-11-01</td>\n",
       "      <td>-19756.04</td>\n",
       "      <td>-9339.38</td>\n",
       "      <td>-10416.67</td>\n",
       "      <td>NaN</td>\n",
       "      <td>NaN</td>\n",
       "    </tr>\n",
       "    <tr>\n",
       "      <td>...</td>\n",
       "      <td>...</td>\n",
       "      <td>...</td>\n",
       "      <td>...</td>\n",
       "      <td>...</td>\n",
       "      <td>...</td>\n",
       "      <td>...</td>\n",
       "    </tr>\n",
       "    <tr>\n",
       "      <td>356</td>\n",
       "      <td>2048-02-01</td>\n",
       "      <td>-19756.04</td>\n",
       "      <td>-9339.38</td>\n",
       "      <td>-10416.67</td>\n",
       "      <td>NaN</td>\n",
       "      <td>NaN</td>\n",
       "    </tr>\n",
       "    <tr>\n",
       "      <td>357</td>\n",
       "      <td>2048-03-01</td>\n",
       "      <td>-19756.04</td>\n",
       "      <td>-9339.38</td>\n",
       "      <td>-10416.67</td>\n",
       "      <td>NaN</td>\n",
       "      <td>NaN</td>\n",
       "    </tr>\n",
       "    <tr>\n",
       "      <td>358</td>\n",
       "      <td>2048-04-01</td>\n",
       "      <td>-19756.04</td>\n",
       "      <td>-9339.38</td>\n",
       "      <td>-10416.67</td>\n",
       "      <td>NaN</td>\n",
       "      <td>NaN</td>\n",
       "    </tr>\n",
       "    <tr>\n",
       "      <td>359</td>\n",
       "      <td>2048-05-01</td>\n",
       "      <td>-19756.04</td>\n",
       "      <td>-9339.38</td>\n",
       "      <td>-10416.67</td>\n",
       "      <td>NaN</td>\n",
       "      <td>NaN</td>\n",
       "    </tr>\n",
       "    <tr>\n",
       "      <td>360</td>\n",
       "      <td>2048-06-01</td>\n",
       "      <td>-19756.04</td>\n",
       "      <td>-9339.38</td>\n",
       "      <td>-10416.67</td>\n",
       "      <td>NaN</td>\n",
       "      <td>NaN</td>\n",
       "    </tr>\n",
       "  </tbody>\n",
       "</table>\n",
       "<p>360 rows × 6 columns</p>\n",
       "</div>"
      ],
      "text/plain": [
       "       Payment Date   Payment  Principal  Interest Balance  \\\n",
       "Period                                                       \n",
       "1        2018-07-01 -19756.04   -9339.38 -10416.67     NaN   \n",
       "2        2018-08-01 -19756.04   -9339.38 -10416.67     NaN   \n",
       "3        2018-09-01 -19756.04   -9339.38 -10416.67     NaN   \n",
       "4        2018-10-01 -19756.04   -9339.38 -10416.67     NaN   \n",
       "5        2018-11-01 -19756.04   -9339.38 -10416.67     NaN   \n",
       "...             ...       ...        ...       ...     ...   \n",
       "356      2048-02-01 -19756.04   -9339.38 -10416.67     NaN   \n",
       "357      2048-03-01 -19756.04   -9339.38 -10416.67     NaN   \n",
       "358      2048-04-01 -19756.04   -9339.38 -10416.67     NaN   \n",
       "359      2048-05-01 -19756.04   -9339.38 -10416.67     NaN   \n",
       "360      2048-06-01 -19756.04   -9339.38 -10416.67     NaN   \n",
       "\n",
       "       Cumulative Principal  \n",
       "Period                       \n",
       "1                       NaN  \n",
       "2                       NaN  \n",
       "3                       NaN  \n",
       "4                       NaN  \n",
       "5                       NaN  \n",
       "...                     ...  \n",
       "356                     NaN  \n",
       "357                     NaN  \n",
       "358                     NaN  \n",
       "359                     NaN  \n",
       "360                     NaN  \n",
       "\n",
       "[360 rows x 6 columns]"
      ]
     },
     "execution_count": 17,
     "metadata": {},
     "output_type": "execute_result"
    }
   ],
   "source": [
    "#Then, we get the following data frame:\n",
    "df"
   ]
  },
  {
   "cell_type": "markdown",
   "metadata": {},
   "source": [
    "7.\tBut, we know that the amounts of Principal and Interest should not be constant over the time. Therefore, we rewrite the code with a loop for computing the Principal Payment and Interest Payment for each row."
   ]
  },
  {
   "cell_type": "code",
   "execution_count": 18,
   "metadata": {},
   "outputs": [],
   "source": [
    "df['Payment'] = round(np.pmt(interest_rate, nper, pv), 2)\n",
    "\n",
    "for i in range(1, nper + 1):\n",
    "    df.loc[i, 'Principal'] = round(np.ppmt(interest_rate, i, nper, pv), 2)\n",
    "    df.loc[i, 'Interest'] = df.loc[i, 'Payment'] - df.loc[i, 'Principal']"
   ]
  },
  {
   "cell_type": "markdown",
   "metadata": {},
   "source": [
    "8.\tWe can simplify the code above as follow as:"
   ]
  },
  {
   "cell_type": "code",
   "execution_count": 19,
   "metadata": {},
   "outputs": [],
   "source": [
    "df['Payment'] = np.pmt(interest_rate, nper, pv)\n",
    "df['Principal'] = np.ppmt(interest_rate, df.index, nper, pv)\n",
    "\n",
    "#this is used to round the float down to two decimal places\n",
    "df = np.around(df, 2)\n",
    "\n",
    "df['Interest'] = df['Payment'] - df['Principal']"
   ]
  },
  {
   "cell_type": "markdown",
   "metadata": {},
   "source": [
    "9.\tThen, we compute the cumulative principal. Consider the following formula for computing the cumulative principal for each row:\n",
    "\n",
    "> Cum_Principal_i = Cum_Principal_(i-1) - Principal_Payment_i   \n",
    "> Cum_Principal_0 = 0\n",
    "\n",
    "But, we use the *cumsum()* function instead."
   ]
  },
  {
   "cell_type": "code",
   "execution_count": 20,
   "metadata": {},
   "outputs": [],
   "source": [
    "df['Cumulative Principal'] = df['Principal'].cumsum()"
   ]
  },
  {
   "cell_type": "markdown",
   "metadata": {},
   "source": [
    "10.\tNext, we compute the balance for each row. It can be computed using a simple subtraction as follows:\n",
    "\n",
    "> Balance_i = Principal_value - CumPrincipal_i\n",
    "\n",
    "The python code is as follows:"
   ]
  },
  {
   "cell_type": "code",
   "execution_count": 21,
   "metadata": {},
   "outputs": [],
   "source": [
    "df['Balance'] = pv + df['Cumulative Principal']"
   ]
  },
  {
   "cell_type": "code",
   "execution_count": 22,
   "metadata": {},
   "outputs": [
    {
     "data": {
      "text/html": [
       "<div>\n",
       "<style scoped>\n",
       "    .dataframe tbody tr th:only-of-type {\n",
       "        vertical-align: middle;\n",
       "    }\n",
       "\n",
       "    .dataframe tbody tr th {\n",
       "        vertical-align: top;\n",
       "    }\n",
       "\n",
       "    .dataframe thead th {\n",
       "        text-align: right;\n",
       "    }\n",
       "</style>\n",
       "<table border=\"1\" class=\"dataframe\">\n",
       "  <thead>\n",
       "    <tr style=\"text-align: right;\">\n",
       "      <th></th>\n",
       "      <th>Payment Date</th>\n",
       "      <th>Payment</th>\n",
       "      <th>Principal</th>\n",
       "      <th>Interest</th>\n",
       "      <th>Balance</th>\n",
       "      <th>Cumulative Principal</th>\n",
       "    </tr>\n",
       "    <tr>\n",
       "      <th>Period</th>\n",
       "      <th></th>\n",
       "      <th></th>\n",
       "      <th></th>\n",
       "      <th></th>\n",
       "      <th></th>\n",
       "      <th></th>\n",
       "    </tr>\n",
       "  </thead>\n",
       "  <tbody>\n",
       "    <tr>\n",
       "      <td>1</td>\n",
       "      <td>2018-07-01</td>\n",
       "      <td>-19756.04</td>\n",
       "      <td>-9339.38</td>\n",
       "      <td>-10416.66</td>\n",
       "      <td>4990660.62</td>\n",
       "      <td>-9339.38</td>\n",
       "    </tr>\n",
       "    <tr>\n",
       "      <td>2</td>\n",
       "      <td>2018-08-01</td>\n",
       "      <td>-19756.04</td>\n",
       "      <td>-9358.84</td>\n",
       "      <td>-10397.20</td>\n",
       "      <td>4981301.78</td>\n",
       "      <td>-18698.22</td>\n",
       "    </tr>\n",
       "    <tr>\n",
       "      <td>3</td>\n",
       "      <td>2018-09-01</td>\n",
       "      <td>-19756.04</td>\n",
       "      <td>-9378.33</td>\n",
       "      <td>-10377.71</td>\n",
       "      <td>4971923.45</td>\n",
       "      <td>-28076.55</td>\n",
       "    </tr>\n",
       "    <tr>\n",
       "      <td>4</td>\n",
       "      <td>2018-10-01</td>\n",
       "      <td>-19756.04</td>\n",
       "      <td>-9397.87</td>\n",
       "      <td>-10358.17</td>\n",
       "      <td>4962525.58</td>\n",
       "      <td>-37474.42</td>\n",
       "    </tr>\n",
       "    <tr>\n",
       "      <td>5</td>\n",
       "      <td>2018-11-01</td>\n",
       "      <td>-19756.04</td>\n",
       "      <td>-9417.45</td>\n",
       "      <td>-10338.59</td>\n",
       "      <td>4953108.13</td>\n",
       "      <td>-46891.87</td>\n",
       "    </tr>\n",
       "    <tr>\n",
       "      <td>...</td>\n",
       "      <td>...</td>\n",
       "      <td>...</td>\n",
       "      <td>...</td>\n",
       "      <td>...</td>\n",
       "      <td>...</td>\n",
       "      <td>...</td>\n",
       "    </tr>\n",
       "    <tr>\n",
       "      <td>356</td>\n",
       "      <td>2048-02-01</td>\n",
       "      <td>-19756.04</td>\n",
       "      <td>-19551.53</td>\n",
       "      <td>-204.51</td>\n",
       "      <td>78614.21</td>\n",
       "      <td>-4921385.79</td>\n",
       "    </tr>\n",
       "    <tr>\n",
       "      <td>357</td>\n",
       "      <td>2048-03-01</td>\n",
       "      <td>-19756.04</td>\n",
       "      <td>-19592.27</td>\n",
       "      <td>-163.77</td>\n",
       "      <td>59021.94</td>\n",
       "      <td>-4940978.06</td>\n",
       "    </tr>\n",
       "    <tr>\n",
       "      <td>358</td>\n",
       "      <td>2048-04-01</td>\n",
       "      <td>-19756.04</td>\n",
       "      <td>-19633.08</td>\n",
       "      <td>-122.96</td>\n",
       "      <td>39388.86</td>\n",
       "      <td>-4960611.14</td>\n",
       "    </tr>\n",
       "    <tr>\n",
       "      <td>359</td>\n",
       "      <td>2048-05-01</td>\n",
       "      <td>-19756.04</td>\n",
       "      <td>-19673.98</td>\n",
       "      <td>-82.06</td>\n",
       "      <td>19714.88</td>\n",
       "      <td>-4980285.12</td>\n",
       "    </tr>\n",
       "    <tr>\n",
       "      <td>360</td>\n",
       "      <td>2048-06-01</td>\n",
       "      <td>-19756.04</td>\n",
       "      <td>-19714.97</td>\n",
       "      <td>-41.07</td>\n",
       "      <td>-0.09</td>\n",
       "      <td>-5000000.09</td>\n",
       "    </tr>\n",
       "  </tbody>\n",
       "</table>\n",
       "<p>360 rows × 6 columns</p>\n",
       "</div>"
      ],
      "text/plain": [
       "       Payment Date   Payment  Principal  Interest     Balance  \\\n",
       "Period                                                           \n",
       "1        2018-07-01 -19756.04   -9339.38 -10416.66  4990660.62   \n",
       "2        2018-08-01 -19756.04   -9358.84 -10397.20  4981301.78   \n",
       "3        2018-09-01 -19756.04   -9378.33 -10377.71  4971923.45   \n",
       "4        2018-10-01 -19756.04   -9397.87 -10358.17  4962525.58   \n",
       "5        2018-11-01 -19756.04   -9417.45 -10338.59  4953108.13   \n",
       "...             ...       ...        ...       ...         ...   \n",
       "356      2048-02-01 -19756.04  -19551.53   -204.51    78614.21   \n",
       "357      2048-03-01 -19756.04  -19592.27   -163.77    59021.94   \n",
       "358      2048-04-01 -19756.04  -19633.08   -122.96    39388.86   \n",
       "359      2048-05-01 -19756.04  -19673.98    -82.06    19714.88   \n",
       "360      2048-06-01 -19756.04  -19714.97    -41.07       -0.09   \n",
       "\n",
       "        Cumulative Principal  \n",
       "Period                        \n",
       "1                   -9339.38  \n",
       "2                  -18698.22  \n",
       "3                  -28076.55  \n",
       "4                  -37474.42  \n",
       "5                  -46891.87  \n",
       "...                      ...  \n",
       "356              -4921385.79  \n",
       "357              -4940978.06  \n",
       "358              -4960611.14  \n",
       "359              -4980285.12  \n",
       "360              -5000000.09  \n",
       "\n",
       "[360 rows x 6 columns]"
      ]
     },
     "execution_count": 22,
     "metadata": {},
     "output_type": "execute_result"
    }
   ],
   "source": [
    "#We then have the data frame as follows:\n",
    "df"
   ]
  },
  {
   "cell_type": "markdown",
   "metadata": {},
   "source": [
    "11.\tWe find that the balance shown in the last row is a negative value and the cumulative principal is more than the principal value. We need to correct them by adding additional statements after and outside the for-loop."
   ]
  },
  {
   "cell_type": "code",
   "execution_count": 23,
   "metadata": {},
   "outputs": [],
   "source": [
    "df.loc[nper, 'Principal'] -= df.loc[nper, 'Balance']\n",
    "df.loc[nper, 'Balance'] = 0\n",
    "df.loc[nper, 'Cumulative Principal'] = df.loc[nper - 1, 'Cumulative Principal'] + \\\n",
    "df.loc[nper, 'Principal']\n",
    "df.loc[nper, 'Payment'] = df.loc[nper, 'Principal'] + df.loc[nper, 'Interest']"
   ]
  },
  {
   "cell_type": "code",
   "execution_count": 24,
   "metadata": {},
   "outputs": [
    {
     "data": {
      "text/html": [
       "<div>\n",
       "<style scoped>\n",
       "    .dataframe tbody tr th:only-of-type {\n",
       "        vertical-align: middle;\n",
       "    }\n",
       "\n",
       "    .dataframe tbody tr th {\n",
       "        vertical-align: top;\n",
       "    }\n",
       "\n",
       "    .dataframe thead th {\n",
       "        text-align: right;\n",
       "    }\n",
       "</style>\n",
       "<table border=\"1\" class=\"dataframe\">\n",
       "  <thead>\n",
       "    <tr style=\"text-align: right;\">\n",
       "      <th></th>\n",
       "      <th>Payment Date</th>\n",
       "      <th>Payment</th>\n",
       "      <th>Principal</th>\n",
       "      <th>Interest</th>\n",
       "      <th>Balance</th>\n",
       "      <th>Cumulative Principal</th>\n",
       "    </tr>\n",
       "    <tr>\n",
       "      <th>Period</th>\n",
       "      <th></th>\n",
       "      <th></th>\n",
       "      <th></th>\n",
       "      <th></th>\n",
       "      <th></th>\n",
       "      <th></th>\n",
       "    </tr>\n",
       "  </thead>\n",
       "  <tbody>\n",
       "    <tr>\n",
       "      <td>1</td>\n",
       "      <td>2018-07-01</td>\n",
       "      <td>-19756.04</td>\n",
       "      <td>-9339.38</td>\n",
       "      <td>-10416.66</td>\n",
       "      <td>4990660.62</td>\n",
       "      <td>-9339.38</td>\n",
       "    </tr>\n",
       "    <tr>\n",
       "      <td>2</td>\n",
       "      <td>2018-08-01</td>\n",
       "      <td>-19756.04</td>\n",
       "      <td>-9358.84</td>\n",
       "      <td>-10397.20</td>\n",
       "      <td>4981301.78</td>\n",
       "      <td>-18698.22</td>\n",
       "    </tr>\n",
       "    <tr>\n",
       "      <td>3</td>\n",
       "      <td>2018-09-01</td>\n",
       "      <td>-19756.04</td>\n",
       "      <td>-9378.33</td>\n",
       "      <td>-10377.71</td>\n",
       "      <td>4971923.45</td>\n",
       "      <td>-28076.55</td>\n",
       "    </tr>\n",
       "    <tr>\n",
       "      <td>4</td>\n",
       "      <td>2018-10-01</td>\n",
       "      <td>-19756.04</td>\n",
       "      <td>-9397.87</td>\n",
       "      <td>-10358.17</td>\n",
       "      <td>4962525.58</td>\n",
       "      <td>-37474.42</td>\n",
       "    </tr>\n",
       "    <tr>\n",
       "      <td>5</td>\n",
       "      <td>2018-11-01</td>\n",
       "      <td>-19756.04</td>\n",
       "      <td>-9417.45</td>\n",
       "      <td>-10338.59</td>\n",
       "      <td>4953108.13</td>\n",
       "      <td>-46891.87</td>\n",
       "    </tr>\n",
       "    <tr>\n",
       "      <td>...</td>\n",
       "      <td>...</td>\n",
       "      <td>...</td>\n",
       "      <td>...</td>\n",
       "      <td>...</td>\n",
       "      <td>...</td>\n",
       "      <td>...</td>\n",
       "    </tr>\n",
       "    <tr>\n",
       "      <td>356</td>\n",
       "      <td>2048-02-01</td>\n",
       "      <td>-19756.04</td>\n",
       "      <td>-19551.53</td>\n",
       "      <td>-204.51</td>\n",
       "      <td>78614.21</td>\n",
       "      <td>-4921385.79</td>\n",
       "    </tr>\n",
       "    <tr>\n",
       "      <td>357</td>\n",
       "      <td>2048-03-01</td>\n",
       "      <td>-19756.04</td>\n",
       "      <td>-19592.27</td>\n",
       "      <td>-163.77</td>\n",
       "      <td>59021.94</td>\n",
       "      <td>-4940978.06</td>\n",
       "    </tr>\n",
       "    <tr>\n",
       "      <td>358</td>\n",
       "      <td>2048-04-01</td>\n",
       "      <td>-19756.04</td>\n",
       "      <td>-19633.08</td>\n",
       "      <td>-122.96</td>\n",
       "      <td>39388.86</td>\n",
       "      <td>-4960611.14</td>\n",
       "    </tr>\n",
       "    <tr>\n",
       "      <td>359</td>\n",
       "      <td>2048-05-01</td>\n",
       "      <td>-19756.04</td>\n",
       "      <td>-19673.98</td>\n",
       "      <td>-82.06</td>\n",
       "      <td>19714.88</td>\n",
       "      <td>-4980285.12</td>\n",
       "    </tr>\n",
       "    <tr>\n",
       "      <td>360</td>\n",
       "      <td>2048-06-01</td>\n",
       "      <td>-19755.95</td>\n",
       "      <td>-19714.88</td>\n",
       "      <td>-41.07</td>\n",
       "      <td>0.00</td>\n",
       "      <td>-5000000.00</td>\n",
       "    </tr>\n",
       "  </tbody>\n",
       "</table>\n",
       "<p>360 rows × 6 columns</p>\n",
       "</div>"
      ],
      "text/plain": [
       "       Payment Date   Payment  Principal  Interest     Balance  \\\n",
       "Period                                                           \n",
       "1        2018-07-01 -19756.04   -9339.38 -10416.66  4990660.62   \n",
       "2        2018-08-01 -19756.04   -9358.84 -10397.20  4981301.78   \n",
       "3        2018-09-01 -19756.04   -9378.33 -10377.71  4971923.45   \n",
       "4        2018-10-01 -19756.04   -9397.87 -10358.17  4962525.58   \n",
       "5        2018-11-01 -19756.04   -9417.45 -10338.59  4953108.13   \n",
       "...             ...       ...        ...       ...         ...   \n",
       "356      2048-02-01 -19756.04  -19551.53   -204.51    78614.21   \n",
       "357      2048-03-01 -19756.04  -19592.27   -163.77    59021.94   \n",
       "358      2048-04-01 -19756.04  -19633.08   -122.96    39388.86   \n",
       "359      2048-05-01 -19756.04  -19673.98    -82.06    19714.88   \n",
       "360      2048-06-01 -19755.95  -19714.88    -41.07        0.00   \n",
       "\n",
       "        Cumulative Principal  \n",
       "Period                        \n",
       "1                   -9339.38  \n",
       "2                  -18698.22  \n",
       "3                  -28076.55  \n",
       "4                  -37474.42  \n",
       "5                  -46891.87  \n",
       "...                      ...  \n",
       "356              -4921385.79  \n",
       "357              -4940978.06  \n",
       "358              -4960611.14  \n",
       "359              -4980285.12  \n",
       "360              -5000000.00  \n",
       "\n",
       "[360 rows x 6 columns]"
      ]
     },
     "execution_count": 24,
     "metadata": {},
     "output_type": "execute_result"
    }
   ],
   "source": [
    "#Now, we get a corrected data:\n",
    "df"
   ]
  },
  {
   "cell_type": "markdown",
   "metadata": {},
   "source": [
    "----------------\n",
    "## Exercise: Mortgage Schedule Function\n",
    "In the previous part, we have written a python code to build an amortization schedule for the specific principal value, annual interest rate, and duration.\n",
    "\n",
    "To make it reusable and flexible, you need to convert the code to a function that accepts the principal value, annual interest, and duration then returns a schedule in **Pandas’ DataFrame** format."
   ]
  }
 ],
 "metadata": {
  "kernelspec": {
   "display_name": "Python 3",
   "language": "python",
   "name": "python3"
  },
  "language_info": {
   "codemirror_mode": {
    "name": "ipython",
    "version": 3
   },
   "file_extension": ".py",
   "mimetype": "text/x-python",
   "name": "python",
   "nbconvert_exporter": "python",
   "pygments_lexer": "ipython3",
   "version": "3.6.11"
  }
 },
 "nbformat": 4,
 "nbformat_minor": 2
}
