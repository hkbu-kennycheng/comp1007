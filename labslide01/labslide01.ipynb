{
 "cells": [
  {
   "cell_type": "markdown",
   "metadata": {
    "slideshow": {
     "slide_type": "slide"
    }
   },
   "source": [
    "# Lab1: Python Programming Basic\n",
    "\n",
    "- **Section 1: What is Python?**\n",
    "- Section 2: Python Basic\n",
    "- Section 3: More on Python data structures"
   ]
  },
  {
   "cell_type": "markdown",
   "metadata": {
    "slideshow": {
     "slide_type": "fragment"
    }
   },
   "source": [
    "# Section 1. What is Python?\n",
    "\n",
    "Python is a very-high-level programming language. It supports common elementary data types such as numbers and characters, as well as high-level built-in data types such as sequences and dictionaries. It comes with many standard modules and third-party libraries. It is an interpreted language, which means you can run your Python statements or program directly without compilation. Python is freely available on Windows, Unix/Linux, and Mac OS. In short, Python is\n",
    "simple to learn yet very powerful and popular in data analysis and machine learning. "
   ]
  },
  {
   "cell_type": "markdown",
   "metadata": {
    "slideshow": {
     "slide_type": "subslide"
    }
   },
   "source": [
    "## What is programming and programming language?\n",
    "\n",
    "Programming in computer science is the process of developing an executable computer program to perform a specific task or  to accomplish a specific computing result. A programming language is a formal language comprising a set of instructions that produce various kinds of output. A high-level programming language is a programming language use natural language elements making the process of developing a program simpler and more understandable."
   ]
  },
  {
   "cell_type": "markdown",
   "metadata": {
    "slideshow": {
     "slide_type": "fragment"
    }
   },
   "source": [
    "## What Python can do?\n",
    "\n",
    "- Use it as a calculator\n",
    "- Making transaction on stock market programmatically (a.k.a. Algorithmic trading)\n",
    "- DNA sequencing and Protein data extraction\n",
    "- Beating the number one ranked Go player in the world\n",
    "- Text and discourse analysis"
   ]
  },
  {
   "cell_type": "markdown",
   "metadata": {
    "slideshow": {
     "slide_type": "subslide"
    }
   },
   "source": [
    "## What Python can't do?\n",
    "\n",
    "- Make you rich directly\n",
    "- Get a boyfriend/girlfriend\n",
    "- ..."
   ]
  },
  {
   "cell_type": "markdown",
   "metadata": {
    "slideshow": {
     "slide_type": "subslide"
    }
   },
   "source": [
    "## History of Python"
   ]
  },
  {
   "cell_type": "markdown",
   "metadata": {
    "slideshow": {
     "slide_type": "fragment"
    }
   },
   "source": [
    "### [Python 1 in 1997](http://web.archive.org/web/20070106135919/http://python.org/)\n",
    "\n",
    "![](http://url2img-web.herokuapp.com/aHR0cDovL3dlYi5hcmNoaXZlLm9yZy93ZWIvMTk5NzA1MDEwMTE2MjYvaHR0cDovL3d3dy5weXRob24ub3JnLyNjbG9zZQ==)"
   ]
  },
  {
   "cell_type": "markdown",
   "metadata": {
    "slideshow": {
     "slide_type": "subslide"
    }
   },
   "source": [
    "### [Python 2 in 2000](http://web.archive.org/web/20060924051856/http://www.python.org/)\n",
    "\n",
    "![](http://url2img-web.herokuapp.com/aHR0cDovL3dlYi5hcmNoaXZlLm9yZy93ZWIvMjAwNjA1MTAwNDExNTEvaHR0cDovL3d3dy5weXRob24ub3JnLw==)"
   ]
  },
  {
   "cell_type": "markdown",
   "metadata": {
    "slideshow": {
     "slide_type": "subslide"
    }
   },
   "source": [
    "### <span style=\"color:#ffc000\">Python 3: 2008</span>"
   ]
  },
  {
   "cell_type": "markdown",
   "metadata": {
    "slideshow": {
     "slide_type": "fragment"
    }
   },
   "source": [
    "<div style=\"display:flex;width:100%\">\n",
    "<img src=\"https://learntocodewith.me/wp-content/uploads/2014/06/python-2-vs-3-2018.png\" style=\"max-width:400px\" />\n",
    "    <img src=\"http://url2img-web.herokuapp.com/aHR0cDovL3dlYi5hcmNoaXZlLm9yZy93ZWIvMjAxNDAzMTQwMzEwMzkvaHR0cHM6Ly93d3cucHl0aG9uLm9yZy8=\" />\n",
    "</div>\n",
    "And we’re using Python 3"
   ]
  },
  {
   "cell_type": "markdown",
   "metadata": {
    "slideshow": {
     "slide_type": "subslide"
    }
   },
   "source": [
    "## Philosophy of Python"
   ]
  },
  {
   "cell_type": "markdown",
   "metadata": {
    "slideshow": {
     "slide_type": "fragment"
    }
   },
   "source": [
    "<span style=\"color:#4472c4\">Beautiful</span> is better than <span style=\"color:#ffc000\">ugly</span>."
   ]
  },
  {
   "cell_type": "markdown",
   "metadata": {
    "slideshow": {
     "slide_type": "fragment"
    }
   },
   "source": [
    "<span style=\"color:#4472c4\">Explicit</span> is better than <span style=\"color:#ffc000\">implicitly</span>."
   ]
  },
  {
   "cell_type": "markdown",
   "metadata": {
    "slideshow": {
     "slide_type": "fragment"
    }
   },
   "source": [
    "<span style=\"color:#4472c4\">Simple</span> is better than <span style=\"color:#ffc000\">complex</span>."
   ]
  },
  {
   "cell_type": "markdown",
   "metadata": {
    "slideshow": {
     "slide_type": "fragment"
    }
   },
   "source": [
    "<span style=\"color:#4472c4\">Complex</span> is better than <span style=\"color:#ffc000\">complicated</span>."
   ]
  },
  {
   "cell_type": "markdown",
   "metadata": {
    "slideshow": {
     "slide_type": "fragment"
    }
   },
   "source": [
    "<span style=\"color:#4472c4\">Flat</span> is better than <span style=\"color:#ffc000\">nested</span>."
   ]
  },
  {
   "cell_type": "markdown",
   "metadata": {
    "slideshow": {
     "slide_type": "subslide"
    }
   },
   "source": [
    "# <span style=\"color:#4472c4\">As simple as possible</span>"
   ]
  },
  {
   "cell_type": "markdown",
   "metadata": {
    "slideshow": {
     "slide_type": "slide"
    }
   },
   "source": [
    "## “Hello World” in Java\n",
    "\n",
    "```java\n",
    "public class HelloWorld {\n",
    "    public static void main (String[] args) {\n",
    "      System.out.println(\"Hello World!\");\n",
    "    }\n",
    "}\n",
    "```"
   ]
  },
  {
   "cell_type": "markdown",
   "metadata": {
    "slideshow": {
     "slide_type": "fragment"
    }
   },
   "source": [
    "## “Hello World” in C++\n",
    "\n",
    "```cpp\n",
    "#include <iostream>  \n",
    "using namespace\tstd;\n",
    "int main() {\n",
    "    cout << \"Hello World!” << endl;\n",
    "}\n",
    "```"
   ]
  },
  {
   "cell_type": "markdown",
   "metadata": {
    "slideshow": {
     "slide_type": "fragment"
    }
   },
   "source": [
    "## “Hello World” in Python"
   ]
  },
  {
   "cell_type": "code",
   "execution_count": null,
   "metadata": {
    "slideshow": {
     "slide_type": "fragment"
    }
   },
   "outputs": [],
   "source": [
    "# press Shift+Enter to execute it\n",
    "print (\"Hello World!\")"
   ]
  },
  {
   "cell_type": "markdown",
   "metadata": {
    "slideshow": {
     "slide_type": "subslide"
    }
   },
   "source": [
    "# Let’s Get Started!"
   ]
  },
  {
   "cell_type": "markdown",
   "metadata": {
    "slideshow": {
     "slide_type": "fragment"
    }
   },
   "source": [
    "## Anaconda and Jupyter notebook\n",
    "\n",
    "- **Anaconda** (https://anaconda.org/) is an open source software to manage Python development environments for Windows, Linux, and Mac OS. It provides easy management of a large collection of Python libraries.\n",
    "\n",
    "- **Jupyter Notebook** (formerly IPython Notebooks) is a web-based interactive computational environment for creating Jupyter notebook documents. The \"notebook\" term can colloquially make reference to many different entities, mainly the Jupyter web application, Jupyter Python web server, or Jupyter document format depending on context.\n",
    "\n",
    "- **Colab** [https://colab.research.google.com/](https://colab.research.google.com/) allows you to write and execute Python in your browser."
   ]
  },
  {
   "cell_type": "markdown",
   "metadata": {
    "slideshow": {
     "slide_type": "subslide"
    }
   },
   "source": [
    "### Step 0: Install Anaconda\n",
    "\n",
    "[https://www.anaconda.com/products/individual#Downloads](https://www.anaconda.com/products/individual)\n",
    "\n",
    "![](https://url2img-web.herokuapp.com/aHR0cHM6Ly93d3cuYW5hY29uZGEuY29tL3Byb2R1Y3RzL2luZGl2aWR1YWwjRG93bmxvYWRz)"
   ]
  },
  {
   "cell_type": "markdown",
   "metadata": {
    "slideshow": {
     "slide_type": "subslide"
    }
   },
   "source": [
    "### Step 1: Open Anaconda Navigator. You should see a window like this.\n",
    "\n",
    "<img src=\"https://user-images.githubusercontent.com/29758969/27991912-3d0c8bca-64b8-11e7-90f4-65bd2a961cd4.JPG\" style=\"max-width:400px\" />\n",
    "\n",
    "There are five items on the left panel:\n",
    "- Home\n",
    "- Environments\n",
    "- Projects (beta)\n",
    "- Learning\n",
    "- Community\n"
   ]
  },
  {
   "cell_type": "markdown",
   "metadata": {
    "slideshow": {
     "slide_type": "subslide"
    }
   },
   "source": [
    "<img src=\"https://user-images.githubusercontent.com/29758969/27991912-3d0c8bca-64b8-11e7-90f4-65bd2a961cd4.JPG\" style=\"max-width:400px\" />\n",
    "\n",
    "- **Home**: you can launch different IDEs to develop your Python programs, including Spyder.\n",
    "- **Environments**: you can manage different development environments for your projects. E.g., the default root environment is using Python 3.7.4. If you also need to use Python 2.7 for another project, you can create a new environment that uses Python 2.7.\n",
    "- **Learning**: You can find a plenty of learning materials and documents about Python"
   ]
  },
  {
   "cell_type": "markdown",
   "metadata": {
    "slideshow": {
     "slide_type": "subslide"
    }
   },
   "source": [
    "### Step 2. Go back to “Home” and launch Jupyter notebook.\n",
    "\n",
    "<img src=\"https://user-images.githubusercontent.com/29758969/27991912-3d0c8bca-64b8-11e7-90f4-65bd2a961cd4.JPG\" style=\"max-width:400px\" />"
   ]
  },
  {
   "cell_type": "markdown",
   "metadata": {
    "slideshow": {
     "slide_type": "subslide"
    }
   },
   "source": [
    "## Concept of a notebook document, two types of cell\n",
    "\n",
    "A Jupyter notebook document can be divided into many cells, consisting of **markdown cell** and **code cell**.\n",
    "\n",
    "<img src=\"https://static.javatpoint.com/tutorial/jupyter-notebook/images/types-of-cells-in-jupyter-notebook.png\" >"
   ]
  },
  {
   "cell_type": "markdown",
   "metadata": {
    "slideshow": {
     "slide_type": "subslide"
    }
   },
   "source": [
    "## Markdown cell\n",
    "\n",
    "```md\n",
    "\n",
    "# Heading 1\n",
    "\n",
    "## Heading 2\n",
    "\n",
    "### Heading 3\n",
    "\n",
    "**bold**\n",
    "\n",
    "_italic_\n",
    "\n",
    "- Bullet\n",
    "- List\n",
    "\n",
    "1. Enumerated\n",
    "2. Lists\n",
    "\n",
    "```"
   ]
  },
  {
   "cell_type": "markdown",
   "metadata": {
    "slideshow": {
     "slide_type": "skip"
    }
   },
   "source": [
    "## Heading 2\n",
    "\n",
    "### Heading 3\n",
    "\n",
    "**bold**\n",
    "\n",
    "_italic_\n",
    "\n",
    "- Bullet\n",
    "- List\n",
    "\n",
    "\n",
    "1. Enumerated\n",
    "2. Lists\n"
   ]
  },
  {
   "cell_type": "markdown",
   "metadata": {
    "slideshow": {
     "slide_type": "subslide"
    }
   },
   "source": [
    "## Code cell\n",
    "\n",
    "Clicking anywhere in a **code cell**, then press “**Shift + Enter**”. The Python statements in the cell will be executed in IPython console. Before we go ahead, let’s introduce a few important concepts in Python language:"
   ]
  },
  {
   "cell_type": "code",
   "execution_count": null,
   "metadata": {
    "slideshow": {
     "slide_type": "fragment"
    }
   },
   "outputs": [],
   "source": [
    "# This is comment\n",
    "def function_name():\n",
    "    # function body\n",
    "    print(\"text\")"
   ]
  },
  {
   "cell_type": "markdown",
   "metadata": {
    "slideshow": {
     "slide_type": "fragment"
    }
   },
   "source": [
    "## Three important tips….\n",
    "\n",
    "1. **Comments**: Any text preceded by the sharp sign # is a comment, and will be ignored by the Python interpreter. So, the line of “#%%” is just a special comment.\n",
    "2. **Indentation**: Python uses whitespaces to organize its codes.  A colon “:” denotes the start of an indented code block, after which all the statements must be indented by the same amount until the end of the code block. In practice, we recommend 4 whitespaces or a tab space as the indentation.\n",
    "3. **Function**: A function is a block of statements that perform a particular action.  Once you define a function, you can reuse it by calling the function name. Python supports built-in functions and user-defined functions."
   ]
  },
  {
   "cell_type": "markdown",
   "metadata": {},
   "source": [
    "## Google Colab\n",
    "\n",
    "Colab notebooks are Jupyter notebooks that are hosted by Colab. When you create/upload your own notebooks, they are stored in your Google Drive account. You can easily share your Colab notebooks with co-workers or friends, allowing them to comment on your notebooks or even edit them.\n",
    "\n",
    "![](https://url2img-web.herokuapp.com/aHR0cHM6Ly9jb2xhYi5yZXNlYXJjaC5nb29nbGUuY29tLw==)"
   ]
  },
  {
   "cell_type": "markdown",
   "metadata": {
    "slideshow": {
     "slide_type": "subslide"
    }
   },
   "source": [
    "## Example 1.1: declaring an user-defined function hello()\n",
    "\n",
    "In this example, we define a Python function named `hello()`, which simply calls a built-in library\n",
    "function `print()` to display a string “Hello, Python!” on the console. \n"
   ]
  },
  {
   "cell_type": "code",
   "execution_count": null,
   "metadata": {
    "slideshow": {
     "slide_type": "fragment"
    }
   },
   "outputs": [],
   "source": [
    "# Example 1.1: declaring an user-defined function hello(), press Shift+Enter to execute it\n",
    "\n",
    "def hello():\n",
    "    print(\"Hello, Python!\")"
   ]
  },
  {
   "cell_type": "markdown",
   "metadata": {
    "slideshow": {
     "slide_type": "fragment"
    }
   },
   "source": [
    "Typing `hello()`. You will see that the `hello()` function is being executed: the message “Hello, Python!” is shown in the output."
   ]
  },
  {
   "cell_type": "code",
   "execution_count": null,
   "metadata": {
    "slideshow": {
     "slide_type": "fragment"
    }
   },
   "outputs": [],
   "source": [
    "hello()"
   ]
  },
  {
   "cell_type": "markdown",
   "metadata": {
    "slideshow": {
     "slide_type": "subslide"
    }
   },
   "source": [
    "**Trial-and-Error Exercise 1.1**: In the following code cell, what will happen if you input “hello” instead of “hello()”?"
   ]
  },
  {
   "cell_type": "code",
   "execution_count": null,
   "metadata": {
    "slideshow": {
     "slide_type": "fragment"
    }
   },
   "outputs": [],
   "source": [
    "# Please type hello in below, and then press Shift+Enter to execute it.\n",
    "\n"
   ]
  },
  {
   "cell_type": "markdown",
   "metadata": {
    "slideshow": {
     "slide_type": "fragment"
    }
   },
   "source": [
    "**Trial-and-Error Exercise 1.2**\n",
    "\n",
    "Type in the following function in the Editor and try to execute it in the code cell by “Shift + Enter”, what will happen? Notice that there are 4 whitespaces in the first print() statement but 3 whitespaces in the second print() statement."
   ]
  },
  {
   "cell_type": "code",
   "execution_count": null,
   "metadata": {
    "slideshow": {
     "slide_type": "fragment"
    }
   },
   "outputs": [],
   "source": [
    "# Please press Shift+Enter to execute it.\n",
    "\n",
    "def hello():\n",
    "    print(\"Hello, Python!\")\n",
    "   print(\"again\")"
   ]
  },
  {
   "cell_type": "markdown",
   "metadata": {
    "slideshow": {
     "slide_type": "subslide"
    }
   },
   "source": [
    "## Example 1.2: Running a user-defined function `inputName()` in IPython: "
   ]
  },
  {
   "cell_type": "code",
   "execution_count": null,
   "metadata": {
    "slideshow": {
     "slide_type": "fragment"
    }
   },
   "outputs": [],
   "source": [
    "def inputName():\n",
    "    name = input(\"What's your name? \")\n",
    "    print(name) "
   ]
  },
  {
   "cell_type": "markdown",
   "metadata": {
    "slideshow": {
     "slide_type": "fragment"
    }
   },
   "source": [
    "In this example, we define a function named inputName(), which performs two actions: (1) it calls a built-in library function input() to prompt the user to type in some content after a string “What’s your name?”, and assign the content to a variable name; (2) it then calls print() function to show the content of variable name on the console. Notice that you don’t need to specify the data type of variable name, which is different from many other programming languages. "
   ]
  },
  {
   "cell_type": "markdown",
   "metadata": {
    "slideshow": {
     "slide_type": "fragment"
    }
   },
   "source": [
    "Run function `inputName()` in the code cell as follows: \n",
    "\n",
    "1. Click anywhere in the above cell of `def inputName():` and Press “Shift + Enter”.\n",
    "2. In the below code cell, type `inputName()`\n",
    "3. You can also try to type inputName (without typing the parentheses) in the code cell and see what will happen."
   ]
  },
  {
   "cell_type": "code",
   "execution_count": null,
   "metadata": {
    "slideshow": {
     "slide_type": "fragment"
    }
   },
   "outputs": [],
   "source": [
    "# Please type inputName() in below\n"
   ]
  },
  {
   "cell_type": "markdown",
   "metadata": {
    "slideshow": {
     "slide_type": "subslide"
    }
   },
   "source": [
    "**Trial-and-Error Exercise 1.3**\n",
    "\n",
    "Revise the function of `inputName()` by replacing the `print(name)` statement with `print(\"name\")`. Run the function inputName() in code cell, and see what will happen."
   ]
  },
  {
   "cell_type": "code",
   "execution_count": null,
   "metadata": {
    "slideshow": {
     "slide_type": "fragment"
    }
   },
   "outputs": [],
   "source": [
    "# Please replace the print(name) statement with print(\"name\") in below\n",
    "\n",
    "def inputName():\n",
    "    name = input(\"What's your name? \")\n",
    "    print(name) "
   ]
  },
  {
   "cell_type": "markdown",
   "metadata": {
    "slideshow": {
     "slide_type": "fragment"
    }
   },
   "source": [
    "**Discussion**: in the Python source code of function `inputName()`, what’s the difference between `name` and `\"name\"`?"
   ]
  },
  {
   "cell_type": "markdown",
   "metadata": {
    "slideshow": {
     "slide_type": "slide"
    }
   },
   "source": [
    "# Lab1: Python Basic\n",
    "\n",
    "- Section 1: What is Python\n",
    "- **Section 2: Python Basic**\n",
    "- Section 3: More on Python data structures"
   ]
  },
  {
   "cell_type": "markdown",
   "metadata": {
    "slideshow": {
     "slide_type": "fragment"
    }
   },
   "source": [
    "# Section 2. Python Basics\n",
    "\n",
    "In this section, we are going to learn some fundamental programming concepts in Python."
   ]
  },
  {
   "cell_type": "markdown",
   "metadata": {
    "slideshow": {
     "slide_type": "subslide"
    }
   },
   "source": [
    "## Constants, Variables, and Data Types\n",
    "\n",
    "A computer program usually needs to use some data that cannot be changed (or immutable). These data are called constants. In Python, literal constants include numbers and strings. For examples:\n",
    "\n",
    "- Integer constants: 1, 3, 100, -20\n",
    "- Floating point constants: 3.14, 155.9, 1.72E-3 (i.e., the scientific notation of 1.72 x 10-3)\n",
    "- Complex constants: 2 + 3j, 10 - 6.5j\n",
    "- String constants: ‘hello’, “Good morning!”, “big data analysis”, “What’s your name?”. More about string will be discussed in Lab 4. "
   ]
  },
  {
   "cell_type": "markdown",
   "metadata": {
    "slideshow": {
     "slide_type": "fragment"
    }
   },
   "source": [
    "Variables: used to store such mutable information. A variable is identified by an identifier (e.g. A=3)\n",
    "- Case-sensitive\n",
    "- Begin with a letter or “_”\n",
    "- Can include digits"
   ]
  },
  {
   "cell_type": "markdown",
   "metadata": {
    "slideshow": {
     "slide_type": "notes"
    }
   },
   "source": [
    "More often, computer programs are designed to process data; hence the value of the data could be changed. **Variables** are used to store such **mutable** information. A variable is identified by an **identifier**. In Python, the identifiers begin with a letter or underscore “_” and can include digits. Identifiers in Python are **case-sensitive** (e.g., variable abc is different from variable ABC). "
   ]
  },
  {
   "cell_type": "markdown",
   "metadata": {
    "slideshow": {
     "slide_type": "subslide"
    }
   },
   "source": [
    "**Python keywords**: The following Python keywords have special meaning and shouldn't be used as variable names:\n",
    "\n",
    "```python\n",
    "['and', 'as', 'assert', 'break', 'class', 'continue', 'def', 'del', 'elif', 'else', 'except', 'exec', 'finally', 'for', 'from', 'global', 'if', 'import', 'in', 'is', 'lambda', 'not', 'or', 'pass', 'print', 'raise', 'return', 'try', 'while', 'with', 'yield']\n",
    "```"
   ]
  },
  {
   "cell_type": "markdown",
   "metadata": {
    "slideshow": {
     "slide_type": "subslide"
    }
   },
   "source": [
    "## Data types\n",
    "\n",
    "There are different types of information such as text, numbers, sound, image, video, etc. To handle\n",
    "different types of information, computer programs use different data types. We will introduce a few\n",
    "commonly used Python data types in this lab. "
   ]
  },
  {
   "cell_type": "markdown",
   "metadata": {
    "slideshow": {
     "slide_type": "fragment"
    }
   },
   "source": [
    "### Numeric types: to store a single numerical value\n",
    "\n",
    "**int**: integers, no decimal point or fractional part "
   ]
  },
  {
   "cell_type": "code",
   "execution_count": null,
   "metadata": {
    "slideshow": {
     "slide_type": "fragment"
    }
   },
   "outputs": [],
   "source": [
    "num1 = 5\n",
    "num2 = 3\n",
    "num3 = num1 + num2 "
   ]
  },
  {
   "cell_type": "markdown",
   "metadata": {
    "slideshow": {
     "slide_type": "fragment"
    }
   },
   "source": [
    "**float**: floating point numbers are real numbers with a decimal point and fractional part "
   ]
  },
  {
   "cell_type": "code",
   "execution_count": null,
   "metadata": {
    "slideshow": {
     "slide_type": "fragment"
    }
   },
   "outputs": [],
   "source": [
    "float1 = 3.14\n",
    "float2 = 5.22\n",
    "float3 = float1 * float2\n",
    "\n",
    "# Remark: In Python, * means multiplication, which will be discussed in Lab 2. "
   ]
  },
  {
   "cell_type": "markdown",
   "metadata": {
    "slideshow": {
     "slide_type": "subslide"
    }
   },
   "source": [
    "### More numeric types: complex and bool\n",
    "\n",
    "**complex**: complex numbers, using ‘j’ or ‘J’ to represent the root of -1. "
   ]
  },
  {
   "cell_type": "code",
   "execution_count": null,
   "metadata": {
    "slideshow": {
     "slide_type": "fragment"
    }
   },
   "outputs": [],
   "source": [
    "complex1 = (2 + 3j)\n",
    "complex2 = complex(3,4) "
   ]
  },
  {
   "cell_type": "markdown",
   "metadata": {
    "slideshow": {
     "slide_type": "fragment"
    }
   },
   "source": [
    "**bool**: True (1) or False (0), a subtype of integers. Be careful of case-sensitivity. "
   ]
  },
  {
   "cell_type": "code",
   "execution_count": null,
   "metadata": {
    "slideshow": {
     "slide_type": "fragment"
    }
   },
   "outputs": [],
   "source": [
    "bool1 = False\n",
    "bool2 = 1 < 2"
   ]
  },
  {
   "cell_type": "markdown",
   "metadata": {
    "slideshow": {
     "slide_type": "subslide"
    }
   },
   "source": [
    "**Example 2.1**: Try the following statements in below code cell. The built-in function type() can return the type of an object. "
   ]
  },
  {
   "cell_type": "code",
   "execution_count": null,
   "metadata": {
    "slideshow": {
     "slide_type": "fragment"
    }
   },
   "outputs": [],
   "source": [
    "type(100)"
   ]
  },
  {
   "cell_type": "code",
   "execution_count": null,
   "metadata": {
    "slideshow": {
     "slide_type": "fragment"
    }
   },
   "outputs": [],
   "source": [
    "type(3.14)"
   ]
  },
  {
   "cell_type": "code",
   "execution_count": null,
   "metadata": {
    "slideshow": {
     "slide_type": "fragment"
    }
   },
   "outputs": [],
   "source": [
    "type(2 + 3j)"
   ]
  },
  {
   "cell_type": "code",
   "execution_count": null,
   "metadata": {
    "slideshow": {
     "slide_type": "fragment"
    }
   },
   "outputs": [],
   "source": [
    "type(True)"
   ]
  },
  {
   "cell_type": "code",
   "execution_count": null,
   "metadata": {
    "slideshow": {
     "slide_type": "fragment"
    }
   },
   "outputs": [],
   "source": [
    "type(False)"
   ]
  },
  {
   "cell_type": "markdown",
   "metadata": {
    "slideshow": {
     "slide_type": "fragment"
    }
   },
   "source": [
    "**Trial-and-Error Exercise 2.1**: Input `type(true)` in the code cell, what will happen? "
   ]
  },
  {
   "cell_type": "code",
   "execution_count": null,
   "metadata": {
    "slideshow": {
     "slide_type": "fragment"
    }
   },
   "outputs": [],
   "source": [
    "# Please input type(true) in below, and press Shift+Enter to execute it\n"
   ]
  },
  {
   "cell_type": "markdown",
   "metadata": {
    "slideshow": {
     "slide_type": "subslide"
    }
   },
   "source": [
    "**Example 2.2**: Type the following statements in your IPython console and understand how to assign a value to a variable. "
   ]
  },
  {
   "cell_type": "code",
   "execution_count": null,
   "metadata": {
    "slideshow": {
     "slide_type": "fragment"
    }
   },
   "outputs": [],
   "source": [
    "x = 100\n",
    "print(x)\n",
    "x = 200\n",
    "print(x)\n",
    "y = x + 10\n",
    "print(y)\n",
    "z = x + y\n",
    "print(z)"
   ]
  },
  {
   "cell_type": "markdown",
   "metadata": {
    "slideshow": {
     "slide_type": "subslide"
    }
   },
   "source": [
    "### Sequence types: tuple and list, to store a collection of data (More examples in Section 3)\n",
    "\n",
    "**tuple**: A tuple contains an ordered collection of items. Tuples are immutable, which means you cannot change a tuple after it is defined. Tuple uses `(...)` to define its items. Notice that the items in a tuple do not need to have the same data type."
   ]
  },
  {
   "cell_type": "code",
   "execution_count": null,
   "metadata": {
    "slideshow": {
     "slide_type": "fragment"
    }
   },
   "outputs": [],
   "source": [
    "tuple_item = (0, \"string\", 3.14, False)\n",
    "type(tuple_item)\n",
    "print(tuple_item)"
   ]
  },
  {
   "cell_type": "markdown",
   "metadata": {
    "slideshow": {
     "slide_type": "subslide"
    }
   },
   "source": [
    "#### Sequence types: Tuple\n",
    "\n",
    "**Indexing**: Since the items in a tuple are ordered, each item has a unique index. Like many other programming languages, indexing in Python starts from zero. So `tuple[0]` refers to the first item, `tuple[8]` refers to the 9-th item, etc. "
   ]
  },
  {
   "cell_type": "code",
   "execution_count": null,
   "metadata": {
    "slideshow": {
     "slide_type": "fragment"
    }
   },
   "outputs": [],
   "source": [
    "tuple_student = (\"17991234\", \"CHAN TAI MAN\", \"Male\", \"2001-01-01\")\n",
    "print(tuple_student[0])\n",
    "print(tuple_student[1])\n",
    "print(tuple_student[2])\n",
    "print(tuple_student[3]) "
   ]
  },
  {
   "cell_type": "markdown",
   "metadata": {
    "slideshow": {
     "slide_type": "fragment"
    }
   },
   "source": [
    "#### Trial-and-Error Exercise 2.2\n",
    "\n",
    "Try the following statement in the code cell, what will happen? "
   ]
  },
  {
   "cell_type": "code",
   "execution_count": null,
   "metadata": {
    "slideshow": {
     "slide_type": "fragment"
    }
   },
   "outputs": [],
   "source": [
    "print(tuple_student[4])"
   ]
  },
  {
   "cell_type": "markdown",
   "metadata": {
    "slideshow": {
     "slide_type": "subslide"
    }
   },
   "source": [
    "#### Sequence types: list\n",
    "\n",
    "**list**: A list also contains an ordered collection of items. Lists are mutable. It is one of the most commonly used data type in Python. List uses [ ] to define its items. Notice that the items in a list do not need to have the same data type. We can access a list item through indexing. "
   ]
  },
  {
   "cell_type": "code",
   "execution_count": null,
   "metadata": {
    "slideshow": {
     "slide_type": "fragment"
    }
   },
   "outputs": [],
   "source": [
    "list_item = [0, \"string\", 3.14, False]\n",
    "type(list_item)\n",
    "print(list_item)\n",
    "list_student = [\"17991234\", \"CHAN TAI MAN\", \"Male\", \"2001-01-01\"]\n",
    "print(list_student)\n",
    "print(list_student[0])\n",
    "print(list_student[1])\n",
    "print(list_student[2])\n",
    "print(list_student[3])\n",
    "list_student[3] = \"2001-12-31\"\n",
    "print(list_student[3])\n",
    "print(list_student) "
   ]
  },
  {
   "cell_type": "markdown",
   "metadata": {
    "slideshow": {
     "slide_type": "subslide"
    }
   },
   "source": [
    "#### Trial-and-Error Exercise 2.3\n",
    "\n",
    "Try the following statement, what will happen? Can you see the difference between tuple and list? "
   ]
  },
  {
   "cell_type": "code",
   "execution_count": null,
   "metadata": {
    "slideshow": {
     "slide_type": "fragment"
    }
   },
   "outputs": [],
   "source": [
    "tuple_student[3] = \"2001-12-31\" "
   ]
  },
  {
   "cell_type": "markdown",
   "metadata": {
    "slideshow": {
     "slide_type": "subslide"
    }
   },
   "source": [
    "### Sequence types: range\n",
    "\n",
    "**range**: A range represents an immutable sequence of integers. It is generated by the built-in function `range()`. The index will start from 0. More examples about range will be given later. Function `range()` can be used in different ways. "
   ]
  },
  {
   "cell_type": "markdown",
   "metadata": {
    "slideshow": {
     "slide_type": "fragment"
    }
   },
   "source": [
    "**Case 1**: range(stop), where stop is a positive integer. range(stop) will generate a range of integers 0, 1, 2, …, stop - 1. E.g., range(5)"
   ]
  },
  {
   "cell_type": "code",
   "execution_count": null,
   "metadata": {
    "slideshow": {
     "slide_type": "fragment"
    }
   },
   "outputs": [],
   "source": [
    "num = range(5) # 0, 1, 2, 3, 4\n",
    "print(num[0]) # 0\n",
    "print(num[1]) # 1\n",
    "print(num[2]) # 2\n",
    "print(num[3]) # 3\n",
    "print(num[4]) # 4"
   ]
  },
  {
   "cell_type": "markdown",
   "metadata": {
    "slideshow": {
     "slide_type": "subslide"
    }
   },
   "source": [
    "**Case 2**: range(start, stop), where start and stop are two integers (start is supposed to be smaller than stop; otherwise, the range will be empty). range(start, stop) will generate a range of integers start, start + 1, …, stop - 1. In fact, range(stop) is the same as range(0, stop). Notice that start and stop can be negative integers. "
   ]
  },
  {
   "cell_type": "code",
   "execution_count": null,
   "metadata": {
    "slideshow": {
     "slide_type": "fragment"
    }
   },
   "outputs": [],
   "source": [
    "num = range(2, 5) # 2, 3, 4\n",
    "print(num[0]) # 2\n",
    "print(num[1]) # 3\n",
    "print(num[2]) # 4\n",
    "num = range(-5, -2) # -5, -4, -3\n",
    "print(num[0]) # -5\n",
    "print(num[1]) # -4\n",
    "print(num[2]) # -3"
   ]
  },
  {
   "cell_type": "markdown",
   "metadata": {
    "slideshow": {
     "slide_type": "fragment"
    }
   },
   "source": [
    "**Case 3**: range(start, stop, step), where start, stop, step are three integers. It will generate a range of integers start, start + step, start + 2 x step, …, until it reaches (or almost reaches) the value of stop. "
   ]
  },
  {
   "cell_type": "code",
   "execution_count": null,
   "metadata": {
    "slideshow": {
     "slide_type": "fragment"
    }
   },
   "outputs": [],
   "source": [
    "num = range(3, 10, 2) # 3, 5, 7, 9\n",
    "print(num[0]) # 3\n",
    "print(num[1]) # 5\n",
    "print(num[2]) # 7\n",
    "print(num[3]) # 9 "
   ]
  },
  {
   "cell_type": "markdown",
   "metadata": {
    "slideshow": {
     "slide_type": "subslide"
    }
   },
   "source": [
    "### Data types: str\n",
    "\n",
    "**str**: Strings are immutable sequences of Unicode code points. They are used to represent textual data. In Python, a string can be enclosed in single quotes ('…'), double quotes (\"…\"), or triple quotes ('''…''', \"\"\"…\"\"\"). If a string contains the double quote character, we can choose single quotes to enclose the string; if a string contains the single quote character, we can then choose double quotes."
   ]
  },
  {
   "cell_type": "markdown",
   "metadata": {
    "slideshow": {
     "slide_type": "fragment"
    }
   },
   "source": [
    "#### Example 2.2\n",
    "\n",
    "Try the user-defined multiply() function, which makes conversions between string and numbers "
   ]
  },
  {
   "cell_type": "code",
   "execution_count": null,
   "metadata": {
    "slideshow": {
     "slide_type": "fragment"
    }
   },
   "outputs": [],
   "source": [
    "def multiply():\n",
    "    numstr1 = input(\"Enter a number: \")\n",
    "    numstr2 = input(\"Enter another number: \")\n",
    "    num1 = float(numstr1)\n",
    "    num2 = float(numstr2)\n",
    "    result = num1 * num2\n",
    "    print(\"The product of \" + numstr1 + \" and \" + numstr2 + \" is \" + str(result))\n",
    "    print(\"The product of {} and {} is {}\".format(num1, num2, result))\n",
    "    print(\"The product of %f and %f is %f\"%(num1, num2, result)) "
   ]
  },
  {
   "cell_type": "markdown",
   "metadata": {
    "slideshow": {
     "slide_type": "notes"
    }
   },
   "source": [
    "In Example 2.2, the function multiply() first reads two strings from the keyboard and assign them to two variables numstr1 and numstr2. We then convert these two strings into two float numbers using the built-in float() function. We multiply the two numbers and store the result in another variable result. At last, we use three different approaches to printing out the result:\n",
    "\n",
    "- In the first print(), we concatenate a set of strings through +. We also use str() function to convert a float into a string.\n",
    "- In the second print(), we use str.format() function to replace the three placeholders by num1, num2, and the result, respectively. A pair of curly braces {} is a placeholder. This is a new style in Python.\n",
    "- In the third print(), we use %f as a placeholder for float numbers. This is an old style in Python. "
   ]
  },
  {
   "cell_type": "markdown",
   "metadata": {
    "slideshow": {
     "slide_type": "subslide"
    }
   },
   "source": [
    "## Section 2 Summary\n",
    "\n",
    "In this lab session, we have learnt the following built-in functions:\n",
    "- `print()`: to display message on the screen\n",
    "- `input()`: to get data from keyboard\n",
    "- `type()`: to show the data type of a data\n",
    "- `range()`: to generate a range of integers\n",
    "- `float()`: to convert an object (such as a string or integer) into float type\n",
    "- `str()`: to convert an object into a string type\n",
    "\n",
    "Reference of all Python built-in functions: https://docs.python.org/3.7/library/functions.html\n",
    "\n",
    "We have also learnt the following data types:\n",
    "- Numeric types: int, float, complex, bool\n",
    "- Sequence types: tuple, list, range, str "
   ]
  },
  {
   "cell_type": "markdown",
   "metadata": {
    "slideshow": {
     "slide_type": "slide"
    }
   },
   "source": [
    "# Lab1: Python Basic\n",
    "\n",
    "- Section 1: What is Python\n",
    "- Section 2: Python Basic\n",
    "- **Section 3: More on Python data structures**"
   ]
  },
  {
   "cell_type": "markdown",
   "metadata": {
    "slideshow": {
     "slide_type": "fragment"
    }
   },
   "source": [
    "# Section 3. More on Python data structures: Tuples, Lists, Dictionaries\n",
    "\n",
    "## More about Tuples\n",
    "\n",
    "A tuple is an immutable sequence type that contains an ordered collection of items. After you create a tuple, you usually cannot change it anymore. Previously, we learned that a tuple can be created  by  including  the  sequence  of  data  items  inside  `(...)`.  In  fact, a  tuple can be created even without the `(...)`. "
   ]
  },
  {
   "cell_type": "markdown",
   "metadata": {
    "slideshow": {
     "slide_type": "subslide"
    }
   },
   "source": [
    "\n",
    "**Example 3.1**: Try the following statements to create a few tuples and check them"
   ]
  },
  {
   "cell_type": "code",
   "execution_count": null,
   "metadata": {
    "slideshow": {
     "slide_type": "fragment"
    }
   },
   "outputs": [],
   "source": [
    "tuple1 = 1, 3, 5, 7\n",
    "print(tuple1)\n",
    "tuple2 = (1, 3, 5, 7)\n",
    "print(tuple2)\n",
    "#Are tuple1 and tuple2 the same? “==” is a comparison operator\n",
    "print(tuple1 == tuple2)\n",
    "tuple3 = (\"Jack\", \"John\", \"Alice\")\n",
    "print(tuple3)\n",
    "tuple4 = (1, \"Jack\", 2, \"John\")\n",
    "print(tuple4)"
   ]
  },
  {
   "cell_type": "markdown",
   "metadata": {
    "slideshow": {
     "slide_type": "subslide"
    }
   },
   "source": [
    "### Negative indexing\n",
    "\n",
    "**Negative indexing**: Recall that `tuple[0]` refers to the  first item, `tuple[8]` refers to the 9‐th item, etc. More  interestingly,  Python  also  supports negative  indexing:  e.g.,  `tuple[‐1]`  refers  to  the  last  item, `tuple[‐2]`  refers  to  the  2nd  last  item, etc.  This  is  convenient  if  you  want  to  access  the  data  in  the reverse order.\n",
    "\n",
    "<img src=\"https://railsware.com/blog/wp-content/uploads/2018/10/positive-indexes.png\" style=\"width:50%\" />"
   ]
  },
  {
   "cell_type": "markdown",
   "metadata": {
    "slideshow": {
     "slide_type": "fragment"
    }
   },
   "source": [
    "**Example 3.2**: Try the following statements to access the items in a tuple through indexing "
   ]
  },
  {
   "cell_type": "code",
   "execution_count": null,
   "metadata": {
    "slideshow": {
     "slide_type": "fragment"
    }
   },
   "outputs": [],
   "source": [
    "print(tuple4[0])\n",
    "print(tuple4[1])\n",
    "print(tuple4[2])\n",
    "print(tuple4[3])\n",
    "print(tuple4[‐1])\n",
    "print(tuple4[‐2])\n",
    "print(tuple4[‐3])\n",
    "print(tuple4[‐4])"
   ]
  },
  {
   "cell_type": "markdown",
   "metadata": {
    "slideshow": {
     "slide_type": "subslide"
    }
   },
   "source": [
    "## More about Lists\n",
    "\n",
    "A list is a mutable sequence type that can hold any number of ordered data items with any  data type. Due to this flexibility, it is one of the most commonly used data structures in Python.  A list can be generated by providing a list of data items enclosed by square brackets `[]`, separated by commas. A list can also be generated from an existing non‐list sequence (such as a range or a tuple) by built‐in function `list()`.\n",
    "\n",
    "After you create a list,  you can further revise it by adding new items, removing existing items, or changing the order of items. "
   ]
  },
  {
   "cell_type": "markdown",
   "metadata": {
    "slideshow": {
     "slide_type": "subslide"
    }
   },
   "source": [
    "**Example 3.3**: Try the following statements to create a few lists in different ways: "
   ]
  },
  {
   "cell_type": "code",
   "execution_count": null,
   "metadata": {
    "slideshow": {
     "slide_type": "fragment"
    }
   },
   "outputs": [],
   "source": [
    "list1 = [1, 3, 5, 7]\n",
    "print(list1)\n",
    "list2 = [\"Jack\", \"John\", \"Alice\"]\n",
    "print(list2)\n",
    "list3 = [1, \"Jack\", 2, \"John\"]\n",
    "print(list3)\n",
    "\n",
    "#Generate a list from a range\n",
    "my_range = range(10, 20, 2)\n",
    "print(my_range)\n",
    "list4 = list(my_range)\n",
    "print(list4)\n",
    "\n",
    "#Generate a list from a tuple\n",
    "tuple1 = (\"John\", \"Alice\", \"Jack\")\n",
    "list5 = list(tuple1)\n",
    "print(list5)\n",
    "#Is list5 equal to tuple1?\n",
    "print(list5 == tuple1)"
   ]
  },
  {
   "cell_type": "markdown",
   "metadata": {
    "slideshow": {
     "slide_type": "fragment"
    }
   },
   "source": [
    "**Remark**: In Example 3.3, although `list5` has the same data items as `tuple1`, they are different because they have different types (list vs. tuple) and they support different operations. "
   ]
  },
  {
   "cell_type": "markdown",
   "metadata": {
    "slideshow": {
     "slide_type": "subslide"
    }
   },
   "source": [
    "### List Operations\n",
    "\n",
    "**List Operations**: List structure supports many useful operations (i.e., data processing!). Below is a list of common list operations: \n",
    "\n",
    "|Operation|Explanation |\n",
    "|----|----|\n",
    "|Indexing through `[]`|To access an item in the list|\n",
    "|`len(mylist)`|Return the number of items in list `mylist`|\n",
    "|`mylist.append(object)`|Add an `object` at the end of the list `mylist`|\n",
    "|`mylist.insert(index,object)`|Add an object at the index location of the list mylist. The index begins with 0.|\n",
    "|`mylist.remove(object)`|Remove the object from the list mylist. If multiple items in the list have the same value, the first one will be removed.|\n",
    "|`mylist.sort()`|Sort the items in the list mylist.|\n",
    "|`mylist.reverse()`|Rearrange the items of list mylist in reverse order.|"
   ]
  },
  {
   "cell_type": "markdown",
   "metadata": {
    "slideshow": {
     "slide_type": "subslide"
    }
   },
   "source": [
    "**Example 3.4**: Try the following statements to get familiar with list operations: "
   ]
  },
  {
   "cell_type": "code",
   "execution_count": null,
   "metadata": {
    "slideshow": {
     "slide_type": "fragment"
    }
   },
   "outputs": [],
   "source": [
    "list6 = [\"Jack\", \"John\", \"Alice\"]\n",
    "print(list6)\n",
    "print(list6[0])\n",
    "print(list6[‐1])\n",
    "print(len(list6))\n",
    "list6.append(\"Jack\")\n",
    "print(list6)\n",
    "list6.insert(2, \"Jack\")\n",
    "print(list6)\n",
    "list6.remove(\"Jack\")\n",
    "print(list6)\n",
    "list6.sort()\n",
    "print(list6)\n",
    "list6.reverse()\n",
    "print(list6)"
   ]
  },
  {
   "cell_type": "markdown",
   "metadata": {
    "slideshow": {
     "slide_type": "subslide"
    }
   },
   "source": [
    "### Slicing\n",
    "\n",
    "There is another important operation in Python: **slicing**, that deserves a separate treatment. \n",
    "\n",
    "**Slicing** means the access of a subset of items in a sequence of data items, which is very important in data analysis.\n",
    "\n",
    "- You can access a range of items in a list mylist through `mylist[start:stop]`, where start Is the index of the first item in your slice, and stop−1 is the index of the last item in your slice.  \n",
    "- If  your  slice  begins  with  the  first  element  in  the  list,  you  can  set  start  empty  (i.e., `mylist[:stop]`). \n",
    "- If  your  slice  includes  the  items  up  to  the  end  of  the  list,  you  can  set  stop  empty  (i.e., `mylist[start:]`). \n",
    "- Slicing with increments  through `mylist[start:stop:step]`, where step  specifies  the increment between the indices.  \n",
    "\n",
    "<img src=\"https://woodscompscitutorials.files.wordpress.com/2013/05/slicing-example.png\" style=\"width:50%\" />"
   ]
  },
  {
   "cell_type": "markdown",
   "metadata": {
    "slideshow": {
     "slide_type": "subslide"
    }
   },
   "source": [
    "**Example 3.5**: Try the following statements to get familiar with list slicing:"
   ]
  },
  {
   "cell_type": "code",
   "execution_count": null,
   "metadata": {
    "slideshow": {
     "slide_type": "fragment"
    }
   },
   "outputs": [],
   "source": [
    "a = list(range(10))  \n",
    "print(a)\n",
    "b = a[2:6]\n",
    "print(b)\n",
    "c = a[:5]\n",
    "print(c)\n",
    "d = a[5:]\n",
    "print(d)\n",
    "e = a[3:10:2]\n",
    "print(e)"
   ]
  },
  {
   "cell_type": "markdown",
   "metadata": {
    "slideshow": {
     "slide_type": "subslide"
    }
   },
   "source": [
    "## Dictionaries\n",
    "\n",
    "### Key concept of Dictionaries: Key‐Value Pairs\n",
    "\n",
    "**Key‐Value  Pairs**:  Information  is  very  often  more  than  individual  numbers  or  strings:  they  have relationships. For example, a person named \"Jack\" has an age of 35; his wife \"Linda\" has an age of 32; his daughter \"Alice\" has an age of 6; his father “David” has an age of 68."
   ]
  },
  {
   "cell_type": "markdown",
   "metadata": {
    "slideshow": {
     "slide_type": "fragment"
    }
   },
   "source": [
    "In Python, we can create a pair  of  data  items  that are  related, e.g.,  `\"Jack\":35`, `\"Linda\":32`, `\"Alice\":6`, and `\"David\":68`. They are called key‐value pairs: the key \"Jack\" has a value 35; the key \"Linda\" has a value 32; the key \"Alice\" has a value 6, and the key \"David\" has a value 68. Notice that the key and its value are separated by a colon.  "
   ]
  },
  {
   "cell_type": "markdown",
   "metadata": {
    "slideshow": {
     "slide_type": "fragment"
    }
   },
   "source": [
    "**Property of key‐value pairs**: In general, a key is a fixed and representative property of an object, and hence it should be immutable. Furthermore,  the key  should be unique in a collection of key‐value pairs. E.g., the student ID is unique in the set HKBU students, so student ID can serve as the key for the set of student records. On the other hand, the value associated with a key is mutable and can be anything.  The  value  can  even  be  a  list  that  includes  a  lot  of  data  items,  such  as  names,  courses, marks, etc. E.g., a key value pair can be \"17212346\" : `[\"CHAN DAI MAN\", \"2000‐01‐01\", \"Male\"]`."
   ]
  },
  {
   "cell_type": "markdown",
   "metadata": {
    "slideshow": {
     "slide_type": "subslide"
    }
   },
   "source": [
    "### Dictionaries in python\n",
    "\n",
    "**Python  Dictionary**:  If  we  have  thousands  to  millions  of  key‐value  pairs  like  {“Jack”:35},  could  we quickly  find  out  the  age  of  a  person  (i.e.,  the  value)  if  you  know  the  name  (i.e.,  the  key)?  The question is similar to looking up a dictionary to find out the explanation of an English word: the word is the key, and the explanation is the value. In Python, a data structured called dictionary is provided to organize and process key‐value pairs."
   ]
  },
  {
   "cell_type": "code",
   "execution_count": null,
   "metadata": {
    "slideshow": {
     "slide_type": "fragment"
    }
   },
   "outputs": [],
   "source": [
    "family = {\"Jack\":35, \"Linda\":32, \"Alice\":6}"
   ]
  },
  {
   "cell_type": "markdown",
   "metadata": {
    "slideshow": {
     "slide_type": "fragment"
    }
   },
   "source": [
    "A dictionary can be generated by providing a sequence of key‐value pairs, enclosed by curly braces `{...}` and separated by comma."
   ]
  },
  {
   "cell_type": "code",
   "execution_count": null,
   "metadata": {
    "slideshow": {
     "slide_type": "fragment"
    }
   },
   "outputs": [],
   "source": [
    "print(family)\n",
    "print(len(family))"
   ]
  },
  {
   "cell_type": "markdown",
   "metadata": {
    "slideshow": {
     "slide_type": "subslide"
    }
   },
   "source": [
    "### Dictionaries indexing\n",
    "\n",
    "\n",
    "**Position indexing** vs **Key indexing**: Different from tuples or lists, the items in a dictionary cannot be accessed  through  position  indexing  because  the items are organized according  to  the keys,  rather than the order provided by the users. To access the value of a key, the user can use the key as the index: `my_dict[key]`."
   ]
  },
  {
   "cell_type": "code",
   "execution_count": null,
   "metadata": {
    "slideshow": {
     "slide_type": "fragment"
    }
   },
   "outputs": [],
   "source": [
    "print(family[\"Jack\"])"
   ]
  },
  {
   "cell_type": "markdown",
   "metadata": {
    "slideshow": {
     "slide_type": "fragment"
    }
   },
   "source": [
    "To  add  a  new  key‐value  pair  into  a  dictionary,  just  use:  `my_dict[new_key]  =  new_value`.  If the new_key already  exists  in  the  dictionary,  the  old  value  will  be  replaced  by  new_value  because  a dictionary doesn’t allow two key‐value pairs with the same key."
   ]
  },
  {
   "cell_type": "code",
   "execution_count": null,
   "metadata": {
    "slideshow": {
     "slide_type": "fragment"
    }
   },
   "outputs": [],
   "source": [
    "family[\"David\"] = 68\n",
    "family[\"Alice\"] = 7\n",
    "print(family)"
   ]
  },
  {
   "cell_type": "code",
   "execution_count": null,
   "metadata": {
    "slideshow": {
     "slide_type": "fragment"
    }
   },
   "outputs": [],
   "source": [
    "To remove a key‐value pair from a dictionary, use method `my_dict.pop(key)`."
   ]
  },
  {
   "cell_type": "code",
   "execution_count": null,
   "metadata": {
    "slideshow": {
     "slide_type": "fragment"
    }
   },
   "outputs": [],
   "source": [
    "family.pop(\"David\")\n",
    "print(family)"
   ]
  },
  {
   "cell_type": "markdown",
   "metadata": {
    "slideshow": {
     "slide_type": "subslide"
    }
   },
   "source": [
    "**Example 3.6**: Try the following statements to get familiar with dictionary: "
   ]
  },
  {
   "cell_type": "code",
   "execution_count": null,
   "metadata": {
    "slideshow": {
     "slide_type": "fragment"
    }
   },
   "outputs": [],
   "source": [
    "stu = {\"17212345\":[\"CHAN DAI MAN\", \"2000‐01‐01\", \"Male\"],\n",
    "       \"17216789\":[\"WONG Maggie\", \"2000‐06‐21\", \"Female\"]}\n",
    "print(stu[\"17212345\"])\n",
    "#stu[\"17212345\"] is a list. So what is stu[\"17212345\"][0]?\n",
    "print(stu[\"17212345\"][0])\n",
    "print(stu[\"17216789\"])\n",
    "#stu[\"17216789\"] is a list. So what is stu[\"17216789\"][2]?\n",
    "print(stu[\"17216789\"][2])\n",
    "#add the Address information into the dictionary\n",
    "stu[\"17212345\"].append(\"KOWLOON TONG\")\n",
    "print(stu[\"17212345\"])\n",
    "stu[\"17216789\"].append(\"SAI KONG\")\n",
    "print(stu[\"17216789\"])"
   ]
  },
  {
   "cell_type": "markdown",
   "metadata": {
    "slideshow": {
     "slide_type": "subslide"
    }
   },
   "source": [
    "## Section 3 Summary\n",
    "\n",
    "we have reviewed and learnt the following data structures that can store a sequence of data items: \n",
    "- tuple\n",
    "- list\n",
    "- dictionary \n",
    "**Tuples** are **immutable**, while **lists** and **dictionaries** are **mutable**.\n",
    "\n",
    "We also learned how to access, add, and delete data items of lists and dictionaries. "
   ]
  },
  {
   "cell_type": "markdown",
   "metadata": {
    "slideshow": {
     "slide_type": "fragment"
    }
   },
   "source": [
    "### What to submit?\n",
    "\n",
    "Please save **this ipynb file** (press Ctrl+S in Windows, or Option+S in macOS) and submit through **BU Moodle**."
   ]
  }
 ],
 "metadata": {
  "celltoolbar": "Slideshow",
  "kernelspec": {
   "display_name": "Python 3",
   "language": "python",
   "name": "python3"
  },
  "language_info": {
   "codemirror_mode": {
    "name": "ipython",
    "version": 3
   },
   "file_extension": ".py",
   "mimetype": "text/x-python",
   "name": "python",
   "nbconvert_exporter": "python",
   "pygments_lexer": "ipython3",
   "version": "3.7.8"
  }
 },
 "nbformat": 4,
 "nbformat_minor": 2
}
