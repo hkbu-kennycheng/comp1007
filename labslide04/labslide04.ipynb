{
 "cells": [
  {
   "cell_type": "markdown",
   "metadata": {
    "slideshow": {
     "slide_type": "slide"
    }
   },
   "source": [
    "# Lab4: Text Processing\n",
    "\n",
    "- Text Coding\n",
    "- Strings\n",
    "- File I/O\n"
   ]
  },
  {
   "cell_type": "markdown",
   "metadata": {
    "slideshow": {
     "slide_type": "fragment"
    }
   },
   "source": [
    "## Text Processing\n",
    "\n",
    "- **Human languages** are stored as **texts** in computers, such as **articles**, **news**, **novels**, **speeches**, etc. \n",
    "- Text processing is an important step to analyze the meaning of sentences or documents. Python can be used to process the huge amount of text data for the requirements in various textual data analysis. \n",
    "- This lab shows some very preliminary text processing functions in Python. \n",
    "- For a more comprehensive treatment on the topic, refer to the online Python documentation at: \n",
    "    - https://docs.python.org/3/library/stdtypes.html#textseq   \n",
    "    - https://docs.python.org/3/library/text.html "
   ]
  },
  {
   "cell_type": "markdown",
   "metadata": {
    "slideshow": {
     "slide_type": "slide"
    }
   },
   "source": [
    "# Lab4: Text Processing\n",
    "\n",
    "- Text Coding\n",
    "- <span style=\"color:#aaa\">Strings</span>\n",
    "- <span style=\"color:#aaa\">File I/O</span>\n"
   ]
  },
  {
   "cell_type": "markdown",
   "metadata": {
    "slideshow": {
     "slide_type": "fragment"
    }
   },
   "source": [
    "## Background of Text Coding\n",
    "\n",
    "- Today’s digital computers represent everything by **binary numbers**, i.e., 0 and 1.  \n",
    "- It’s important to have **global standards** on how to represent information (such as numbers, \n",
    "    texts, images, audio, video, etc.) in computers so that different computers  can exchange \n",
    "    information without misunderstanding. \n",
    "- Below are some fundamental terminologies related to digitalized information: \n",
    "    - **Bit**: A single 0 or 1 is called a bit. \n",
    "    - **Byte**: Eight bits form a byte. There are 256 (2^8) different combinations within a byte. (i.e., from 00000000 to 11111111). \n",
    "    - **Word**: Several bytes form a word (e.g., we may have 2‐byte word, 4‐byte word, or 8-byte)."
   ]
  },
  {
   "cell_type": "markdown",
   "metadata": {
    "slideshow": {
     "slide_type": "subslide"
    }
   },
   "source": [
    "## ASCII Code\n",
    "\n",
    "In 1968, the ASCII (American Standard Code for Information Interchange) code was standardized. ASCII defined numeric codes from 0 to 127 for various characters, including **digits** 0 to 9, **lowercase letters** a to z, **uppercase letters** A to Z, and some widely used **punctuation symbols**. |n practice, an\n",
    "\n",
    "ASCII character occupies a single byte. Check out https://en.wikipedia.org/wiki/ASCII for the history and details of ASCII. However, ASCII code is designed for English characters only and cannot be used for other human languages.\n",
    "\n",
    "![](https://www.pngitem.com/pimgs/m/189-1892451_transparent-binary-code-png-ascii-table-png-download.png)"
   ]
  },
  {
   "cell_type": "markdown",
   "metadata": {
    "slideshow": {
     "slide_type": "subslide"
    }
   },
   "source": [
    "## Unicode\n",
    "\n",
    "- Unicode is a standard for the consistent encoding, representation, and handling of text expressed in **most of the world‘s writing systems** (including Chinese). \n",
    "- The Unicode standard describes how characters are represented by different integers called **code points**. \n",
    "- To be compatible with ASCII, the **first 128 code points** (i.e., integers 0 to 127) in Unicode are the same as ASCII code.\n",
    "- The latest version Unicode 12.1 contains more than **1 million** code points that covers 146 modern and historic scripts, organized as a set of tables for different languages.\n"
   ]
  },
  {
   "cell_type": "markdown",
   "metadata": {
    "slideshow": {
     "slide_type": "subslide"
    }
   },
   "source": [
    "### Example of Unicode\n",
    "\n",
    "- But how to represent a code point by 0s and 1s? (i.e., an integer ranged from 0 to more than 1 million)\n",
    "- There are different solutions known as character  encodings, such as **UTF‐8**, **UTF‐16**, and **UTF‐32**. \n",
    "- Python 3.x uses **UTF‐8** as the default encoding to represent characters and strings. \n",
    "\n",
    "![](Zcfdej.png)"
   ]
  },
  {
   "cell_type": "markdown",
   "metadata": {
    "slideshow": {
     "slide_type": "subslide"
    }
   },
   "source": [
    "### UTF-8\n",
    "\n",
    "- **UTF‐8** is the dominant character encoding scheme of Unicode on the World Wide Web. It uses **one byte** for the **first 128 code points** (the same as ASCII), and up to **4 bytes** for other characters. \n",
    "- So **any ASCII text** is also a UTF‐8 text, which is a nice feature because a software developed for UTF‐8 can automatically process all existing ASCII‐based documents. \n",
    "- Chinese, Japanese and Korean characters are encoded in 3 bytes in UTF‐8.  \n",
    "\n",
    "![](rpLLdX.png)"
   ]
  },
  {
   "cell_type": "markdown",
   "metadata": {
    "slideshow": {
     "slide_type": "subslide"
    }
   },
   "source": [
    "## Summary\n",
    "\n",
    "Unicode defines how to map a character to a code point (essentially an integer). Encoding schemes such as UTF‐8, UTF‐16, and UTF‐32 define how to represent a code point by one or a few bytes for storage or communication purposes. In order to correctly process a plain text document, a software needs to know the exact encoding scheme. \n",
    "\n",
    "![](QsyqCy.png)"
   ]
  },
  {
   "cell_type": "markdown",
   "metadata": {
    "slideshow": {
     "slide_type": "slide"
    }
   },
   "source": [
    "# Lab4: Text Processing\n",
    "\n",
    "- <span style=\"color:#aaa\">Text Coding</span>\n",
    "- Strings\n",
    "- <span style=\"color:#aaa\">File I/O</span>\n"
   ]
  },
  {
   "cell_type": "markdown",
   "metadata": {
    "slideshow": {
     "slide_type": "subslide"
    }
   },
   "source": [
    "## Strings\n",
    "\n",
    "- In Python, a string is an object that stores a sequence of characters. \n",
    "- Strings have the built‐in data type **str** with many handy features. \n",
    "- Notice that Python has no specific data type for characters (chars). A character is simply a string with length of 1. \n",
    "- String literals can be enclosed by **single**, **double** or **triple** quotes, such as “Alice”, ‘Bob’, etc. \n",
    "- Python strings are **immutable** which means they cannot be changed after they are created."
   ]
  },
  {
   "cell_type": "markdown",
   "metadata": {
    "slideshow": {
     "slide_type": "subslide"
    }
   },
   "source": [
    "## Strings\n",
    "\n",
    "- Since a string consists **a sequence of characters**, characters in a string can be accessed using the standard [ ] syntax. \n",
    "- Python uses zero‐based indexing, so if **s** is 'hello', then s\\[1\\] is 'e'.\n",
    "- If the index is out of bounds for the string, Python raises an error. \n",
    "- The **len()** function returns the length of a string.\n",
    "- The **‘+’** operator can concatenate two strings. "
   ]
  },
  {
   "cell_type": "code",
   "execution_count": null,
   "metadata": {
    "slideshow": {
     "slide_type": "fragment"
    }
   },
   "outputs": [],
   "source": [
    "name = \"Alice\"\n",
    "type(name)\n",
    "print(name[3])\n",
    "print(len(name) )\n",
    "print(name + \" Lee\")"
   ]
  },
  {
   "cell_type": "markdown",
   "metadata": {
    "slideshow": {
     "slide_type": "subslide"
    }
   },
   "source": [
    "## Strings: character classification\n",
    "\n",
    "Python follows the following rules of character classification: \n",
    "```python\n",
    "whitespace = ' \\t\\n\\r\\v\\f'\n",
    "```\n",
    "(Remark: Python whitespace includes space, tab, linefeed, return, vertical tab, and formfeed) \n",
    "\n",
    "```python\n",
    "ascii_lowercase = 'abcdefghijklmnopqrstuvwxyz' \n",
    "ascii_uppercase = 'ABCDEFGHIJKLMNOPQRSTUVWXYZ' \n",
    "ascii_letters = ascii_lowercase + ascii_uppercase \n",
    "digits = '0123456789' \n",
    "hexdigits = digits + 'abcdef' + 'ABCDEF' \n",
    "```"
   ]
  },
  {
   "cell_type": "code",
   "execution_count": null,
   "metadata": {
    "slideshow": {
     "slide_type": "fragment"
    }
   },
   "outputs": [],
   "source": [
    "import string\n",
    "print(string.octdigits)"
   ]
  },
  {
   "cell_type": "markdown",
   "metadata": {
    "slideshow": {
     "slide_type": "subslide"
    }
   },
   "source": [
    "## Strings: String methods in str class\n",
    "\n",
    "The built‐in str class has many methods for manipulating text. The commonly used methods include: \n",
    "\n",
    "- **lower()**, **upper()**:  returns  the  lowercase  or  uppercase  version  of  the  string. To  know more about the functions, type **help(str.lower)** or **help(str.upper)** in the code block."
   ]
  },
  {
   "cell_type": "code",
   "execution_count": null,
   "metadata": {
    "slideshow": {
     "slide_type": "fragment"
    }
   },
   "outputs": [],
   "source": [
    "s = \"HkbUCs\"\n",
    "print(s.upper()) #HKBUCS\n",
    "print(s.lower()) #hkbucs\n",
    "help(s.lower) #don’t put () at the end of s.lower!"
   ]
  },
  {
   "cell_type": "markdown",
   "metadata": {
    "slideshow": {
     "slide_type": "fragment"
    }
   },
   "source": [
    "- **strip()**:  returns  a  string  with  special  char  (as  specified  by  the  function  parameter,  or  by default whitespaces) removed from the start and end."
   ]
  },
  {
   "cell_type": "code",
   "execution_count": null,
   "metadata": {
    "slideshow": {
     "slide_type": "fragment"
    }
   },
   "outputs": [],
   "source": [
    "s1 = \"******HkbUCs******\"\n",
    "s2 = \"      Computer    \"\n",
    "print(s1.strip('*')) #HkbUCs\n",
    "print(s2.strip())   #Computer"
   ]
  },
  {
   "cell_type": "markdown",
   "metadata": {
    "slideshow": {
     "slide_type": "subslide"
    }
   },
   "source": [
    "- **isalpha()**, **isdigit()**, **isspace()**, **isalnum()**, **islower()**, **isupper()**: tests if all the string chars are in the various character classes.\n",
    "    - **isalpha()**:  Returns True  if  the  string  has  at  least  1  character and all  characters  are alphabetic, and False otherwise\n",
    "    - **isdigit()**: Returns True if the string contains only **digits**, and False otherwise\n",
    "    - **isspace()**: Returns True if the string contains only **whitespace** characters, and False otherwise\n",
    "    - **isalnum()**: Returns True if  the string has at least 1 character and all characters are **alphanumeric**, and False otherwise\n",
    "    - **islower()**:  Returns  True  if  the  string  has  at  least  1  cased  character  and  all  cased characters are in lowercase, and False otherwise\n",
    "    - **isupper()**:  Returns  True  if  the  string  has  at  least  1  cased  character  and  all  cased characters are in uppercase, and False otherwise"
   ]
  },
  {
   "cell_type": "code",
   "execution_count": null,
   "metadata": {
    "slideshow": {
     "slide_type": "fragment"
    }
   },
   "outputs": [],
   "source": [
    "s1 = \"HkbUCs\"\n",
    "s2 = \"1000\"\n",
    "s3 = \"1000.\"\n",
    "s4 = \"           \"\n",
    "print(s1.isalpha()) # True\n",
    "print(s2.isdigit()) # True\n",
    "print(s3.isdigit()) # False\n",
    "print(s4.isspace()) # True"
   ]
  },
  {
   "cell_type": "markdown",
   "metadata": {
    "slideshow": {
     "slide_type": "subslide"
    }
   },
   "source": [
    "- **startswith()**, **endswith()**: tests if the string starts or ends with the given other string."
   ]
  },
  {
   "cell_type": "code",
   "execution_count": null,
   "metadata": {
    "slideshow": {
     "slide_type": "fragment"
    }
   },
   "outputs": [],
   "source": [
    "s = \"CS is fun!\"\n",
    "print(s.startswith(\"CS\"))   #True\n",
    "print(s.endswith(\"un!\"))    #True\n",
    "print(s.endswith(\"UN!\"))    #Case sensitive, False"
   ]
  },
  {
   "cell_type": "markdown",
   "metadata": {
    "slideshow": {
     "slide_type": "fragment"
    }
   },
   "source": [
    "- **find()**:  searches  for  the  given  other  string  within  the  original  string,  and  returns  the  first  index where it begins or ‐1 if not found."
   ]
  },
  {
   "cell_type": "code",
   "execution_count": null,
   "metadata": {
    "slideshow": {
     "slide_type": "fragment"
    }
   },
   "outputs": [],
   "source": [
    "s = \"CS is fun!\"\n",
    "print(s.find(\"fun\"))    #6"
   ]
  },
  {
   "cell_type": "markdown",
   "metadata": {
    "slideshow": {
     "slide_type": "fragment"
    }
   },
   "source": [
    "- **replace()**:  returns a  string where all occurrences of  'old'  part  have  been  replaced  by  'new'  part."
   ]
  },
  {
   "cell_type": "code",
   "execution_count": null,
   "metadata": {
    "slideshow": {
     "slide_type": "fragment"
    }
   },
   "outputs": [],
   "source": [
    "s = \"CS is fun!\"\n",
    "t = s.replace(\"CS\", \"Computer Science\")\n",
    "print(t)   #Computer Science is fun!"
   ]
  },
  {
   "cell_type": "markdown",
   "metadata": {
    "slideshow": {
     "slide_type": "subslide"
    }
   },
   "source": [
    "- **split()**: returns a list of substrings separated by the given delimiter"
   ]
  },
  {
   "cell_type": "code",
   "execution_count": null,
   "metadata": {
    "slideshow": {
     "slide_type": "fragment"
    }
   },
   "outputs": [],
   "source": [
    "s = \"CS is fun!\"\n",
    "words = s.split(' ')\n",
    "print(words)     #['CS', 'is', 'fun!']"
   ]
  },
  {
   "cell_type": "markdown",
   "metadata": {
    "slideshow": {
     "slide_type": "fragment"
    }
   },
   "source": [
    "- **join()**: opposite of split(), joins the elements in the given list together using the string as the \n",
    "delimiter."
   ]
  },
  {
   "cell_type": "code",
   "execution_count": null,
   "metadata": {
    "slideshow": {
     "slide_type": "fragment"
    }
   },
   "outputs": [],
   "source": [
    "s = \"\"\n",
    "words = ['CS', 'is', 'fun', '!']\n",
    "s = s.join(words)\n",
    "print(s)         #CSisfun!\n",
    "m = \" \".join(words)\n",
    "print(m)         #CS is fun!"
   ]
  },
  {
   "cell_type": "markdown",
   "metadata": {
    "slideshow": {
     "slide_type": "subslide"
    }
   },
   "source": [
    "## Example\n",
    "The  following  example  shows  how  to  remove  the  punctuations  from  a  sentence  using \n",
    "**replace( )** and then split the sentence into a list of words using **split( )**: "
   ]
  },
  {
   "cell_type": "code",
   "execution_count": null,
   "metadata": {
    "slideshow": {
     "slide_type": "fragment"
    }
   },
   "outputs": [],
   "source": [
    "myString = \"He said, 'Hi! Stop! Stop!'\"\n",
    "import string # to access the string.punctuation\n",
    "for c in string.punctuation:\n",
    "myString = myString.replace(c, '')  \n",
    "words = myString.split(' ') # split the sentence into words\n",
    "print(words)  "
   ]
  },
  {
   "cell_type": "markdown",
   "metadata": {
    "slideshow": {
     "slide_type": "subslide"
    }
   },
   "source": [
    "## Strings: String Slices\n",
    "\n",
    "The \"slice\" syntax is a handy way to refer to sub-parts of sequences (e.g., the substring of a string). The slice **s\\[start:end\\]** is the elements beginning at **start** and extending up to but not including **end**. For example, we have a string “Alice” stored in the variable _name_. With the slice syntax, we get:\n",
    "- name\\[2:5\\] is “ice”;   name\\[0:3\\] is “Ali”;   name\\[2:\\] is “ice” too. "
   ]
  },
  {
   "cell_type": "markdown",
   "metadata": {
    "slideshow": {
     "slide_type": "subslide"
    }
   },
   "source": [
    "## Strings: String Formatting (A Review of Lab1A-Example 2.2)\n",
    "\n",
    "The  string  formatting  operator  %  takes  a  printf‐type  format  string  on  the  left (**%d**  for  int, **%s**  for string, **%f** for float), and the matching values in a tuple on the right: **format % values**"
   ]
  },
  {
   "cell_type": "code",
   "execution_count": null,
   "metadata": {
    "slideshow": {
     "slide_type": "fragment"
    }
   },
   "outputs": [],
   "source": [
    "text = \"%s! You have a meeting with %s at %d:%d pm.\" % (\"Good Morning\",\"Alice\", 3, 30)\n",
    "print(text)    \n",
    "# Good Morning! You have a meeting with Alice at 3:30 pm."
   ]
  },
  {
   "cell_type": "markdown",
   "metadata": {
    "slideshow": {
     "slide_type": "subslide"
    }
   },
   "source": [
    "## Strings: String Formatting (A Review of Lab1A-Example 2.2)\n",
    "\n",
    "Alternatively,  we  can  use  the **format()**  function  to  format  a  string. With  this  function,  we  do  not need to specify the data types in the format string. We replace the %d, %s, %f with a set of braces.  "
   ]
  },
  {
   "cell_type": "code",
   "execution_count": null,
   "metadata": {
    "slideshow": {
     "slide_type": "fragment"
    }
   },
   "outputs": [],
   "source": [
    "text = \"{0}! You have a meeting with {1} at {2}:{3} pm.\".format(\"Good Morning\", \"Alice\", 3, 30)\n",
    "print(text)\n",
    "# Good Morning! You have a meeting with Alice at 3:30 pm."
   ]
  },
  {
   "cell_type": "markdown",
   "metadata": {
    "slideshow": {
     "slide_type": "subslide"
    }
   },
   "source": [
    "## More example of the format() function\n",
    "\n",
    "We can see that the result is the same as using % operator. Both  formatters are great, there is no \n",
    "problem if you use either the % operator or the format() function. "
   ]
  },
  {
   "cell_type": "code",
   "execution_count": null,
   "metadata": {
    "slideshow": {
     "slide_type": "fragment"
    }
   },
   "outputs": [],
   "source": [
    "'{0}, {1}, {2}'.format('a', 'b', 'c')   #a, b, c\n",
    "'{}, {}, {}'.format('a', 'b', 'c')      #a, b, c\n",
    "'{2}, {1}, {0}'.format('a', 'b', 'c')   #c, b, a\n",
    "'{0}, {1}, {0}'.format('a', 'b', 'c')   #a, b, a\n",
    "'{0}, {1}, {0}'.format('a', 'b')        #a, b, a"
   ]
  },
  {
   "cell_type": "markdown",
   "metadata": {
    "slideshow": {
     "slide_type": "subslide"
    }
   },
   "source": [
    "## Exercises\n",
    "\n",
    "### Exercise 1\n",
    "Write  a  Python  function  that  accepts  a  sentence  and  returns  the  first  longest  word.  Assume  the  words in the string are separated by whitespaces. \n",
    "\n",
    "Example: \n",
    "```\n",
    "Input = “Hello World Computer Science is fun” \n",
    "Expected Output = “Computer”\n",
    "```"
   ]
  },
  {
   "cell_type": "code",
   "execution_count": null,
   "metadata": {
    "slideshow": {
     "slide_type": "skip"
    }
   },
   "outputs": [],
   "source": [
    "# Please write the function for Exercise 1 here\n"
   ]
  },
  {
   "cell_type": "markdown",
   "metadata": {
    "slideshow": {
     "slide_type": "subslide"
    }
   },
   "source": [
    "### Exercise 2\n",
    "Write a Python program that accepts a string and stepsize which is an integer between 0 and 25. The function is able to create a Caesar encryption which transfers a character to the one which is stepsize away.  \n",
    "\n",
    "Caesar encryption example with stepsize of 3: \n",
    "<pre><span style=\"color:blue\">ABCDEFGHIJKLMNOPQRSTUVWXYZ</span>\n",
    "<span style=\"color:red\">ABCDEFGHIJKLMNOPQRSTUVWXYZ</span></pre>\n",
    "\n",
    "transform \"<span style=\"color:blue\">HELLO</span>\" to \"<span style=\"color:red\">KHOOR</span>\"\n",
    "\n",
    "**Note**: The following built-in functions: **chr( )** and **ord( )** can be useful for Exercise 2.\n"
   ]
  },
  {
   "cell_type": "code",
   "execution_count": null,
   "metadata": {
    "slideshow": {
     "slide_type": "skip"
    }
   },
   "outputs": [],
   "source": [
    "# Please write the function for Exercise 2 here\n"
   ]
  },
  {
   "cell_type": "markdown",
   "metadata": {
    "slideshow": {
     "slide_type": "slide"
    }
   },
   "source": [
    "# Lab4: Text Processing\n",
    "\n",
    "- <span style=\"color:#aaa\">Text Coding</span>\n",
    "- <span style=\"color:#aaa\">Strings</span>\n",
    "- File I/O\n"
   ]
  },
  {
   "cell_type": "markdown",
   "metadata": {
    "slideshow": {
     "slide_type": "subslide"
    }
   },
   "source": [
    "## Read a File\n",
    "\n",
    "- In Python, before accessing a file, we need to use built‐in function **open()** to open it which returns a **file object**. \n",
    "- **open()** usually takes two string parameters: **filename** and **mode**. \n",
    "- After opening a file successfully, you can read its data by **read()** or **readline()** functions through the file object. \n",
    "- After accessing the file, use **close()** to close the file. "
   ]
  },
  {
   "cell_type": "markdown",
   "metadata": {
    "slideshow": {
     "slide_type": "subslide"
    }
   },
   "source": [
    "## Example"
   ]
  },
  {
   "cell_type": "code",
   "execution_count": null,
   "metadata": {
    "slideshow": {
     "slide_type": "fragment"
    }
   },
   "outputs": [],
   "source": [
    "file1 = open(\"demo.txt\", \"r\") # file1 is a file object\n",
    "content = file1.read() # read all data from file1 as a string\n",
    "file1.close() # close file1. Now we cannot access demo.txt through file1\n",
    "print(content)"
   ]
  },
  {
   "cell_type": "markdown",
   "metadata": {
    "slideshow": {
     "slide_type": "fragment"
    }
   },
   "source": [
    "There are four different modes for opening a file: \n",
    "- “r”: opens a file for reading (default) \n",
    "- “w”: opens a file for writing, truncating the file first (i.e., the old **data will be lost!**) \n",
    "- “x”: creates a new file and opens it for writing \n",
    "- “a”: opens a file for appending, creates a new file if the file does not exist. "
   ]
  },
  {
   "cell_type": "markdown",
   "metadata": {
    "slideshow": {
     "slide_type": "subslide"
    }
   },
   "source": [
    "## read()\n",
    "\n",
    "By default, **read( )** will read data till the end of the file if you do not specify the range. We can also control how many bytes of data to read by providing an integer argument, i.e., **read(size)**: "
   ]
  },
  {
   "cell_type": "code",
   "execution_count": null,
   "metadata": {
    "slideshow": {
     "slide_type": "fragment"
    }
   },
   "outputs": [],
   "source": [
    "file1 = open(\"demo.txt\", \"r\") # open the file\n",
    "s = file1.read(100) # read 100 bytes\n",
    "print(s)\n",
    "print()\n",
    "s = file1.read(100) # read another 100 bytes\n",
    "print(s)\n",
    "file1.close()"
   ]
  },
  {
   "cell_type": "markdown",
   "metadata": {
    "slideshow": {
     "slide_type": "subslide"
    }
   },
   "source": [
    "## readline()\n",
    "\n",
    "For text file, we can use **readline( )** function read a line, e.g., "
   ]
  },
  {
   "cell_type": "code",
   "execution_count": null,
   "metadata": {
    "slideshow": {
     "slide_type": "fragment"
    }
   },
   "outputs": [],
   "source": [
    "file1 = open(\"demo.txt\", \"r\")\n",
    "s = file1.readline() # read a line from demo.txt, including the last '\\n'\n",
    "print(s)\n",
    "print()\n",
    "s = file1.readline() # read another line from demo.txt\n",
    "print(s)\n",
    "file1.close()"
   ]
  },
  {
   "cell_type": "markdown",
   "metadata": {
    "slideshow": {
     "slide_type": "subslide"
    }
   },
   "source": [
    "## Read all lines from a file using readline()\n",
    "\n",
    "The following example shows how to read all lines from a file separately: "
   ]
  },
  {
   "cell_type": "code",
   "execution_count": null,
   "metadata": {
    "slideshow": {
     "slide_type": "fragment"
    }
   },
   "outputs": [],
   "source": [
    "file1 = open(\"demo.txt\", \"r\")\n",
    "s = file1.readline()\n",
    "while s != '': # when reach the end of the file, s should become empty ''\n",
    "    print(s)\n",
    "    s = file1.readline()\n",
    "file1.close()"
   ]
  },
  {
   "cell_type": "markdown",
   "metadata": {
    "slideshow": {
     "slide_type": "subslide"
    }
   },
   "source": [
    "## Read all lines from a file using readlines()\n",
    "\n",
    "Another way to read lines from a file is through **readlines( )**, which save all lines in a file as a list of \n",
    "string. This is the most commonly used way to process a text file. "
   ]
  },
  {
   "cell_type": "code",
   "execution_count": null,
   "metadata": {
    "slideshow": {
     "slide_type": "fragment"
    }
   },
   "outputs": [],
   "source": [
    "file1 = open(\"demo.txt\", \"r\")\n",
    "lines = file1.readlines()\n",
    "file1.close()\n",
    "print(len(lines)) # check the number of lines in demo.txt\n",
    "for s in lines: # iterate the list of lines\n",
    "    print(s)"
   ]
  },
  {
   "cell_type": "markdown",
   "metadata": {
    "slideshow": {
     "slide_type": "subslide"
    }
   },
   "source": [
    "## Write a File\n",
    "\n",
    "We can also use **write( )** function to write data into a file opened with “w” or “x” or “a”: "
   ]
  },
  {
   "cell_type": "code",
   "execution_count": null,
   "metadata": {
    "slideshow": {
     "slide_type": "fragment"
    }
   },
   "outputs": [],
   "source": [
    "file1 = open(\"demo.txt\", \"a\") # \"a\" means we can append data at the end\n",
    "file1.write(\"Now we have something new!\")\n",
    "file1.close()"
   ]
  },
  {
   "cell_type": "markdown",
   "metadata": {
    "slideshow": {
     "slide_type": "fragment"
    }
   },
   "source": [
    "Try the following example, to find out what is the difference between mode a and mode w:"
   ]
  },
  {
   "cell_type": "code",
   "execution_count": null,
   "metadata": {
    "slideshow": {
     "slide_type": "fragment"
    }
   },
   "outputs": [],
   "source": [
    "file1 = open(\"demo.txt\", \"w\")\n",
    "file1.write(\"Now we have something new!\")\n",
    "file1.close()"
   ]
  },
  {
   "cell_type": "markdown",
   "metadata": {
    "slideshow": {
     "slide_type": "subslide"
    }
   },
   "source": [
    "## Exercise 3\n",
    "\n",
    "Write a  function **copy(x, y)**  that can copy a  file **x** into another  file **y**. Use demo.txt as  the input  to verify your function. \n",
    "\n",
    "_**Hint**_: use functions open( ), read( ), write( ), and close( ). "
   ]
  },
  {
   "cell_type": "code",
   "execution_count": null,
   "metadata": {
    "slideshow": {
     "slide_type": "skip"
    }
   },
   "outputs": [],
   "source": [
    "# Please write the function for Exercise 3 here\n"
   ]
  }
 ],
 "metadata": {
  "celltoolbar": "Slideshow",
  "kernelspec": {
   "display_name": "Python 3",
   "language": "python",
   "name": "python3"
  },
  "language_info": {
   "codemirror_mode": {
    "name": "ipython",
    "version": 3
   },
   "file_extension": ".py",
   "mimetype": "text/x-python",
   "name": "python",
   "nbconvert_exporter": "python",
   "pygments_lexer": "ipython3",
   "version": "3.6.11"
  }
 },
 "nbformat": 4,
 "nbformat_minor": 2
}
