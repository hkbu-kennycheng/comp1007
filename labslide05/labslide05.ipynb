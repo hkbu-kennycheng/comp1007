{
 "cells": [
  {
   "cell_type": "markdown",
   "metadata": {
    "slideshow": {
     "slide_type": "slide"
    }
   },
   "source": [
    "# Lab 5: Handling Quantitative Data:  Introduction to Numpy\n",
    "\n",
    "- What is NumPy?\n",
    "- The data type of N-dimensional array: ndarray. \n",
    "- How to create ndarray objects?\n",
    "- How to access and manipulate data in ndarray?\n"
   ]
  },
  {
   "cell_type": "markdown",
   "metadata": {
    "slideshow": {
     "slide_type": "subslide"
    }
   },
   "source": [
    "# Lab 5: Handling Quantitative Data:  Introduction to Numpy\n",
    "\n",
    "- What is NumPy?\n",
    "- <span style=\"color:#aaa\">The data type of N-dimensional array: ndarray. </span>\n",
    "- <span style=\"color:#aaa\">How to create ndarray objects?</span>\n",
    "- <span style=\"color:#aaa\">How to access and manipulate data in ndarray?</span>"
   ]
  },
  {
   "cell_type": "markdown",
   "metadata": {
    "slideshow": {
     "slide_type": "subslide"
    }
   },
   "source": [
    "## What is NumPy ?*\n",
    "\n",
    "- **NumPy** (standing for Numerical Python) is a popular library in Python that can efficiently process **multidimensional data arrays**. It is also the foundation of other advanced Python libraries such as **Pandas**.\n",
    "\n",
    "**Examples of 1‐dimensinoal array**: the elements must have the same data type\n",
    "\n"
   ]
  },
  {
   "cell_type": "code",
   "execution_count": null,
   "metadata": {
    "slideshow": {
     "slide_type": "fragment"
    }
   },
   "outputs": [],
   "source": [
    "[2,7,10,6] # an array of integers, shape is (4)\n",
    "[73.5, 67.0, 75.5, 58.5, 92.0] # an array of stduent grades or stock prices, shape is (5)\n",
    "['Sam', 'John', 'Zoe'] # an array of names, shape is (3)"
   ]
  },
  {
   "cell_type": "markdown",
   "metadata": {
    "slideshow": {
     "slide_type": "fragment"
    }
   },
   "source": [
    "**Example of 2‐diminsionial array**: an array of array with the same shape and data type"
   ]
  },
  {
   "cell_type": "code",
   "execution_count": null,
   "metadata": {
    "slideshow": {
     "slide_type": "fragment"
    }
   },
   "outputs": [],
   "source": [
    "[[3,6,4,8],\n",
    " [2,7,5,9],\n",
    " [4,8,6,1]] # an array with 3 elements, each element is an array with 4 integers, shape is (3,4)"
   ]
  },
  {
   "cell_type": "markdown",
   "metadata": {
    "slideshow": {
     "slide_type": "subslide"
    }
   },
   "source": [
    "## List vs. Array\n",
    "\n",
    "- Arrays need extra declaration while lists don’t.\n",
    "- Lists are generally used more often between the two, which works fine most of the time. \n",
    "- If you're going to perform arithmetic functions to your lists, you should really be using arrays instead. \n",
    "- Arrays will store your data more compactly and efficiently. \n"
   ]
  },
  {
   "cell_type": "markdown",
   "metadata": {
    "slideshow": {
     "slide_type": "subslide"
    }
   },
   "source": [
    "## The major features of NumPy\n",
    "- Easily generate and store data in memory in the form of multidimensional array\n",
    "- Easily load and store data on disk in **binary**, **text**, or **CSV format**\n",
    "- Support **efficient** operations on data arrays, including basic arithmetic and logical operations, shape manipulation, data sorting, data slicing, linear algebra, statistical operation, discrete Fourier transform, etc.\n",
    "- Vectorised computation: simple syntax for elementwise operations without using loops (e.g., **a** = **b** + **c** where **a**, **b**, and **c** are three multidimensional arrays with same shape)."
   ]
  },
  {
   "cell_type": "markdown",
   "metadata": {
    "slideshow": {
     "slide_type": "subslide"
    }
   },
   "source": [
    "## How to use NumPy?\n",
    "\n",
    "- In order to use NumPy, we need to import the module **numpy** first.\n",
    "- A widely used convention is to use **np** as a short name of **numpy**."
   ]
  },
  {
   "cell_type": "code",
   "execution_count": null,
   "metadata": {
    "slideshow": {
     "slide_type": "fragment"
    }
   },
   "outputs": [],
   "source": [
    "import numpy as np"
   ]
  },
  {
   "cell_type": "markdown",
   "metadata": {
    "slideshow": {
     "slide_type": "fragment"
    }
   },
   "source": [
    "- In this labsheet, when you see **np.xxx**, it is the same as **numpy.xxx**.\n",
    "- Remark: the module name of NumPy library is **numpy** (i.e., lowercase)"
   ]
  },
  {
   "cell_type": "markdown",
   "metadata": {
    "slideshow": {
     "slide_type": "slide"
    }
   },
   "source": [
    "# Lab 5: Handling Quantitative Data:  Introduction to Numpy\n",
    "\n",
    "- <span style=\"color:#aaa\">What is NumPy?</span>\n",
    "- The data type of N-dimensional array: ndarray.\n",
    "- <span style=\"color:#aaa\">How to create ndarray objects?</span>\n",
    "- <span style=\"color:#aaa\">How to access and manipulate data in ndarray?</span>"
   ]
  },
  {
   "cell_type": "markdown",
   "metadata": {
    "slideshow": {
     "slide_type": "subslide"
    }
   },
   "source": [
    "## The data type of N-dimensional array: _ndarray_\n",
    "\n",
    "- The core of NumPy is the N-dimensional array datatype **ndarray**. It can store a collection of data items ***with the same type***, i.e., the array is **homogeneous**.\n",
    "- This makes it very different from list. A list is more **flexible**, but **less efficient**.\n",
    "- **ndarray** can only store items with same type, but its **performance** is much better than list (i.e., it takes a shorter time to process the same amount of data).\n",
    "\n"
   ]
  },
  {
   "cell_type": "markdown",
   "metadata": {
    "slideshow": {
     "slide_type": "subslide"
    }
   },
   "source": [
    "## An ndarray object has the following properties\n",
    "|Property|Description|\n",
    "|----|----|\n",
    "|**ndarray.ndim**|The number of dimensions of the array (i.e., 1 or 2 or 3 …)|\n",
    "|**ndarray.shape**|The dimensions of the array (i.e., number of elements in each dimension)|\n",
    "|**ndarray.size**|The total number of elements of the array|\n",
    "|**ndarray.dtype**|The data type of the array|\n",
    "|**ndarray.itemsize**|The number of bytes of each data element|\n",
    "|**ndarray.data**|The buffer that stores the data elements of the array |\n",
    "    "
   ]
  },
  {
   "cell_type": "markdown",
   "metadata": {
    "slideshow": {
     "slide_type": "subslide"
    }
   },
   "source": [
    "## Data types supported by NumPy\n",
    "\n",
    "NumPy supports the following popular data types:\n",
    "\n",
    "- Integers with different sizes: *int8  int16  int32  int64  uint8  uint16  uint32  uint64*\n",
    "- Real numbers with different sizes: *float16  float32  float64  float128*\n",
    "- Complex numbers with different sizes: *complex64   complex128   complex256*\n",
    "- Traditional ASCII string with constant length (one byte per character): *S10* means a string with 10 characters\n",
    "- Unicode string with constant length: *U10* means a string with 10 unicode characters"
   ]
  },
  {
   "cell_type": "markdown",
   "metadata": {
    "slideshow": {
     "slide_type": "subslide"
    }
   },
   "source": [
    "## Example 1\n",
    "\n",
    "Try the following statements about 2-d array"
   ]
  },
  {
   "cell_type": "code",
   "execution_count": null,
   "metadata": {
    "slideshow": {
     "slide_type": "fragment"
    }
   },
   "outputs": [],
   "source": [
    "a = np.arange(20) # generate a 1-d array first\n",
    "print(a) # [0 1 2 3 ... 18 19]\n",
    "\n",
    "a = a.reshape(4,5) # generate a 2-d array from a, and assign it to a\n",
    "print(a) \n",
    "print(type(a)) # numpy.ndarray\n",
    "print(a.ndim) # 2\n",
    "print(a.shape) # (4,5)\n",
    "print(a.dtype) # int32\n",
    "print(a.itemsize) # 4\n",
    "print(a.size) # 20"
   ]
  },
  {
   "cell_type": "markdown",
   "metadata": {
    "slideshow": {
     "slide_type": "subslide"
    }
   },
   "source": [
    "## Exercise 1\n",
    "\n",
    "Use **numpy.arange()** to generate a 1-dimenstional array with 100 odd numbers 1, 3, 5, …, 199. Then use **numpy.reshape()** to generate a two-dimensional array with shape (10, 10). Print out the\n",
    "shape, size, and data of the two-dimensional array"
   ]
  },
  {
   "cell_type": "code",
   "execution_count": null,
   "metadata": {
    "slideshow": {
     "slide_type": "skip"
    }
   },
   "outputs": [],
   "source": [
    "# write your code here\n",
    "\n",
    "\n",
    "\n",
    "# :D"
   ]
  },
  {
   "cell_type": "markdown",
   "metadata": {
    "slideshow": {
     "slide_type": "slide"
    }
   },
   "source": [
    "# Lab 5: Handling Quantitative Data:  Introduction to Numpy\n",
    "\n",
    "- <span style=\"color:#aaa\">What is NumPy?</span>\n",
    "- <span style=\"color:#aaa\">The data type of N-dimensional array: ndarray.</span>\n",
    "- How to create ndarray objects?\n",
    "- <span style=\"color:#aaa\">How to access and manipulate data in ndarray?</span>"
   ]
  },
  {
   "cell_type": "markdown",
   "metadata": {
    "slideshow": {
     "slide_type": "subslide"
    }
   },
   "source": [
    "## How to create ndarray objects?\n",
    "\n",
    "**Four** different approaches to create ndarray objects\n",
    "1. Use the **numpy.array()** function to generate an ndarray object from any sequence-like object (e.g., list and tuple)\n",
    "2. Use the **build-in functions** to generate some special ndarray object. Use help( ) to find out the details of each function. \n",
    "3. Generate ndarray with random numbers (**random sampling**). The **numpy.random** module provides functions to generate arrays of sample values from popular probability distributions.  \n",
    "4. Save ndarray to disk file, and read ndarray from disk file "
   ]
  },
  {
   "cell_type": "markdown",
   "metadata": {
    "slideshow": {
     "slide_type": "subslide"
    }
   },
   "source": [
    "- Use the **numpy.array()** function to generate an ndarray object from any sequence-like object (e.g., list and tuple)\n",
    "\n",
    "**Example 2**: Try the following statements about ndarray"
   ]
  },
  {
   "cell_type": "code",
   "execution_count": null,
   "metadata": {
    "slideshow": {
     "slide_type": "fragment"
    }
   },
   "outputs": [],
   "source": [
    "# generate a 1-d array from a sequence of data\n",
    "data1 = [1,2,3,4,5,6]\n",
    "arr1 = np.array(data1)\n",
    "print(arr1)\n",
    "print(arr1.ndim)\n",
    "print(arr1.shape)\n",
    "\n",
    "# generate a 2-d array from a sequence of data\n",
    "data2 = [[1,2,3,4], [5,6,7,8]]\n",
    "arr2 = np.array(data2)\n",
    "print(arr2)\n",
    "print(arr2.ndim)\n",
    "print(arr2.shape)\n",
    "\n",
    "# generate a 3-d array from a sequence of data\n",
    "data3 = [[[1,2,3,4], [5,6,7,8]],\n",
    "         [[9,10,11,12], [13,14,15,16]],\n",
    "         [[17,18,19,20], [21,22,23,24]]]\n",
    "arr3 = np.array(data3)\n",
    "print(arr3)\n",
    "print(arr3.ndim)\n",
    "print(arr3.shape)\n"
   ]
  },
  {
   "cell_type": "markdown",
   "metadata": {
    "slideshow": {
     "slide_type": "subslide"
    }
   },
   "source": [
    "- Use of following functions to generate some special ndarray object. Use **help()** to find out the details of each function.\n",
    "\n",
    "|Function|Example|Description|\n",
    "|--------|-------|-----------|\n",
    "|**arange**|arr = np.arange(20)|Return evenly spaced values within a given<br>interval, simiar to the built-in range( ) function.|\n",
    "|**ones**|arr = np.ones(10)|An array of all 1’s with the given shape|\n",
    "|**zeros**|arr = np.zeros( (2, 3) )|An array of all 0’s with the given shape|\n",
    "|**full**|arr = np.full( (3, 4), 1.2)|An array of all specified value with the given shape|\n",
    "|**empty**|arr = np.empty( (2, 5) )|An array with the given shape without initial data|\n",
    "|**eye**|arr = np.eye(6)|A square NxN identity matrix|\n",
    "\n",
    "**Example 3**: Try the following statements to learn different array generating functions"
   ]
  },
  {
   "cell_type": "code",
   "execution_count": null,
   "metadata": {
    "slideshow": {
     "slide_type": "fragment"
    }
   },
   "outputs": [],
   "source": [
    "arr = np.ones(10)\n",
    "print(arr)\n",
    "arr = np.zeros((2,3))\n",
    "print(arr)\n",
    "arr = np.full((3,4), 1.2)\n",
    "print(arr)\n",
    "arr = np.empty((2,5))\n",
    "print(arr)\n",
    "arr = np.eye(6)\n",
    "print(arr)"
   ]
  },
  {
   "cell_type": "markdown",
   "metadata": {
    "slideshow": {
     "slide_type": "subslide"
    }
   },
   "source": [
    "- Generate ndarray with random numbers (**random sampling**)\n",
    "\n",
    "The **numpy.random** module provides to generate arrays of sample values from popular probability distributions.\n",
    "\n",
    "**Reference**: https://numpy.org/doc/stable/reference/random/index.html\n",
    "\n",
    "**Example 4**: Try the following statements to generate different random arrays. Use help( ) to understand the functions **random()**, **randint()**, **randn()**, and **uniform()** in numpy.random module. "
   ]
  },
  {
   "cell_type": "code",
   "execution_count": null,
   "metadata": {
    "scrolled": true,
    "slideshow": {
     "slide_type": "fragment"
    }
   },
   "outputs": [],
   "source": [
    "help(np.random.random)\n",
    "\n",
    "arr = np.random.random((2,3)) # return 2x3 random floats in half-open interval [0.0, 1.0)\n",
    "print(arr)\n",
    "arr = np.random.randint(10, 100, 10) # return 10 random integers in half-open interval [10, 100)\n",
    "print(arr)\n",
    "arr = np.random.randn(6,3) # return 6x3 samples drawn from standard normal distribution\n",
    "print(arr)\n",
    "arr = np.random.uniform(-1, 1, 10) # return 10 samples drawn from standard normal distribution in (-1,1)\n",
    "print(arr)"
   ]
  },
  {
   "cell_type": "markdown",
   "metadata": {
    "slideshow": {
     "slide_type": "subslide"
    }
   },
   "source": [
    "- Save ndarray to disk file, and load ndarray from disk file\n",
    "\n",
    "**Example 5**: Try the following statements to save ndarray as **binary file** and load ndarray from binary file (which was previously created by **numpy.save()** function). \n",
    "\n",
    "a. Binary format (which is not suitable for human to read) "
   ]
  },
  {
   "cell_type": "code",
   "execution_count": null,
   "metadata": {
    "slideshow": {
     "slide_type": "fragment"
    }
   },
   "outputs": [],
   "source": [
    "arr1 = np.arange(2, 100, 2) # [2, 4, 6, ... , 100]\n",
    "np.save('even.npy', arr1) # save ndarray to file named <even.npy>\n",
    "# try: open the file by text editor and see what's inside? :Q\n",
    "\n",
    "arr2 = np.load('even.npy') # load ndarray from file <even.npy>\n",
    "print(arr2) # [2, 4, 6, ... , 100]"
   ]
  },
  {
   "cell_type": "markdown",
   "metadata": {
    "slideshow": {
     "slide_type": "fragment"
    }
   },
   "source": [
    "**Example 6**: Try the following statements to save ndarray as txt file and load ndarray from txt file. \n",
    "\n",
    "b. Txt format (which is suitable for human to read)"
   ]
  },
  {
   "cell_type": "code",
   "execution_count": null,
   "metadata": {
    "slideshow": {
     "slide_type": "fragment"
    }
   },
   "outputs": [],
   "source": [
    "arr1 = np.arange(0.0, 10.0, 0.5) # [0. 0.5 1. ... 10.]\n",
    "np.savetxt('half.txt', arr1, fmt='%.6f') # save numbers with 6 decimal places into a txt file\n",
    "# try: open the file by text editor again, and see :P\n",
    "\n",
    "arr2 = np.loadtxt('half.txt')\n",
    "print(arr2)"
   ]
  },
  {
   "cell_type": "markdown",
   "metadata": {
    "slideshow": {
     "slide_type": "subslide"
    }
   },
   "source": [
    "## Exercise 2\n",
    "\n",
    "Create the following ndarray objects: \n",
    "- Create an ndarray of shape (8, 8) and all data are 2.5  \n",
    "- Create an ndarray of shape (4, 4) whose values range from 0 to 15 \n",
    "- Create a 6 × 6 identity matrix \n",
    "- Create a random array of size 20 with standard normal distribution and find its mean value \n",
    "- Create a random array of shape (3, 6) with random integers in the range of `[1, 50]`.  \n",
    "- Create a random array of shape (4, 5) with uniform distribution in the range of `[0, 10]`. Find its maximum and minimum values and the mean value. "
   ]
  },
  {
   "cell_type": "code",
   "execution_count": null,
   "metadata": {
    "slideshow": {
     "slide_type": "skip"
    }
   },
   "outputs": [],
   "source": [
    "# write your code here\n",
    "\n",
    "\n",
    "\n",
    "# :^)"
   ]
  },
  {
   "cell_type": "markdown",
   "metadata": {
    "slideshow": {
     "slide_type": "slide"
    }
   },
   "source": [
    "# Lab 5: Handling Quantitative Data:  Introduction to Numpy\n",
    "\n",
    "- <span style=\"color:#aaa\">What is NumPy?</span>\n",
    "- <span style=\"color:#aaa\">The data type of N-dimensional array: ndarray.</span>\n",
    "- <span style=\"color:#aaa\">How to create ndarray objects?</span>\n",
    "- How to access and manipulate data in ndarray?"
   ]
  },
  {
   "cell_type": "markdown",
   "metadata": {
    "slideshow": {
     "slide_type": "subslide"
    }
   },
   "source": [
    "## How to access and manipulate data in ndarray ?\n",
    "\n",
    "- Accessing data in 1-d ndarray is similar to the cast of **list**\n",
    "- **Indexing** and **Slicing**"
   ]
  },
  {
   "cell_type": "markdown",
   "metadata": {
    "slideshow": {
     "slide_type": "subslide"
    }
   },
   "source": [
    "**Array indexing**: use the square bracklets [] to index array values. To access a single data element in 2-d ndarray, you need to specify the coordinate of the element (i.e., the indices on the two axes)\n",
    "\n",
    "If you index a multidimensional array with fewer indices than dimesions, you will get a sub-dimensional array\n",
    "\n",
    "**Example 7**: Try the following statements to access items in ndarray"
   ]
  },
  {
   "cell_type": "code",
   "execution_count": null,
   "metadata": {
    "slideshow": {
     "slide_type": "fragment"
    }
   },
   "outputs": [],
   "source": [
    "arr2d = np.array([[1,2,3], [4,5,6], [7,8,9]])\n",
    "arr1d = arr2d[2]\n",
    "print(arr1d) # [7,8,9]\n",
    "print(arr2d[1]) # [4,5,6]\n",
    "arr2d[1][2] = 10 # we can change the values in ndarray\n",
    "print(arr2d[1]) # [4,5,10]\n",
    "print(arr2d[0][2]) # 3\n",
    "print(arr2d[0,2]) # 3"
   ]
  },
  {
   "cell_type": "markdown",
   "metadata": {
    "slideshow": {
     "slide_type": "subslide"
    }
   },
   "source": [
    "**Slicing**:Slicing on ndarray in similar to sequence slicing, but more complicated for 2-d or 3-d"
   ]
  },
  {
   "cell_type": "code",
   "execution_count": null,
   "metadata": {
    "slideshow": {
     "slide_type": "fragment"
    }
   },
   "outputs": [],
   "source": [
    "arr1d = np.arange(20)\n",
    "print(arr1d) \n",
    "arr1d[:10] = 20 # change the first 10 values to 20\n",
    "print(arr1d)\n",
    "arr1d[10:15] = -1 # change the next 5 values to -1\n",
    "print(arr1d)\n",
    "arr1d[-5:] = 0 # change the last 5 values to 0\n",
    "print(arr1d)"
   ]
  },
  {
   "cell_type": "markdown",
   "metadata": {
    "slideshow": {
     "slide_type": "subslide"
    }
   },
   "source": [
    "## More data processing in ndarray\n",
    "\n",
    "1. Universal functions: perform *elementwise* operations on data in ndarrays ####\n",
    "\n",
    "Mathematical functions: https://docs.scipy.org/doc/numpy/reference/routines.math.html\n",
    "\n",
    "**Example 8**: Try some vectorised operations and universal functions on ndarrays:"
   ]
  },
  {
   "cell_type": "code",
   "execution_count": null,
   "metadata": {
    "slideshow": {
     "slide_type": "fragment"
    }
   },
   "outputs": [],
   "source": [
    "x = np.array([1,2,3,4])\n",
    "y = np.array([5,6,7,8])\n",
    "print(x+y) # [6 8 10 12]\n",
    "print(x*y) # [5 12 21 32]\n",
    "arr = np.arange(10)\n",
    "print(arr) # [0 1 2 ... 9]\n",
    "print(np.sqrt(arr)) #[0. 1. 1.414 ...]\n",
    "print(np.exp(arr)) #[1.0e+00 2.718e+00 ...]"
   ]
  },
  {
   "cell_type": "markdown",
   "metadata": {
    "slideshow": {
     "slide_type": "subslide"
    }
   },
   "source": [
    "2. Statistics\n",
    "\n",
    "Reference: https://docs.scipy.org/doc/numpy/reference/routines.statistics.html\n",
    "**Example 9**: Try some statistical methods of ndarrays "
   ]
  },
  {
   "cell_type": "code",
   "execution_count": null,
   "metadata": {
    "slideshow": {
     "slide_type": "fragment"
    }
   },
   "outputs": [],
   "source": [
    "arr = np.random.randn(20,5)\n",
    "print(arr)\n",
    "print(\"Mean is \", arr.mean())\n",
    "print(\"Standard Deviation is \", arr.std())\n",
    "print(\"Max and Min are \", arr.max(), arr.min())\n",
    "print(\"The index of the min is {} and the index of max is {}\".format(arr.argmin(), arr.argmax()))"
   ]
  },
  {
   "cell_type": "markdown",
   "metadata": {
    "slideshow": {
     "slide_type": "subslide"
    }
   },
   "source": [
    "## Additional Resources\n",
    "\n",
    "If you want to learn more about NumPy, try the following series of tutorials:\n",
    "https://www.tutorialspoint.com/numpy/index.htm"
   ]
  },
  {
   "cell_type": "code",
   "execution_count": null,
   "metadata": {},
   "outputs": [],
   "source": []
  }
 ],
 "metadata": {
  "celltoolbar": "Slideshow",
  "kernelspec": {
   "display_name": "Python 3",
   "language": "python",
   "name": "python3"
  },
  "language_info": {
   "codemirror_mode": {
    "name": "ipython",
    "version": 3
   },
   "file_extension": ".py",
   "mimetype": "text/x-python",
   "name": "python",
   "nbconvert_exporter": "python",
   "pygments_lexer": "ipython3",
   "version": "3.6.11"
  }
 },
 "nbformat": 4,
 "nbformat_minor": 2
}
