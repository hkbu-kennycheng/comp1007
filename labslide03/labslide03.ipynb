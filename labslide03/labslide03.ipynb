{
 "cells": [
  {
   "cell_type": "markdown",
   "metadata": {
    "id": "tkyJdxIrwD7_",
    "slideshow": {
     "slide_type": "slide"
    }
   },
   "source": [
    "# Lab 3: Functions and modules\n",
    "\n",
    "- Functions\n",
    "    - Docstring\n",
    "    - Returned Value\n",
    "    - Global Variable and Local Variable\n",
    "- Python Packages and Modules\n",
    "    - Pip and module\n",
    "    - Use cases"
   ]
  },
  {
   "cell_type": "markdown",
   "metadata": {
    "id": "4Uh4iUj6wD8B",
    "slideshow": {
     "slide_type": "subslide"
    }
   },
   "source": [
    "## Learning Objectives\n",
    "\n",
    "- To learn how to develop **user-defined functions** in Python; \n",
    "- To  understand  key  concepts  in  Python  functions:  **parameters/arguments**,  **docstrings**, **returned value**, **global variable**, **local variable**; \n",
    "- To understand how Python function affects the input arguments under different scenarios; \n",
    "- To practice more on structured programming: **if … else…** and **while/for loops**; \n",
    "- To practice more on tuple, list, and dictionary; \n",
    "- To understand the concept of **modules** in Python. "
   ]
  },
  {
   "cell_type": "markdown",
   "metadata": {
    "id": "9wgl0NNDwD8C",
    "slideshow": {
     "slide_type": "slide"
    }
   },
   "source": [
    "# Lab 3: Functions and modules\n",
    "\n",
    "- Functions\n",
    "    - <span style=\"color:#bbb\">Docstring</span>\n",
    "    - <span style=\"color:#bbb\">Returned Value</span>\n",
    "    - <span style=\"color:#bbb\">Global Variable and Local Variable</span>\n",
    "- <span style=\"color:#bbb\">Python packages and modules</span>\n",
    "    - <span style=\"color:#bbb\">Pip and module</span>\n",
    "    - <span style=\"color:#bbb\">Use cases</span>"
   ]
  },
  {
   "cell_type": "markdown",
   "metadata": {
    "id": "CAc1PyY9wD8D",
    "slideshow": {
     "slide_type": "fragment"
    }
   },
   "source": [
    "## Functions\n",
    "\n",
    "- A function is a **unit of code** that works with **various inputs (parameters)** and is able to produce concrete result(s) based on the input(s).\n",
    " \n",
    "- Python offers many useful **built-in functions** such as **`input()`** and **`print()`**. \n",
    "\n",
    "- A function is **reusable**: once you define a function, you can use it multiple times. "
   ]
  },
  {
   "cell_type": "markdown",
   "metadata": {
    "id": "SYo9WoC2wD8D",
    "slideshow": {
     "slide_type": "subslide"
    }
   },
   "source": [
    "## Functions\n",
    "\n",
    "- The following is an example that defines:\n",
    "    - a function sum() which takes two input parameters\n",
    "    - a function hello() which has no input parameter\n",
    "- A defined function will not be executed until a caller calls (runs) it. "
   ]
  },
  {
   "cell_type": "code",
   "execution_count": null,
   "metadata": {
    "id": "BAXalTSGwD8E",
    "slideshow": {
     "slide_type": "fragment"
    }
   },
   "outputs": [],
   "source": [
    "# define a function\n",
    "def sum(a, b):\n",
    "    return a + b\n",
    "#call the sum() function\n",
    "x = sum(100, 200)\n",
    "y = sum(2.3, 5.7)\n",
    "z = 2 * sum(5, 10)  # use function in an expression\n",
    "s = sum('abc', 'xyz')\n",
    "# define a function without parameter\n",
    "def hello():\n",
    "    print('Hello, COMP1007 Students!')\n",
    "#call the hello() function\n",
    "hello()"
   ]
  },
  {
   "cell_type": "markdown",
   "metadata": {
    "id": "TwSZGRQFwD8E",
    "slideshow": {
     "slide_type": "fragment"
    }
   },
   "source": [
    "In  this  example,  **`sum()`**  is  an  **user‐defined function** which  accepts  two  input  variables  (called **parameters**)  and  returns  the  summation  of  the  two  parameters.  **`hello()`**  is  another  user-defined function which simply prints a hello message.  "
   ]
  },
  {
   "cell_type": "markdown",
   "metadata": {
    "id": "oCKzv6SEwD8F",
    "slideshow": {
     "slide_type": "subslide"
    }
   },
   "source": [
    "## When should we define a function?\n",
    "\n",
    "If a software program has a **routine task** that will be **repeatedly executed**, we may develop a function for this task so that every time we can do the task by simply calling the function.\n",
    "\n",
    "If a software program is very **complex**, we may decompose it into **multiple smaller tasks**, \n",
    "and then develop a function for each small task. "
   ]
  },
  {
   "cell_type": "markdown",
   "metadata": {
    "id": "ju-6dAnLwD8F",
    "slideshow": {
     "slide_type": "subslide"
    }
   },
   "source": [
    "## Defining a Function\n",
    "\n",
    "- Begin with the `def` keyword; \n",
    "- Followed by the function **name**, which is the identifier of the function and has the same rule as variable names; \n",
    "- Then place the list of **parameters** between **parentheses** and followed by a colon. Sometimes function has no parameter at all; \n",
    "- The  function  **body**:  the  list  of  statements  to  be  executed  when  the  function  is  executed.\n",
    "    - Indentation is mandatory for the function body. \n",
    "- Usually  the  function  **returns**  a  result  to  the  caller.  If  you  don’t  put  an  explicit  **return statement**,  the  function  will  automatically  return  **None**,  which  is  a  keyword  in  Python. Return statement can appear anywhere in the function body. Once the return statement is executed, it ends the function call. \n",
    "\n",
    "```python\n",
    "def function_name(param1, param2, … paramN):\n",
    "    statement 1\n",
    "    statement 2\n",
    "    ……\n",
    "    statement n\n",
    "    return return_value\n",
    "```\n",
    "```\n",
    "<  >Indentation\n",
    "```"
   ]
  },
  {
   "cell_type": "markdown",
   "metadata": {
    "id": "pxlL-0zewD8G",
    "slideshow": {
     "slide_type": "subslide"
    }
   },
   "source": [
    "## Function Parameters\n",
    "\n",
    "A function may take one or more input values, which are called **parameters** (or **arguments** when the function is called). The parameters are optional, depending on what the  function needs to do. The function name and its list of parameters are called the **signature** of the function.\n",
    "\n",
    "When we define a  function in Python, we need not specify the data type of parameters. However, when you call the function, the parameters should match the body statements of the function. For example: "
   ]
  },
  {
   "cell_type": "code",
   "execution_count": null,
   "metadata": {
    "id": "fAsKInUkwD8H",
    "slideshow": {
     "slide_type": "fragment"
    }
   },
   "outputs": [],
   "source": [
    "def sum(a, b):\n",
    "    return a + b # we expect that “a + b” is a legal statement\n",
    "print( sum(2, 3) ) # 5\n",
    "print( sum('py', 'thon') ) #python"
   ]
  },
  {
   "cell_type": "markdown",
   "metadata": {
    "id": "moih14V7wD8H",
    "slideshow": {
     "slide_type": "fragment"
    }
   },
   "source": [
    "### Trial‐and‐Error Exercise:  \n",
    "- What will happen if you call function sum(2, 'python')? "
   ]
  },
  {
   "cell_type": "markdown",
   "metadata": {
    "id": "JHyMPIwwwD8H",
    "slideshow": {
     "slide_type": "slide"
    }
   },
   "source": [
    "# Lab 3: Functions and modules\n",
    "\n",
    "- <span style=\"color:#bbb\">Functions</span>\n",
    "    - Docstring\n",
    "    - <span style=\"color:#bbb\">Returned Value</span>\n",
    "    - <span style=\"color:#bbb\">Global Variable and Local Variable</span>\n",
    "- <span style=\"color:#bbb\">Python packages and modules</span>\n",
    "    - <span style=\"color:#bbb\">Pip and module</span>\n",
    "    - <span style=\"color:#bbb\">Use cases</span>"
   ]
  },
  {
   "cell_type": "markdown",
   "metadata": {
    "id": "YFGIm06JwD8I",
    "slideshow": {
     "slide_type": "subslide"
    }
   },
   "source": [
    "### Docstring\n",
    "\n",
    "![](https://github.com/NilsJPWerner/autoDocstring/raw/master/images/demo.gif)"
   ]
  },
  {
   "cell_type": "markdown",
   "metadata": {
    "id": "KDZyATVQwD8I",
    "slideshow": {
     "slide_type": "subslide"
    }
   },
   "source": [
    "The following shows a example: using `while` loop to display the Fibonacci series – 0, 1, 1, 2, 3, 5, 8, 13, 21, 34, … until the input argument is reached."
   ]
  },
  {
   "cell_type": "code",
   "execution_count": null,
   "metadata": {
    "id": "AXNQ6lI8wD8I",
    "slideshow": {
     "slide_type": "fragment"
    }
   },
   "outputs": [],
   "source": [
    "def fib(n):\n",
    "    \"\"\"Print a Fibonacci series up to n.\"\"\"\n",
    "    a, b = 0, 1\n",
    "    while a < n:\n",
    "        print(a, end = ' ')\n",
    "        a, b = b, a + b\n",
    "        print()\n",
    "fib(1000)\n",
    "fib(10000)\n",
    "fib(100000)"
   ]
  },
  {
   "cell_type": "markdown",
   "metadata": {
    "id": "F0Eo7gUNwD8J",
    "slideshow": {
     "slide_type": "fragment"
    }
   },
   "source": [
    "- In  this example,  the  first  statement  of  the  function  body  is  a string  literal with triple  quotes;\n",
    "- this string  literal  is  the  function’s  documentation  string,  or  docstring.\n",
    "    - It  usually  explains  what  this function is about.\n",
    "    - Providing a docstring for your function is a good programming style. "
   ]
  },
  {
   "cell_type": "markdown",
   "metadata": {
    "id": "zmyIl5EvwD8J",
    "slideshow": {
     "slide_type": "subslide"
    }
   },
   "source": [
    "### Variable value assignment\n",
    "\n",
    "The statement `a, b = 0, 1` is the same as two separate statements `a = 0` followed by `b = 1`. In fact, this multiple assignment statement simply assigns the tuple `(0, 1)` to the tuple `(a, b)`. For the case of `a, b = b, a + b`, it has the same effect as the following statements: \n",
    "\n",
    "```ruby\n",
    "Temp1 = b\n",
    "Temp2 = a + b\n",
    "a = Temp1\n",
    "b = Temp2\n",
    "```"
   ]
  },
  {
   "cell_type": "markdown",
   "metadata": {
    "id": "n_kQvxE3wD8J",
    "slideshow": {
     "slide_type": "fragment"
    }
   },
   "source": [
    "Question: can the following statements replace a, b = b, a + b in the above example?\n",
    "\n",
    "```python\n",
    "a = b\n",
    "b = a + b\n",
    "```"
   ]
  },
  {
   "cell_type": "markdown",
   "metadata": {
    "id": "P74q1isQwD8K",
    "slideshow": {
     "slide_type": "subslide"
    }
   },
   "source": [
    "### Optional parameters\n",
    "\n",
    "Python allows you to specify default values for a function’s parameters.  "
   ]
  },
  {
   "cell_type": "code",
   "execution_count": null,
   "metadata": {
    "id": "rYvVFm4IwD8K",
    "slideshow": {
     "slide_type": "fragment"
    }
   },
   "outputs": [],
   "source": [
    "def circle(r, pi = 3.14):\n",
    "    return pi * r ** 2"
   ]
  },
  {
   "cell_type": "markdown",
   "metadata": {
    "id": "pDiOyarKwD8K",
    "slideshow": {
     "slide_type": "fragment"
    }
   },
   "source": [
    "When we call  function `circle()`, we should provide one argument or two arguments.  If we provide one argument, its value will be passed to parameter `r`, and the value of `pi` will be equal to the default value  `3.14`.  If  you  need  higher  precision,  you  can  pass  a  more  accurate value such as `3.14159` to parameter `pi`.   "
   ]
  },
  {
   "cell_type": "code",
   "execution_count": null,
   "metadata": {
    "id": "zg60ylJUwD8L",
    "slideshow": {
     "slide_type": "fragment"
    }
   },
   "outputs": [],
   "source": [
    "circle(9)"
   ]
  },
  {
   "cell_type": "code",
   "execution_count": null,
   "metadata": {
    "id": "P4CxEPD9wD8L",
    "slideshow": {
     "slide_type": "fragment"
    }
   },
   "outputs": [],
   "source": [
    "circle(9, pi = 3.14159)"
   ]
  },
  {
   "cell_type": "markdown",
   "metadata": {
    "id": "GfCWEU2SwD8M",
    "slideshow": {
     "slide_type": "slide"
    }
   },
   "source": [
    "# Lab 3: Functions and modules\n",
    "\n",
    "- <span style=\"color:#bbb\">Functions</span>\n",
    "    - <span style=\"color:#bbb\">Docstring</span>\n",
    "    - Returned Value\n",
    "    - <span style=\"color:#bbb\">Global Variable and Local Variable</span>\n",
    "- <span style=\"color:#bbb\">Python packages and modules</span>\n",
    "    - <span style=\"color:#bbb\">Pip and module</span>\n",
    "    - <span style=\"color:#bbb\">Use cases</span>"
   ]
  },
  {
   "cell_type": "markdown",
   "metadata": {
    "id": "P3059psfwD8M",
    "slideshow": {
     "slide_type": "subslide"
    }
   },
   "source": [
    "## Returned Value\n",
    "\n",
    "In Python, a function is defaulted to `return None`. You can omit the `return` statement if your function has nothing to return.  "
   ]
  },
  {
   "cell_type": "code",
   "execution_count": null,
   "metadata": {
    "id": "MjARtm6NwD8M",
    "slideshow": {
     "slide_type": "fragment"
    }
   },
   "outputs": [],
   "source": [
    "def greet(name):\n",
    "    print('Hello ', name)"
   ]
  },
  {
   "cell_type": "markdown",
   "metadata": {
    "id": "LE3FjSi9wD8M",
    "slideshow": {
     "slide_type": "fragment"
    }
   },
   "source": [
    "Python  also  allows  a  function  to  return  more  than  one  value  by  a  single  return  statement.  The multiple returned values will be stored as a tuple. E.g., using the built-in functions `max()` and `min()`:  "
   ]
  },
  {
   "cell_type": "code",
   "execution_count": null,
   "metadata": {
    "id": "UM2uogPkwD8N",
    "slideshow": {
     "slide_type": "fragment"
    }
   },
   "outputs": [],
   "source": [
    "def find_max_min(num_list):\n",
    "    return max(num_list), min(num_list)\n",
    "alist = [1,2,3,4,5,6,7,8,9]\n",
    "m, n = find_max_min(alist)\n",
    "print(m, n)"
   ]
  },
  {
   "cell_type": "markdown",
   "metadata": {
    "id": "pfVfigzSwD8N",
    "slideshow": {
     "slide_type": "subslide"
    }
   },
   "source": [
    "## Returned Value\n",
    "\n",
    "Python  function can also return a list. The  following  function reduce_list() accepts a list as the parameter,  then creates a new list  that contains  the unique elements of  the input list and returns it. "
   ]
  },
  {
   "cell_type": "code",
   "execution_count": null,
   "metadata": {
    "id": "7ABp_-8AwD8N",
    "slideshow": {
     "slide_type": "fragment"
    }
   },
   "outputs": [],
   "source": [
    "def reduce_list(long_list):\n",
    "    short_list = []\n",
    "    for i in long_list:\n",
    "        if not (i in short_list):\n",
    "            short_list.append(i)\n",
    "return short_list\n",
    "short = reduce_list(['abc', 'jack', '123', 'jack', 'abc', '123'])\n",
    "print(short)"
   ]
  },
  {
   "cell_type": "markdown",
   "metadata": {
    "id": "x7rmMz3GwD8N",
    "slideshow": {
     "slide_type": "fragment"
    }
   },
   "source": [
    "- In the above example, the expression `i in short_list` is `True` or `False`, depending on whether item i can be found in short_list or not. \n",
    "\n",
    "- Please pay attention to the nested indentations."
   ]
  },
  {
   "cell_type": "markdown",
   "metadata": {
    "id": "0rWWMbFtwD8O",
    "slideshow": {
     "slide_type": "subslide"
    }
   },
   "source": [
    "## Returned Value\n",
    "\n",
    "- The following example shows a function `seq_to_dic()` that converts an indexed sequence (tuple or list) into a dictionary, using the index as the key for each element. \n",
    "\n",
    "- It first uses the built-in function `dict()` to create an empty dictionary."
   ]
  },
  {
   "cell_type": "code",
   "execution_count": null,
   "metadata": {
    "id": "G9h4luxNwD8O",
    "slideshow": {
     "slide_type": "fragment"
    }
   },
   "outputs": [],
   "source": [
    "def seq_to_dic(seq):\n",
    "    myDic = dict()  # create an empty dictionary\n",
    "    for i in range(len(seq)):\n",
    "        myDic[i] = seq[i] # add a new key‐value pair i:seq[i] into myDic\n",
    "return myDic\n",
    "li = ['a', 'b', 'c', 'd']\n",
    "dic1 = seq_to_dic(li)\n",
    "print(dic1)\n",
    "tu = ('Ada', 'Bob', 'Catty', 'David')\n",
    "dict2 = seq_to_dic(tu)\n",
    "print(dict2)"
   ]
  },
  {
   "cell_type": "markdown",
   "metadata": {
    "id": "fd84K59wwD8O",
    "slideshow": {
     "slide_type": "subslide"
    }
   },
   "source": [
    "## Exercise 1-2\n",
    "\n",
    "### Exercise 1\n",
    "\n",
    "Write a function that accepts three numbers and returns the minimum one. You are not allowed to use the build-in `min()` function. Instead, you can use `if … else` statement. "
   ]
  },
  {
   "cell_type": "code",
   "execution_count": null,
   "metadata": {
    "id": "YRDkcXyuwD8O",
    "slideshow": {
     "slide_type": "skip"
    }
   },
   "outputs": [],
   "source": [
    "# Please write your codes here for Exercise 1\n"
   ]
  },
  {
   "cell_type": "markdown",
   "metadata": {
    "id": "k6EazahXwD8O",
    "slideshow": {
     "slide_type": "fragment"
    }
   },
   "source": [
    "### Exercise 2\n",
    "Write a function that accepts a Celsius degree and returns the corresponding Fahrenheit degree.\n",
    "\n",
    "```ruby\n",
    "Fahrenheit = 1.8Celsius + 32\n",
    "```"
   ]
  },
  {
   "cell_type": "code",
   "execution_count": null,
   "metadata": {
    "id": "OZekBobxwD8P",
    "slideshow": {
     "slide_type": "skip"
    }
   },
   "outputs": [],
   "source": [
    "# Please write your codes here Exercise 2\n"
   ]
  },
  {
   "cell_type": "markdown",
   "metadata": {
    "id": "SSeZFH0KwD8P",
    "slideshow": {
     "slide_type": "slide"
    }
   },
   "source": [
    "# Lab 3: Functions and modules\n",
    "\n",
    "- <span style=\"color:#bbb\">Functions</span>\n",
    "    - <span style=\"color:#bbb\">Docstring</span>\n",
    "    - <span style=\"color:#bbb\">Returned Value</span>\n",
    "    - Global Variable and Local Variable\n",
    "- <span style=\"color:#bbb\">Python packages and modules</span>\n",
    "    - <span style=\"color:#bbb\">Pip and module</span>\n",
    "    - <span style=\"color:#bbb\">Use cases</span>"
   ]
  },
  {
   "cell_type": "markdown",
   "metadata": {
    "id": "SmBUr0yiwD8P",
    "slideshow": {
     "slide_type": "subslide"
    }
   },
   "source": [
    "## Global Variable and Local Variable\n",
    "\n",
    "**Global variable** means a variable defined outside a function. Global variables can be accessed inside or outside functions. Variables defined inside a function (i.e., the variable name appears on the left side  of  an  assignment  operator)  is  called  the **local  variables**  of  that  function.  Local  variables  of  a function can only be accessed (i.e., read or write) within that function.  "
   ]
  },
  {
   "cell_type": "code",
   "execution_count": null,
   "metadata": {
    "id": "Xw3PzfJowD8P",
    "slideshow": {
     "slide_type": "fragment"
    }
   },
   "outputs": [],
   "source": [
    "global_var = 100\n",
    "test_var = 10\n",
    "def my_func():\n",
    "    test_var = 20 # Question: is this test_var local or global?\n",
    "    print(\"inside function, global_var = \", global_var)  \n",
    "    print(\"inside function, test_var = \", test_var)\n",
    "my_func()\n",
    "print(\"outside function, test_var = \", test_var)"
   ]
  },
  {
   "cell_type": "markdown",
   "metadata": {
    "id": "V-6rOdERwD8Q",
    "slideshow": {
     "slide_type": "fragment"
    }
   },
   "source": [
    "**Remark**: In the above example, when function `my_func()` is called, it assigns 20 to its local variable `test_var`, which will **NOT** change the value of the global variable `test_var`.  "
   ]
  },
  {
   "cell_type": "markdown",
   "metadata": {
    "id": "GX-5GSLMwD8Q",
    "slideshow": {
     "slide_type": "subslide"
    }
   },
   "source": [
    "### How to change the global variables?\n",
    "\n",
    "If a function wants to change the value of a global variable,\n",
    "it needs to make a declaration before accessing the global variable."
   ]
  },
  {
   "cell_type": "code",
   "execution_count": 9,
   "metadata": {
    "colab": {
     "base_uri": "https://localhost:8080/"
    },
    "id": "XxjgLaZSwD8Q",
    "outputId": "26bfe192-672b-4dc9-dd2d-b8d0ffe441ad",
    "slideshow": {
     "slide_type": "fragment"
    }
   },
   "outputs": [
    {
     "name": "stdout",
     "output_type": "stream",
     "text": [
      "inside function, global_var =  100\n",
      "inside function, test_var =  20\n",
      "outside function, test_var =  20\n"
     ]
    }
   ],
   "source": [
    "global_var = 100\n",
    "test_var = 10\n",
    "def my_func():\n",
    "    global test_var\n",
    "    test_var = 20\n",
    "    print(\"inside function, global_var = \", global_var)  \n",
    "    print(\"inside function, test_var = \", test_var)\n",
    "my_func()\n",
    "print(\"outside function, test_var = \", test_var)"
   ]
  },
  {
   "cell_type": "markdown",
   "metadata": {
    "id": "sUieGaCUwD8Q",
    "slideshow": {
     "slide_type": "fragment"
    }
   },
   "source": [
    "In the above example, the statement **global** `test_var` inside the body of function `my_func()` tells the function that the identifier `test_var` refers to the global variable `test_var`.  "
   ]
  },
  {
   "cell_type": "markdown",
   "metadata": {
    "id": "cSo2y9qywD8Q",
    "slideshow": {
     "slide_type": "subslide"
    }
   },
   "source": [
    "## Calling Function\n",
    "\n",
    "- While calling the function, the user needs to match all the parameters. Otherwise, Python will pop error to the user. \n",
    "- For example, if the function needs to take one parameter, the user must insert exactly one parameter.\n",
    "\n",
    "\n",
    "\n"
   ]
  },
  {
   "cell_type": "code",
   "execution_count": null,
   "metadata": {
    "id": "Xqcu2xz1wD8R",
    "slideshow": {
     "slide_type": "fragment"
    }
   },
   "outputs": [],
   "source": [
    "def print_list_onebyone(list1):\n",
    "    for x in list1:\n",
    "        print(x)"
   ]
  },
  {
   "cell_type": "markdown",
   "metadata": {
    "id": "AegzPqY4wD8R",
    "slideshow": {
     "slide_type": "fragment"
    }
   },
   "source": [
    "In this example, `print_list_onebyone()` needs one iterable object as the parameter. The user must insert exactly one such iterable object (such as list, tuple, or range). "
   ]
  },
  {
   "cell_type": "code",
   "execution_count": null,
   "metadata": {
    "id": "HKNmzwL4wD8R",
    "outputId": "f30aad9b-2624-4d8e-9fb9-559f86856854",
    "slideshow": {
     "slide_type": "fragment"
    }
   },
   "outputs": [
    {
     "name": "stdout",
     "output_type": "stream",
     "text": [
      "1\n",
      "2\n",
      "3\n",
      "4\n"
     ]
    }
   ],
   "source": [
    "print_list_onebyone([1,2,3,4])"
   ]
  },
  {
   "cell_type": "markdown",
   "metadata": {
    "id": "1L-_qJ2EwD8S",
    "slideshow": {
     "slide_type": "subslide"
    }
   },
   "source": [
    "### Two or no parameters?\n",
    "\n",
    "If the user inserts more than one parameter or no parameter, python will pop an error. "
   ]
  },
  {
   "cell_type": "code",
   "execution_count": null,
   "metadata": {
    "id": "qjH-XnWEwD8S",
    "outputId": "4011eb24-040a-471b-8cf0-95919a0c5b53",
    "slideshow": {
     "slide_type": "fragment"
    }
   },
   "outputs": [
    {
     "ename": "TypeError",
     "evalue": "print_list_onebyone() takes 1 positional argument but 2 were given",
     "output_type": "error",
     "traceback": [
      "\u001b[0;31m---------------------------------------------------------------------------\u001b[0m",
      "\u001b[0;31mTypeError\u001b[0m                                 Traceback (most recent call last)",
      "\u001b[0;32m<ipython-input-65-fb3266eeb63b>\u001b[0m in \u001b[0;36m<module>\u001b[0;34m\u001b[0m\n\u001b[0;32m----> 1\u001b[0;31m \u001b[0mprint_list_onebyone\u001b[0m\u001b[0;34m(\u001b[0m\u001b[0;34m[\u001b[0m\u001b[0;36m1\u001b[0m\u001b[0;34m,\u001b[0m\u001b[0;36m2\u001b[0m\u001b[0;34m]\u001b[0m \u001b[0;34m,\u001b[0m \u001b[0;34m[\u001b[0m\u001b[0;36m3\u001b[0m\u001b[0;34m,\u001b[0m\u001b[0;36m4\u001b[0m\u001b[0;34m]\u001b[0m\u001b[0;34m)\u001b[0m\u001b[0;34m\u001b[0m\u001b[0;34m\u001b[0m\u001b[0m\n\u001b[0m",
      "\u001b[0;31mTypeError\u001b[0m: print_list_onebyone() takes 1 positional argument but 2 were given"
     ]
    }
   ],
   "source": [
    "print_list_onebyone([1,2] , [3,4])"
   ]
  },
  {
   "cell_type": "markdown",
   "metadata": {
    "id": "vvxhbI5nwD8S",
    "slideshow": {
     "slide_type": "subslide"
    }
   },
   "source": [
    "## Case Study: Can the input arguments be modified by a function?\n",
    "\n",
    "The  following  is  a  declaration  of  a  function.  The  function  accepts  a  string  `s`.  In  the  function,  `s`  is updated by the `upper()` function (change all characters to upper case). "
   ]
  },
  {
   "cell_type": "code",
   "execution_count": 11,
   "metadata": {
    "id": "wRC8oyxQwD8S",
    "slideshow": {
     "slide_type": "fragment"
    }
   },
   "outputs": [],
   "source": [
    "def change(s): \n",
    "    s = s.upper() "
   ]
  },
  {
   "cell_type": "markdown",
   "metadata": {
    "id": "QRmkJNTEwD8T",
    "slideshow": {
     "slide_type": "subslide"
    }
   },
   "source": [
    "The following function accepts a number `n` and increases `n` by `10`. "
   ]
  },
  {
   "cell_type": "code",
   "execution_count": 12,
   "metadata": {
    "id": "gSMjq287wD8T",
    "slideshow": {
     "slide_type": "fragment"
    }
   },
   "outputs": [],
   "source": [
    "def increase(n): \n",
    "    n = n + 10 "
   ]
  },
  {
   "cell_type": "markdown",
   "metadata": {
    "id": "DMJgT5PAwD8T",
    "slideshow": {
     "slide_type": "subslide"
    }
   },
   "source": [
    "The following function accepts a list `c` and append a new element `3.5` to `c`. "
   ]
  },
  {
   "cell_type": "code",
   "execution_count": 13,
   "metadata": {
    "id": "9eMC3i51wD8T",
    "slideshow": {
     "slide_type": "fragment"
    }
   },
   "outputs": [],
   "source": [
    "def add(c): \n",
    "    c.append(3.5) "
   ]
  },
  {
   "cell_type": "markdown",
   "metadata": {
    "id": "vR5FkqO1wD8T",
    "slideshow": {
     "slide_type": "subslide"
    }
   },
   "source": [
    "## Case Study: Can the input arguments be modified by a function?\n",
    "\n",
    "The functions above intend to update the input arguments directly.  Let’s see what will happen if we call them as follows: "
   ]
  },
  {
   "cell_type": "code",
   "execution_count": null,
   "metadata": {
    "colab": {
     "base_uri": "https://localhost:8080/"
    },
    "id": "B_8lJontwD8T",
    "outputId": "e23f3cdc-51c1-4f94-bdcf-4ecbd84eb9ce",
    "slideshow": {
     "slide_type": "fragment"
    }
   },
   "outputs": [],
   "source": [
    "text = \"hello world\" \n",
    "number = 10.4 \n",
    "mylist = [10, 2.4, 22, 1] \n",
    "    \n",
    "change(text) \n",
    "increase(number) \n",
    "add(mylist) \n",
    "print(text) \n",
    "print(number) \n",
    "print(mylist) "
   ]
  },
  {
   "cell_type": "markdown",
   "metadata": {
    "id": "RgYJq7oHwD8U",
    "slideshow": {
     "slide_type": "fragment"
    }
   },
   "source": [
    "We  get  the  result  that  the  `change()`  and  `increase()`  functions  are  not  able  to  change  the  input arguments (i.e., text and number). But, the `add()` function is able to update the input list mylist.  \n",
    "\n",
    "In  Python,  if  the arguments  are **immutable**  like  integers,  floats,  strings  or  tuples,  the  changes  are only applicable inside the functions. Outside the functions, their values remain no change. But, if the arguments  are  **mutable**  like  lists  or  dictionaries,  their  **elements  can  be  changed**  in  place  in  the function."
   ]
  },
  {
   "cell_type": "markdown",
   "metadata": {
    "id": "HvTfDweawD8U",
    "slideshow": {
     "slide_type": "subslide"
    }
   },
   "source": [
    "## Exercise 3-5\n",
    "\n",
    "### Exercise 3\n",
    "Write a function that returns a tuple that contains all odd numbers in the range from 1 to X, where X\n",
    "is a function parameter. If X is less than 1, display an error message.\n"
   ]
  },
  {
   "cell_type": "code",
   "execution_count": null,
   "metadata": {
    "id": "oDFShlb1wD8U",
    "slideshow": {
     "slide_type": "skip"
    }
   },
   "outputs": [],
   "source": [
    "# Please write your code here for Exercise 3"
   ]
  },
  {
   "cell_type": "markdown",
   "metadata": {
    "id": "CPm6G6wvwD8U",
    "slideshow": {
     "slide_type": "fragment"
    }
   },
   "source": [
    "### Exercise 4\n",
    "Write a function that accepts a string, reverses the string and returns the reversed string. Please use \n",
    "a for loop to implement the reverse function.  "
   ]
  },
  {
   "cell_type": "code",
   "execution_count": null,
   "metadata": {
    "id": "wgYIvh46wD8U",
    "slideshow": {
     "slide_type": "skip"
    }
   },
   "outputs": [],
   "source": [
    "# Please write your code here for Exercise 4"
   ]
  },
  {
   "cell_type": "markdown",
   "metadata": {
    "id": "FjurldYbwD8U",
    "slideshow": {
     "slide_type": "fragment"
    }
   },
   "source": [
    "### Exercise 5\n",
    "Write a function that accepts two sequences (tuple or list) as input, and returns a list which is the \n",
    "**intersection** of the two input lists. "
   ]
  },
  {
   "cell_type": "code",
   "execution_count": null,
   "metadata": {
    "id": "o1sIhuVIwD8V",
    "slideshow": {
     "slide_type": "skip"
    }
   },
   "outputs": [],
   "source": [
    "# Please write your code here for Exercise 5"
   ]
  },
  {
   "cell_type": "markdown",
   "metadata": {
    "id": "DU-m-IajwD8V",
    "slideshow": {
     "slide_type": "slide"
    }
   },
   "source": [
    "# Lab 3: Functions and modules\n",
    "\n",
    "- <span style=\"color:#bbb\">Functions</span>\n",
    "    - <span style=\"color:#bbb\">Docstring</span>\n",
    "    - <span style=\"color:#bbb\">Returned Value</span>\n",
    "    - <span style=\"color:#bbb\">Global Variable and Local Variable</span>\n",
    "- Python packages and modules\n",
    "    - <span style=\"color:#bbb\">Pip and module</span>\n",
    "    - <span style=\"color:#bbb\">Use cases</span>"
   ]
  },
  {
   "cell_type": "markdown",
   "metadata": {
    "id": "v-0yAzgbwD8V",
    "slideshow": {
     "slide_type": "subslide"
    }
   },
   "source": [
    "## Python packages\n",
    "\n",
    "The entire power of Python comes its packages. It contains more than 280,000 pcakages for doing different tasks like deep learning, data analysis, biological computation and many many others.\n",
    "\n",
    "### Pip\n",
    "\n",
    "pip is the command for installing Python packages. You could install package using `pip` command in terminal by the following syntax.\n",
    "\n",
    "```bash\n",
    "pip install package_name\n",
    "```\n",
    "\n",
    "For Jupyter notebook users, you may need to use it as folows.\n",
    "\n",
    "```bash\n",
    "!python3 -m pip install package_name\n",
    "```\n",
    "\n",
    "or install package to user directory\n",
    "\n",
    "```bash\n",
    "!python3 -m pip install --user package_name\n",
    "```"
   ]
  },
  {
   "cell_type": "markdown",
   "metadata": {
    "id": "kQp_B9U4_Oz7",
    "slideshow": {
     "slide_type": "subslide"
    }
   },
   "source": [
    "For example, it would install the `wget` package by the following command. We could run command in code shell by adding `!` at the beginning."
   ]
  },
  {
   "cell_type": "code",
   "execution_count": null,
   "metadata": {
    "colab": {
     "base_uri": "https://localhost:8080/"
    },
    "id": "Vd8nDt-awD8V",
    "outputId": "db746858-b839-4004-e96b-4a69c5469eef",
    "slideshow": {
     "slide_type": "fragment"
    }
   },
   "outputs": [],
   "source": [
    "!pip install wget"
   ]
  },
  {
   "cell_type": "markdown",
   "metadata": {
    "id": "O8IEAs2AwD8V",
    "slideshow": {
     "slide_type": "subslide"
    }
   },
   "source": [
    "## Python Modules\n",
    "\n",
    "- A large software program may consist of **many** Python script files.\n",
    "\n",
    "- May also use some Python standard library functions and some third‐party functions.\n",
    "\n",
    "- In order to **avoid name clashes** (i.e., different Python files use the same identifiers), Python uses **modules** to organize the program codes **for reuse**, and provides **self-contained namespaces** that minimize variable name clashes across your programs. \n",
    "\n",
    "- Two modules are allowed to include the functions **with the same name**. \n",
    "\n",
    "- Each Python file is a module\n",
    "\n",
    "- Python modules import other modules to use the **names** they define.\n",
    "    (such as functions and global variables)"
   ]
  },
  {
   "cell_type": "markdown",
   "metadata": {
    "id": "N9DHE8NJwD8V",
    "slideshow": {
     "slide_type": "fragment"
    }
   },
   "source": [
    "## How to use Python modules?\n",
    "\n",
    "There are two popular ways to use a module: \n",
    "- `import`: Lets a client (importer) fetch a module as a whole  \n",
    "- `from`: Allows clients to fetch particular names from a module "
   ]
  },
  {
   "cell_type": "markdown",
   "metadata": {
    "id": "35rdJwEQwD8W",
    "slideshow": {
     "slide_type": "subslide"
    }
   },
   "source": [
    "For  instance,  suppose  a  file  my_module.py  defines  a  function  called  `hello()`,  for  external  use. Suppose client.py wants to use function `hello()` defined in my_module.py. To this end, it may contain Python statements such as the following:  "
   ]
  },
  {
   "cell_type": "code",
   "execution_count": 3,
   "metadata": {
    "colab": {
     "base_uri": "https://localhost:8080/"
    },
    "id": "Yf9oW2QX5dPW",
    "outputId": "ca7d31eb-cb76-4051-85a5-7bb9e4398660",
    "slideshow": {
     "slide_type": "fragment"
    }
   },
   "outputs": [
    {
     "name": "stdout",
     "output_type": "stream",
     "text": [
      "Overwriting my_module.py\n"
     ]
    }
   ],
   "source": [
    "%%writefile my_module.py\n",
    "def hello(x):\n",
    "    print('Hello ' + x)"
   ]
  },
  {
   "cell_type": "code",
   "execution_count": 4,
   "metadata": {
    "colab": {
     "base_uri": "https://localhost:8080/"
    },
    "id": "t50H4tOs5p5_",
    "outputId": "664234fa-b435-4853-faf4-51c44949f78f",
    "slideshow": {
     "slide_type": "fragment"
    }
   },
   "outputs": [
    {
     "name": "stdout",
     "output_type": "stream",
     "text": [
      "Hello Python\n"
     ]
    }
   ],
   "source": [
    "import my_module # to access file my_module.py\n",
    "my_module.hello('Python') # to use the hello() function"
   ]
  },
  {
   "cell_type": "markdown",
   "metadata": {
    "id": "plSPFR1dwD8W",
    "slideshow": {
     "slide_type": "subslide"
    }
   },
   "source": [
    "The import statement in above loads the target file my_module.py to execute. For user programs such as my_module.py, it should be usually stored in the same directory as the client.py so that the Python environment can find it. The follow example shows how to use the from statement.\n"
   ]
  },
  {
   "cell_type": "code",
   "execution_count": 5,
   "metadata": {
    "colab": {
     "base_uri": "https://localhost:8080/"
    },
    "id": "58I6eQC16JYo",
    "outputId": "6532cafa-5dab-410f-e8f1-fb61ae941792",
    "slideshow": {
     "slide_type": "fragment"
    }
   },
   "outputs": [
    {
     "name": "stdout",
     "output_type": "stream",
     "text": [
      "Hello Python\n"
     ]
    }
   ],
   "source": [
    "from my_module import hello # to access file my_module.py\n",
    "hello('Python') # to use the hello() function"
   ]
  },
  {
   "cell_type": "markdown",
   "metadata": {
    "id": "eXhOKXrV6HgW",
    "slideshow": {
     "slide_type": "fragment"
    }
   },
   "source": [
    "Learning Python includes two stages: (1) to learn the Python language syntax; (2) to learn how to use sdifferent existing modules. We will learn many useful Python modules starting from next slide."
   ]
  },
  {
   "cell_type": "markdown",
   "metadata": {
    "id": "36GdhCHLwD8X",
    "slideshow": {
     "slide_type": "subslide"
    }
   },
   "source": [
    "### Example 1: Download files from URL using `wget`\n",
    "\n",
    "`wget` is a free utility for non-interactive download of files from the Web. Since we have already installed in previous code cell.\n",
    "\n",
    "[https://pypi.org/project/wget/](https://pypi.org/project/wget/)"
   ]
  },
  {
   "cell_type": "code",
   "execution_count": 18,
   "metadata": {
    "colab": {
     "base_uri": "https://localhost:8080/"
    },
    "id": "vhF9o_66wD8X",
    "outputId": "55881ba6-a88d-47b1-afff-c4919b6698a2",
    "slideshow": {
     "slide_type": "fragment"
    }
   },
   "outputs": [
    {
     "name": "stdout",
     "output_type": "stream",
     "text": [
      "C05784488.pdf\n"
     ]
    }
   ],
   "source": [
    "import wget\n",
    "\n",
    "url = 'https://file.wikileaks.org/file/clinton-emails/Clinton_Email_January_7_Release/C05784488.pdf';\n",
    "filename = wget.download(url)\n",
    "print(filename)"
   ]
  },
  {
   "cell_type": "markdown",
   "metadata": {
    "id": "FUD1pjW76ljm",
    "slideshow": {
     "slide_type": "subslide"
    }
   },
   "source": [
    "### Example 2: Reading text in PDF file using `pymupdf`\n",
    "\n",
    "`pymupdf` is a Python bindings for the PDF rendering library MuPDF. MuPDF is a lightweight PDF, XPS, and E-book viewer.\n",
    "\n",
    "[https://pypi.org/project/PyMuPDF/](https://pypi.org/project/PyMuPDF/)"
   ]
  },
  {
   "cell_type": "code",
   "execution_count": null,
   "metadata": {
    "colab": {
     "base_uri": "https://localhost:8080/"
    },
    "id": "IU5aCFBVwD8X",
    "outputId": "2ca47e75-05da-4e32-acaa-8a966330b882",
    "slideshow": {
     "slide_type": "fragment"
    }
   },
   "outputs": [],
   "source": [
    "!pip install pymupdf"
   ]
  },
  {
   "cell_type": "code",
   "execution_count": null,
   "metadata": {
    "colab": {
     "base_uri": "https://localhost:8080/"
    },
    "id": "-RBwvay2wooT",
    "outputId": "56320a78-e3b3-4811-e4c8-063560d7dd3e",
    "slideshow": {
     "slide_type": "fragment"
    }
   },
   "outputs": [],
   "source": [
    "import fitz\n",
    "\n",
    "doc = fitz.open(filename)\n",
    "occurrence = {}\n",
    "string = ''\n",
    "for page in doc:\n",
    "    string += page.get_text()\n",
    "\n",
    "for char in string:\n",
    "    if char in occurrence:\n",
    "        occurrence[char] += 1\n",
    "    else:\n",
    "        occurrence[char] = 1\n",
    "print('number of bits: {}'.format(len(string) * 8))\n",
    "print(occurrence)"
   ]
  },
  {
   "cell_type": "markdown",
   "metadata": {
    "id": "xpYAxgB7Bi93",
    "slideshow": {
     "slide_type": "subslide"
    }
   },
   "source": [
    "### Example 3: Generating huffman code for the text from PDF file we downloaded\n",
    "\n",
    "Before using the huffman module, we need to install it using `pip` command."
   ]
  },
  {
   "cell_type": "code",
   "execution_count": null,
   "metadata": {
    "colab": {
     "base_uri": "https://localhost:8080/"
    },
    "id": "m3MpVmNGB5Et",
    "outputId": "48b020ca-68d1-4d85-f135-2df1e17aa18e",
    "slideshow": {
     "slide_type": "fragment"
    }
   },
   "outputs": [],
   "source": [
    "!pip install huffman"
   ]
  },
  {
   "cell_type": "code",
   "execution_count": null,
   "metadata": {
    "colab": {
     "base_uri": "https://localhost:8080/"
    },
    "id": "zEpbz60ozvAg",
    "outputId": "805384fc-231f-4ecf-ae99-7b6dc4756e90",
    "slideshow": {
     "slide_type": "fragment"
    }
   },
   "outputs": [],
   "source": [
    "import huffman\n",
    "import collections\n",
    "\n",
    "codewords = huffman.codebook(collections.Counter(string).items())\n",
    "print(codewords)\n",
    "\n",
    "size = 0\n",
    "for key, value in occurrence.items():\n",
    "    size += value * len(codewords[key])\n",
    "print('number of bits: {}'.format(size))"
   ]
  },
  {
   "cell_type": "markdown",
   "metadata": {
    "id": "Z5j260jYwD8Y"
   },
   "source": [
    "## Many more Python Examples - Programiz\n",
    "\n",
    "|.   |.   |.   |\n",
    "|----|----|----|\n",
    "|[Python program to Print Hello World!](https://www.programiz.com/python-programming/examples/hello-world)|[Python program to Display the multiplication Table](https://www.programiz.com/python-programming/examples/multiplication-table)|[Python program to Display Fibonacci Sequence Using Recursion](https://www.programiz.com/python-programming/examples/fibonacci-recursion)|\n",
    "|[Python program to Add Two Number](https://www.programiz.com/python-programming/examples/add-number)|[Python program to Print the Fibonacci sequence](https://www.programiz.com/python-programming/examples/fibonacci-sequence)|[Python program to Find Sum of Natural Numbers Using Recursion](https://www.programiz.com/python-programming/examples/natural-number-recursion)|\n",
    "|[Python program to Find the Square Root](https://www.programiz.com/python-programming/examples/square-root)|[Python program to Display Calendar](https://www.programiz.com/python-programming/examples/display-calendar)|[Python program to Find Factorial of Number Using Recursion](https://www.programiz.com/python-programming/examples/factorial-recursion)|\n",
    "|[Python program to Calculate the Area of a Triangle](https://www.programiz.com/python-programming/examples/area-triangle)|[Python program to Check Armstrong Number](https://www.programiz.com/python-programming/examples/armstrong-number)|[Python program to Convert Decimal to Binary Using Recursion](https://www.programiz.com/python-programming/examples/decimal-binary-recursion)|\n",
    "|[Python program to Solve Quadratic Equation](https://www.programiz.com/python-programming/examples/quadratic-roots)|[Python program to Find Armstrong Number in an Interval](https://www.programiz.com/python-programming/examples/armstrong-interval)|[Python program to Add Two Matrices](https://www.programiz.com/python-programming/examples/add-matrix)|\n",
    "|[Python program to Swap Two Variables](https://www.programiz.com/python-programming/examples/swap-variables)|[Python program to Find the Sum of Natural Numbers](https://www.programiz.com/python-programming/examples/sum-natural-number)|[Python program to Transpose a Matrix](https://www.programiz.com/python-programming/examples/transpose-matrix)|\n",
    "|[Python program to Generate a Random Number](https://www.programiz.com/python-programming/examples/random-number)|[Python program to Display Powers of 2 Using Anonymous Function](https://www.programiz.com/python-programming/examples/power-anonymous)|[Python program to Multiply Two Matrices](https://www.programiz.com/python-programming/examples/multiply-matrix)|\n",
    "|[Python program to Convert Kilometers to Miles](https://www.programiz.com/python-programming/examples/km-mile)|[Python program to Find Numbers Divisible by Another Number](https://www.programiz.com/python-programming/examples/number-divisible)|[Python program to Check Whether a String is Palindrome or Not](https://www.programiz.com/python-programming/examples/palindrome)|\n",
    "|[Python program to Convert Celsius To Fahrenheit](https://www.programiz.com/python-programming/examples/celsius-fahrenheit)|[Python program to Convert Decimal to Binary, Octal and Hexadecimal](https://www.programiz.com/python-programming/examples/conversion-binary-octal-hexadecimal)|[Python program to Remove Punctuations From a String](https://www.programiz.com/python-programming/examples/remove-punctuation)|\n",
    "|[Python program to Check if a Number is Positive, Negative or 0](https://www.programiz.com/python-programming/examples/positive-negative-zero)|[Python program to Find ASCII Value of Character](https://www.programiz.com/python-programming/examples/ascii-character)|[Python program to Sort Words in Alphabetic Order](https://www.programiz.com/python-programming/examples/alphabetical-order)|\n",
    "|[Python program to Check if a Number is Odd or Even](https://www.programiz.com/python-programming/examples/odd-even)|[Python program to Make a Simple Calculator](https://www.programiz.com/python-programming/examples/calculator)|[Python program to Illustrate Different Set Operations](https://www.programiz.com/python-programming/examples/set-operation)|\n",
    "|[Python program to Check Leap Year](https://www.programiz.com/python-programming/examples/leap-year)|[Python program to Find HCF or GCD](https://www.programiz.com/python-programming/examples/hcf)|[Python program to Count the Number of Each Vowel](https://www.programiz.com/python-programming/examples/count-vowel)|\n",
    "|[Python program to Largest Among Three Numbers](https://www.programiz.com/python-programming/examples/largest-number-three)|[Python program to Find LCM](https://www.programiz.com/python-programming/examples/lcm)|[Python program to Merge Mails](https://www.programiz.com/python-programming/examples/merge-mails)|\n",
    "|[Python program to Check Prime Number](https://www.programiz.com/python-programming/examples/prime-number)|[Python program to Find the Factors of a Number](https://www.programiz.com/python-programming/examples/factor-number)|[Python program to Find the Size (Resolution) of a Image](https://www.programiz.com/python-programming/examples/resolution-image)|\n",
    "|[Python program to Print all Prime Numbers in an Interval](https://www.programiz.com/python-programming/examples/prime-number-intervals)|[Python program to Shuffle Deck of Cards](https://www.programiz.com/python-programming/examples/shuffle-card)|[Python program to Find Hash of File](https://www.programiz.com/python-programming/examples/hash-file)|\n",
    "|[Find the Factorial of a Number](https://www.programiz.com/python-programming/examples/factorial)"
   ]
  },
  {
   "cell_type": "code",
   "execution_count": null,
   "metadata": {
    "id": "quDAja__wD8Y"
   },
   "outputs": [],
   "source": []
  }
 ],
 "metadata": {
  "celltoolbar": "Slideshow",
  "colab": {
   "collapsed_sections": [
    "zmyIl5EvwD8J",
    "P74q1isQwD8K"
   ],
   "name": "labslide30.ipynb",
   "provenance": [],
   "toc_visible": true
  },
  "kernelspec": {
   "display_name": "Python 3",
   "language": "python",
   "name": "python3"
  },
  "language_info": {
   "codemirror_mode": {
    "name": "ipython",
    "version": 3
   },
   "file_extension": ".py",
   "mimetype": "text/x-python",
   "name": "python",
   "nbconvert_exporter": "python",
   "pygments_lexer": "ipython3",
   "version": "3.7.8"
  }
 },
 "nbformat": 4,
 "nbformat_minor": 1
}
