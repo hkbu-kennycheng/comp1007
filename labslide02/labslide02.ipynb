{
 "cells": [
  {
   "cell_type": "markdown",
   "metadata": {
    "slideshow": {
     "slide_type": "slide"
    }
   },
   "source": [
    "# Lab2: Program Control and Logic\n",
    "\n",
    "1. **Operators**\n",
    "2. Control Statements\n",
    "3. Case studies\n",
    "4. Exercises"
   ]
  },
  {
   "cell_type": "markdown",
   "metadata": {
    "slideshow": {
     "slide_type": "slide"
    }
   },
   "source": [
    "## Operators\n",
    "\n",
    "- **Operators** are used to perform **operations** on **variables and values**. \n",
    "- Python has many operators for different purposes.\n",
    "\n",
    "The following are the commonly used operators.\n",
    "\n",
    "- **Assignment Operator**\n",
    "- Arithmetic Operators\n",
    "- Comparison Operators\n",
    "- Logic Operators"
   ]
  },
  {
   "cell_type": "markdown",
   "metadata": {
    "slideshow": {
     "slide_type": "fragment"
    }
   },
   "source": [
    "### Assignment Operator\n",
    "\n",
    "- We have already used the assignment operator =, which assigns the value of the right side operand to the left side variable. E.g.,  "
   ]
  },
  {
   "cell_type": "code",
   "execution_count": null,
   "metadata": {
    "slideshow": {
     "slide_type": "fragment"
    }
   },
   "outputs": [],
   "source": [
    "name = \"Jack\"\n",
    "grade = 95"
   ]
  },
  {
   "cell_type": "markdown",
   "metadata": {
    "slideshow": {
     "slide_type": "subslide"
    }
   },
   "source": [
    "## Operators\n",
    "\n",
    "- **Operators** are used to perform **operations** on **variables and values**. \n",
    "- Python has many operators for different purposes.\n",
    "\n",
    "The following are the commonly used operators.\n",
    "\n",
    "\n",
    "- Assignment Operator\n",
    "- **Arithmetic Operators**\n",
    "- Comparison Operators\n",
    "- Logic Operators"
   ]
  },
  {
   "cell_type": "markdown",
   "metadata": {
    "slideshow": {
     "slide_type": "subslide"
    }
   },
   "source": [
    "### Arithmetic Operators\n",
    "\n",
    "Arithmetic operators are used for performing mathematical operations. The following table shows the \n",
    "operators with some examples: \n",
    "\n",
    "\n",
    "|Name|Operator|Example|Result|\n",
    "|----|----|----|----|\n",
    "|Addition|`+`|`10 + 2`|`12`|\n",
    "|Subtraction|`-`|`10 – 2`|`8`| \n",
    "|Multiplication|`*`|`10 * 2`|`20`|\n",
    "|Division|`/`|`10 / 2`|`5.0`| \n",
    "|Modulus|`%`|`5 % 3`|`2`|\n",
    "|Exponentiation|`**`|`10 ** 2`|`100`|\n",
    "|Floor division|`//`|`5 // 3`|`1`| "
   ]
  },
  {
   "cell_type": "markdown",
   "metadata": {
    "slideshow": {
     "slide_type": "subslide"
    }
   },
   "source": [
    "## Multiple Arithmetic Operators\n",
    "\n",
    "An arithmetic expression can be constructed by using multiple arithmetic operators and parentheses. It is very common to assign an expression to a variable."
   ]
  },
  {
   "cell_type": "code",
   "execution_count": null,
   "metadata": {
    "slideshow": {
     "slide_type": "fragment"
    }
   },
   "outputs": [],
   "source": [
    "PI = 3.14159\n",
    "Radius = 6378\n",
    "Perimeter = 2 * PI * Radius\n",
    "print(\"The perimeter of earth is \" + str(Perimeter))\n",
    "Volume = 4/3 * PI * Radius ** 3\n",
    "print(\"The volume of earth is {}\".format(Volume))  "
   ]
  },
  {
   "cell_type": "markdown",
   "metadata": {
    "slideshow": {
     "slide_type": "fragment"
    }
   },
   "source": [
    "The expression `4/3 * PI * Radius ** 3` is equivalent to `4/3 * PI * (Radius ** 3)` because `**` has a higher priority (or precedence) than `*` and `/`. Now you can use Python as a calculator! "
   ]
  },
  {
   "cell_type": "markdown",
   "metadata": {
    "slideshow": {
     "slide_type": "subslide"
    }
   },
   "source": [
    "## Operators\n",
    "\n",
    "- **Operators** are used to perform **operations** on **variables and values**. \n",
    "- Python has many operators for different purposes.\n",
    "\n",
    "The following are the commonly used operators.\n",
    "\n",
    "\n",
    "- Assignment Operator\n",
    "- Arithmetic Operators\n",
    "- **Comparison Operators**\n",
    "- Logic Operators"
   ]
  },
  {
   "cell_type": "markdown",
   "metadata": {
    "slideshow": {
     "slide_type": "subslide"
    }
   },
   "source": [
    "## Comparison Operators\n",
    "\n",
    "Comparison operators are used for comparing two values, and the value of a comparison expression is either True or False. The following table shows the operators with the examples:\n",
    "\n",
    "\n",
    "|Name|Operator|Example|Result|\n",
    "|----|----|----|----|\n",
    "|Equal|`==`|`x = 1`<br>`x == 1`<br>`x == 2`|<br>`True`<br>`False`|\n",
    "|Not Equal|`!=`|`x = 1`<br>`x != 1`<br>`x != 2`|<br>`False`<br>`True`|\n",
    "|Greater than|`>`|`x = 1`<br>`x > 1`|<br>`False`| \n",
    "|Greater than or equal to|`>=`|`x = 1`<br>`x >= 1`|<br>`True`|\n",
    "|Less than|`<`|`x = 1`<br>`x < 1`|<br>`False`|\n",
    "|Less than or equal to|`<=`|`x = 1`<br>`x <= 1`|<br>`True`| \n"
   ]
  },
  {
   "cell_type": "markdown",
   "metadata": {
    "slideshow": {
     "slide_type": "subslide"
    }
   },
   "source": [
    "## Operators\n",
    "\n",
    "- **Operators** are used to perform **operations** on **variables and values**. \n",
    "- Python has many operators for different purposes.\n",
    "\n",
    "The following are the commonly used operators.\n",
    "\n",
    "- Assignment Operator\n",
    "- Arithmetic Operators\n",
    "- Comparison Operators\n",
    "- **Logic Operators**"
   ]
  },
  {
   "cell_type": "markdown",
   "metadata": {
    "slideshow": {
     "slide_type": "subslide"
    }
   },
   "source": [
    "## Logical Operators \n",
    "\n",
    "Logical operators are used for combining the conditional statements. The following table shows the \n",
    "operators and the examples: \n",
    "\n",
    "|Operator|Description|Example|Result|\n",
    "|----|----|----|----|\n",
    "|and|If both operands are True, then<br>the result is True. Otherwise, the result is False.|`x = 5`<br>`x < 10 and x > 3`|<br>`True`|\n",
    "|or|If both operands are False, then<br>the result is False.Otherwise, the result is True.|`x = 5`<br>`x == 1 or x == 5`|<br>`True`| \n",
    "|not|The result is the reverse of the operand.|`x = 5 not x > 10`|`True` "
   ]
  },
  {
   "cell_type": "markdown",
   "metadata": {
    "slideshow": {
     "slide_type": "slide"
    }
   },
   "source": [
    "# Lab2:  Program Control and Logic\n",
    "\n",
    "1. Operators\n",
    "2. **Control Statements**\n",
    "3. Case studies\n",
    "4. Exercises"
   ]
  },
  {
   "cell_type": "markdown",
   "metadata": {
    "slideshow": {
     "slide_type": "fragment"
    }
   },
   "source": [
    "The most direct way to affect the flow of control is with a control statement. In Python, the main types of control statements are if, while and for.\n",
    "\n"
   ]
  },
  {
   "cell_type": "markdown",
   "metadata": {
    "slideshow": {
     "slide_type": "fragment"
    }
   },
   "source": [
    "### Control Statements: if, if…else and if…elif…else \n",
    "The if statement performs an indicated action only when the condition is true; otherwise the action is skipped. The syntax is: \n",
    "\n",
    "```python\n",
    "if expression:\n",
    "    statement\n",
    "```\n",
    "\n",
    "The colon `:` at the end of if statement in very important. It indicates that the following block of statements with the same amount of indentation will be executed if the expression is true.  "
   ]
  },
  {
   "cell_type": "markdown",
   "metadata": {
    "slideshow": {
     "slide_type": "subslide"
    }
   },
   "source": [
    "### Control statement: if"
   ]
  },
  {
   "cell_type": "code",
   "execution_count": null,
   "metadata": {
    "slideshow": {
     "slide_type": "fragment"
    }
   },
   "outputs": [],
   "source": [
    "score = input('Please input the score: ')\n",
    "score = float(score)\n",
    "if score >= 50:\n",
    "    print('Congratulations!')\n",
    "    print('You passed the course!')"
   ]
  },
  {
   "cell_type": "markdown",
   "metadata": {
    "slideshow": {
     "slide_type": "fragment"
    }
   },
   "source": [
    "### Control statement: if…else…\n",
    "\n",
    "With  the  else  clause  (if…else  statement),  it  allows  you  to  specify  that  different  actions  are  to  be performed when the condition is false. The syntax is: \n",
    "```python\n",
    "if expression:\n",
    "    statement(s) 1\n",
    "else:\n",
    "    statement(s) 2\n",
    "```"
   ]
  },
  {
   "cell_type": "code",
   "execution_count": null,
   "metadata": {
    "slideshow": {
     "slide_type": "fragment"
    }
   },
   "outputs": [],
   "source": [
    "score = input('Please input the score: ')\n",
    "score = float(score)\n",
    "if score >= 50:\n",
    "    print('PASS')\n",
    "    print('Congratulations!')\n",
    "else:\n",
    "    print('FAIL')\n",
    "    print('Please work harder!')"
   ]
  },
  {
   "cell_type": "markdown",
   "metadata": {
    "slideshow": {
     "slide_type": "subslide"
    }
   },
   "source": [
    "## Control statement: if…elif…else…\n",
    "\n",
    "The if…elif…else statement is used for multiple cases by placing the elif with conditions. The syntax is:\n",
    "```python\n",
    "if expression 1:\n",
    "    statement(s) 1\n",
    "elif expression 2:\n",
    "    statement(s) 2\n",
    "elif …\n",
    "    …\n",
    "else\n",
    "    statement(s) N\n",
    "```\n",
    "For example, the following code will print different grades based on the score. "
   ]
  },
  {
   "cell_type": "code",
   "execution_count": null,
   "metadata": {
    "slideshow": {
     "slide_type": "fragment"
    }
   },
   "outputs": [],
   "source": [
    "score = input('Please input the score: ')\n",
    "score = float(score)\n",
    "if score >= 85:\n",
    "    print('A')\n",
    "elif score >= 75:\n",
    "    print('B')\n",
    "elif score >= 65:\n",
    "    print('C')\n",
    "elif score >= 50:\n",
    "    print('D')\n",
    "else:\n",
    "    print('F')"
   ]
  },
  {
   "cell_type": "markdown",
   "metadata": {
    "slideshow": {
     "slide_type": "subslide"
    }
   },
   "source": [
    "## Control statement: while\n",
    "\n",
    "The while statement is used to execute a block of statements repeatedly while some condition remains true. The syntax is: \n",
    "\n",
    "```python\n",
    "while expression:\n",
    "    statement(s)\n",
    "```"
   ]
  },
  {
   "cell_type": "markdown",
   "metadata": {
    "slideshow": {
     "slide_type": "fragment"
    }
   },
   "source": [
    "Consider the following example code that prints the numbers from 1 to 10. "
   ]
  },
  {
   "cell_type": "code",
   "execution_count": null,
   "metadata": {
    "slideshow": {
     "slide_type": "fragment"
    }
   },
   "outputs": [],
   "source": [
    "i = 1\n",
    "while i <= 10:\n",
    "    print(i)\n",
    "    i = i+1\n",
    "print(i)"
   ]
  },
  {
   "cell_type": "markdown",
   "metadata": {
    "slideshow": {
     "slide_type": "fragment"
    }
   },
   "source": [
    "The initial value of the variable `i` is 1. In the body of the while statement, `i` is printed and increased by 1. The loop runs total 10 times while i iterates from `1` to 10. Notice that after the while loop, `i` becomes 11. "
   ]
  },
  {
   "cell_type": "markdown",
   "metadata": {
    "slideshow": {
     "slide_type": "subslide"
    }
   },
   "source": [
    "## Control statement: while\n",
    "\n",
    "Try another example that uses while to implement a guess game: "
   ]
  },
  {
   "cell_type": "code",
   "execution_count": null,
   "metadata": {
    "slideshow": {
     "slide_type": "fragment"
    }
   },
   "outputs": [],
   "source": [
    "answer = \"Jack\"\n",
    "print(\"======Can you guess my name?======\")\n",
    "guess = \"\"\n",
    "while guess != answer:\n",
    "    guess = input(\"Guess my name: \")\n",
    "print(\"Bingo!\")"
   ]
  },
  {
   "cell_type": "markdown",
   "metadata": {
    "slideshow": {
     "slide_type": "subslide"
    }
   },
   "source": [
    "## Control statement: for\n",
    "\n",
    "- The **for** statement is used for **<ins>iterating over a sequence</ins>**.\n",
    "- We can execute a **block of statements**,once for each item in the sequence.\n",
    "    - such as a **list**, **tuple**, **range**, and **dictionary**."
   ]
  },
  {
   "cell_type": "markdown",
   "metadata": {
    "slideshow": {
     "slide_type": "fragment"
    }
   },
   "source": [
    "```python\n",
    "for iterating_var in sequence:\n",
    "    statement(s)\n",
    "```\n",
    "\n",
    "![](https://www.tutorialspoint.com/python3/images/python_for_loop.jpg)"
   ]
  },
  {
   "cell_type": "markdown",
   "metadata": {
    "slideshow": {
     "slide_type": "subslide"
    }
   },
   "source": [
    "## Control statement: for\n",
    "\n",
    "Consider the following example code that prints the day names. The items in the list will be assigned to the iterating variable d one‐by‐one. "
   ]
  },
  {
   "cell_type": "code",
   "execution_count": null,
   "metadata": {
    "slideshow": {
     "slide_type": "fragment"
    }
   },
   "outputs": [],
   "source": [
    "days = ['Monday', 'Tuesday', 'Wednesday', 'Thursday', 'Friday', 'Saturday', 'Sunday']\n",
    "for d in days:\n",
    "    print(d)"
   ]
  },
  {
   "cell_type": "markdown",
   "metadata": {
    "slideshow": {
     "slide_type": "fragment"
    }
   },
   "source": [
    "It is also very common to use the built‐in function range() to generate an immutable sequence and then iterate through a sequence. For example: "
   ]
  },
  {
   "cell_type": "code",
   "execution_count": null,
   "metadata": {
    "slideshow": {
     "slide_type": "fragment"
    }
   },
   "outputs": [],
   "source": [
    "days = ['Monday', 'Tuesday', 'Wednesday', 'Thursday', 'Friday', 'Saturday', 'Sunday']\n",
    "for i in range(7):\n",
    "    print(days[i])"
   ]
  },
  {
   "cell_type": "markdown",
   "metadata": {
    "slideshow": {
     "slide_type": "subslide"
    }
   },
   "source": [
    "## Control statement: break\n",
    "\n",
    "- The break and continue statements are used to alter the flow of control when executed in a while or for statement.  \n",
    "- The break statement causes an immediate exit from that statement. Therefore, the break statement is used to escape early from a loop. "
   ]
  },
  {
   "cell_type": "code",
   "execution_count": null,
   "metadata": {
    "slideshow": {
     "slide_type": "fragment"
    }
   },
   "outputs": [],
   "source": [
    "for i in range(1, 10):\n",
    "    if i > 3:\n",
    "        break\n",
    "    print(i)\n",
    "print('Broke out at x = {}'.format(i))"
   ]
  },
  {
   "cell_type": "markdown",
   "metadata": {
    "slideshow": {
     "slide_type": "fragment"
    }
   },
   "source": [
    "In this example, lines 2‐4 are the statements of the for loop and they are indented by four spaces. Line  3,  the  break  statement,  is  under  the  if  statement;  so  it  has  another  level  of indentation of four spaces. "
   ]
  },
  {
   "cell_type": "markdown",
   "metadata": {
    "slideshow": {
     "slide_type": "subslide"
    }
   },
   "source": [
    "## Control statement:  continue\n",
    "\n",
    "- The continue statement skips the remaining statements in the body of that block.\n",
    "- Evaluate the condition immediately (while loop)\n",
    "- performs the next iteration (for loop)."
   ]
  },
  {
   "cell_type": "code",
   "execution_count": null,
   "metadata": {
    "slideshow": {
     "slide_type": "fragment"
    }
   },
   "outputs": [],
   "source": [
    "i = 0\n",
    "while i < 6:\n",
    "    i = i+1\n",
    "    if i == 3:\n",
    "        continue\n",
    "    print(i)"
   ]
  },
  {
   "cell_type": "markdown",
   "metadata": {
    "slideshow": {
     "slide_type": "slide"
    }
   },
   "source": [
    "# Lab2:  Program Control and Logic\n",
    "\n",
    "1. Operators\n",
    "2. Control Statements\n",
    "3. **Case studies**\n",
    "4. Exercises"
   ]
  },
  {
   "cell_type": "markdown",
   "metadata": {
    "slideshow": {
     "slide_type": "fragment"
    }
   },
   "source": [
    "## Case study 1: Class Average Program 1\n",
    "\n",
    "- Imagine that a class of ten students took a quiz. The scores, integers in the range of [0, 100], for this quiz are available to us. We need to determine the grades and the class average on the quiz. \n",
    "- Assume that the scores are 50, 100, 75, 66, 88, 85, 46, 91, 0, and 23. \n",
    "\n",
    "The grade assignment is based on the table below:\n",
    "\n",
    "\n",
    "|Score range|Grade|\n",
    "|----|----|\n",
    "|85 or above|A|\n",
    "|75 to 84|B|\n",
    "|65 to 74|C|\n",
    "|50 to 64|D|\n",
    "|Below 50|F|"
   ]
  },
  {
   "cell_type": "markdown",
   "metadata": {
    "slideshow": {
     "slide_type": "subslide"
    }
   },
   "source": [
    "## Case study 1: Class Average Program 1\n",
    "\n",
    "Try yourselves first, Hint: please use: List, for loop, if…elif…else…, print()"
   ]
  },
  {
   "cell_type": "code",
   "execution_count": null,
   "metadata": {
    "slideshow": {
     "slide_type": "fragment"
    }
   },
   "outputs": [],
   "source": [
    "scores = [50, 100, 75, 66, 88, 85, 46, 91, 0, 23]; total = 0\n",
    "for s in scores:\n",
    "    total += s\n",
    "    if s >= 85:\n",
    "        grade = 'A'\n",
    "    elif s >= 75:\n",
    "        grade = 'B'\n",
    "    elif s >= 65:\n",
    "        grade = 'C'\n",
    "    elif s >= 50:\n",
    "        grade = 'D'\n",
    "    else:\n",
    "        grade = 'F'\n",
    "    print(s, grade, sep='\\t')\n",
    "print('Class average is ', total / len(scores))\n"
   ]
  },
  {
   "cell_type": "markdown",
   "metadata": {
    "slideshow": {
     "slide_type": "fragment"
    }
   },
   "source": [
    "- In this example, we use a `for` statement to get each score from the list and assign it to the variable `s`.In the for loop, we use the operator `+=` to increase the value of total by `s`. It is exactly the same as `total = total + s`. So `+=` is also an assignment operator.  \n",
    "- An if…elif…else statement is used for comparing the value of s and assign the grade. The `print(s, grade, sep='\\t')` statement outputs two values, `s` and `grade`, separated by a tab (i.e., '\\t'). "
   ]
  },
  {
   "cell_type": "markdown",
   "metadata": {
    "slideshow": {
     "slide_type": "subslide"
    }
   },
   "source": [
    "## Case Study 2 – Class Average Program 2 \n",
    "\n",
    "We need to implement a program for determining the grades and the class average on the quiz. Our program will prompt the user to input the scores until the input equals ‐1. The grade assignment is based on the same criteria mentioned in Case Study 1. \n",
    "\n",
    "|Score range|Grade|\n",
    "|----|----|\n",
    "|85 or above|A|\n",
    "|75 to 84|B|\n",
    "|65 to 74|C|\n",
    "|50 to 64|D|\n",
    "|Below 50|F|"
   ]
  },
  {
   "cell_type": "markdown",
   "metadata": {
    "slideshow": {
     "slide_type": "subslide"
    }
   },
   "source": [
    "### Case Study 2 – Class Average Program 2 "
   ]
  },
  {
   "cell_type": "code",
   "execution_count": null,
   "metadata": {
    "slideshow": {
     "slide_type": "fragment"
    }
   },
   "outputs": [],
   "source": [
    "total = 0 # total marks\n",
    "count = 0 # to count the number of students"
   ]
  },
  {
   "cell_type": "markdown",
   "metadata": {
    "slideshow": {
     "slide_type": "fragment"
    }
   },
   "source": [
    "We use the variable count to count the number of scores inputted and use the variable total to sum the scores inputted."
   ]
  },
  {
   "cell_type": "code",
   "execution_count": null,
   "metadata": {
    "slideshow": {
     "slide_type": "fragment"
    }
   },
   "outputs": [],
   "source": [
    "# As we do not know how many scores will be inputted, we use a while statement with True.\n",
    "# It is an infinite loop that will not stop because\n",
    "while True:\n",
    "    s = input('Enter score, ‐1 to end: '); s = int(s)\n",
    "    # In addition, we check whether the user input equals ‐1 or not.\n",
    "    if s < 0: # If yes, we use a break statement to exit the loop.\n",
    "        break\n",
    "    total += s\n",
    "    count += 1\n",
    "    if s >= 85:\n",
    "        grade = 'A'\n",
    "    elif s >= 75:\n",
    "        grade = 'B'\n",
    "    elif s >= 65:\n",
    "        grade = 'C'\n",
    "    elif s >= 50:\n",
    "        grade = 'D'\n",
    "    else:\n",
    "        grade = 'F'\n",
    "    print('Grade ', grade)"
   ]
  },
  {
   "cell_type": "markdown",
   "metadata": {
    "slideshow": {
     "slide_type": "subslide"
    }
   },
   "source": [
    "## Case Study 2 – Class Average Program 2\n",
    "One more thing we need to pay attention to is that the user may input ‐1 immediately after starting the program. The value of count will be zero. There is a zero division program when we calculate the average using the statement average = total / count. Therefore, we need to check whether count is greater than zero or not. "
   ]
  },
  {
   "cell_type": "code",
   "execution_count": null,
   "metadata": {
    "slideshow": {
     "slide_type": "fragment"
    }
   },
   "outputs": [],
   "source": [
    "if count > 0:\n",
    "    average = total / count\n",
    "else:\n",
    "    average = 0\n",
    "print('There are {} students'.format(count))\n",
    "print('Class average is {0:.2f}'.format(average))"
   ]
  },
  {
   "cell_type": "markdown",
   "metadata": {
    "slideshow": {
     "slide_type": "fragment"
    }
   },
   "source": [
    "Finally, to only print 2 fractional digits of variable average, we use a placeholder {0:.2f} in the last print statement. The {0} indicates that the placeholder {} will be replaced by the 1st argument in the format(). The “.2f” indicates that the argument is a floating number with 2 digits after the period. "
   ]
  },
  {
   "cell_type": "markdown",
   "metadata": {
    "slideshow": {
     "slide_type": "subslide"
    }
   },
   "source": [
    "## Case study 3: Shapes Printing Program\n",
    "\n",
    "We are going to use Python program to print shapes with star symbols. The expected outputs are as follows.\n",
    "\n",
    "```\n",
    "*\n",
    "**\n",
    "***\n",
    "****\n",
    "*****\n",
    "******\n",
    "*******\n",
    "********\n",
    "*********\n",
    "```"
   ]
  },
  {
   "cell_type": "markdown",
   "metadata": {
    "slideshow": {
     "slide_type": "subslide"
    }
   },
   "source": [
    "Let’s try the following code: "
   ]
  },
  {
   "cell_type": "code",
   "execution_count": null,
   "metadata": {
    "slideshow": {
     "slide_type": "fragment"
    }
   },
   "outputs": [],
   "source": [
    "for i in range(10): \n",
    "    for j in range(i): \n",
    "        print('*', end='') \n",
    "    print() "
   ]
  },
  {
   "cell_type": "markdown",
   "metadata": {
    "slideshow": {
     "slide_type": "fragment"
    }
   },
   "source": [
    "In the above example, we nest for statements inside another for statements. The outer for statement is used for printing ten rows. The inner for statement is used for printing a single row. Note that the print() function with end='' (empty string instead of the default ‘\\n’ newline character) will print the value without a newline. And, the print() function without parameter will print a newline. "
   ]
  },
  {
   "cell_type": "markdown",
   "metadata": {
    "slideshow": {
     "slide_type": "subslide"
    }
   },
   "source": [
    "A more interesting example: In the following example, the program will output the same shape as an animation by sleeping for 0.5 second after displaying a \\*. Python has a time module that offers many useful functions related to time and date. To access this time module, we need to use import time first. The function time.sleep(sec) will suspend the execution of the program for the given number of seconds. We will learn more Python modules in this course. "
   ]
  },
  {
   "cell_type": "code",
   "execution_count": null,
   "metadata": {
    "slideshow": {
     "slide_type": "fragment"
    }
   },
   "outputs": [],
   "source": [
    "import time # import the time module of Python\n",
    "for i in range(10): \n",
    "    for j in range(i): \n",
    "        print('*', end='') \n",
    "        time.sleep(0.5)  # pause for 0.5 second \n",
    "    print() "
   ]
  },
  {
   "cell_type": "markdown",
   "metadata": {
    "slideshow": {
     "slide_type": "subslide"
    }
   },
   "source": [
    "## What have you learnt in Lab1?\n",
    "\n",
    "<table border=\"0\" style=\"font-size:.7em; border:0\"><tr><td>\n",
    "\n",
    "Getting Started<ul><li>Comment – #</li><li>Special Comment – #%%</li><li>Block &amp; Indentation – : &amp; &lt;4 whitespaces&gt;</li></ul>\n",
    "<br><ul><li>How to write a Function – def funcName( ):</li><li>How to “output” things to screen – print( )</li><li>How to “input” things from keyboard – input( )</li></ul><br><br>Data Types: Constants and Variables<ul><li>Integer – int( )</li><li>Floating point – float( )</li><li>Complex Number – complex( )</li><li>Boolean – bool( ) <span style=\"white-space:pre\">\t</span>True or False</li><li>String – str( )</li><li>Function to find out the Data Type – type( )</li></ul>\n",
    "\n",
    "</td><td>\n",
    "    \n",
    "Tuples, Lists, Range, Dictionary<ul><li>What is a tuple? – tuple1 = (item1, item2, …)</li><li>What is a list? – list1 = [item1, item2, …]</li><li>How to specify a range?</li><li>range(stop)</li><li>range(start, stop)</li><li>range(start, stop, step)</li><li>Dictionary (Key-Value Pairs) – dict = {key1:value1, …}</li><li>Indexing, Negative indexing, Slicing</li></ul><br><br>List Operations<ul><li>Number of items within a list – len( )</li><li>Add item at the end of a list – mylist.append(item)</li><li>Insert item at a place – mylist.insert(index, item)</li><li>Remove item from list – mylist.remove(item)</li><li>Sort the list – mylist.sort( )</li><li>Sort the list in reverse order – mylist.reverse( )</li></ul>\n",
    "\n",
    "</td></tr></table>"
   ]
  },
  {
   "cell_type": "markdown",
   "metadata": {
    "slideshow": {
     "slide_type": "subslide"
    }
   },
   "source": [
    "## What have you learnt in Lab2?\n",
    "\n",
    "### Operators, Control Statements and some extras\n",
    "\n",
    "<table border=\"0\" style=\"font-size:.7em; border:0\"><tr><td>\n",
    "Assignment Operator<br><ul><li>‘=‘ (e.g., name = “Joseph”)</li></ul><br><br>Arithmetic Operators (with precedence)<br><ul><li>Addition<span style=\"white-space:pre\">\t\t\t</span>+</li><li>Subtraction<span style=\"white-space:pre\">\t\t</span>-</li><li>Multiplication<span style=\"white-space:pre\">\t\t</span>*</li><li>Division<span style=\"white-space:pre\">\t\t\t</span>/</li><li>Modulus<span style=\"white-space:pre\">\t\t\t</span>%</li><li>Exponentiation<span style=\"white-space:pre\">\t\t</span>**</li><li>Floor Division<span style=\"white-space:pre\">\t\t</span>//</li></ul><br><br>Comparison Operators (Relational Operators)<ul><li>Equal<span style=\"white-space:pre\">\t\t\t</span>==</li><li>Not Equal<span style=\"white-space:pre\">\t\t\t</span>!=</li><li>Greater than<span style=\"white-space:pre\">\t\t</span>&gt;</li><li>Greater than or equal<span style=\"white-space:pre\">\t</span>&gt;=</li><li>Less than<span style=\"white-space:pre\">\t\t\t</span>&lt;</li><li>Less than or equal<span style=\"white-space:pre\">\t</span>&lt;=</li></ul>\n",
    "\n",
    "</td><td>\n",
    "    \n",
    "Logical Operators<br><ul><li>and</li><li>or</li><li>not</li></ul><br><br>Control Statements<ul><li>If, if…else, if…elif…else statements</li><li>The while loop with statement(s)</li><li>The for loop with statement(s)</li><li>The use of break &amp; continue</li><li>Nested Loops</li></ul><br><br>Some Extras<ul><li>Increment and Decrement Operators</li><li>+=<span style=\"white-space:pre\">\t</span>-=<span style=\"white-space:pre\">\t</span>*=<span style=\"white-space:pre\">\t</span>/=</li><li>More on print( ) &amp; formatted print( ) with { }</li><li>sep=‘\\t’<span style=\"white-space:pre\">\t</span>end=‘’<span style=\"white-space:pre\">\t</span>‘\\n’ as default</li><li>Import the time module – import time&nbsp; time.sleep( )</li></ul><div><br></div>\n",
    "\n",
    "</td></tr></table>"
   ]
  },
  {
   "cell_type": "markdown",
   "metadata": {
    "slideshow": {
     "slide_type": "slide"
    }
   },
   "source": [
    "# Lab2: Program Control and Logic\n",
    "\n",
    "1. Operators\n",
    "2. Control Statements\n",
    "3. Case studies\n",
    "4. **Exercises**"
   ]
  },
  {
   "cell_type": "markdown",
   "metadata": {
    "slideshow": {
     "slide_type": "fragment"
    }
   },
   "source": [
    "### Exercise 1 – Greeting \n",
    "Write a program to accept a user input and then print the greeting based on the following rules: \n",
    "\n",
    "|Rule|Input|Reply|\n",
    "|----|-----|-----|\n",
    "|1   |“How are you?”|“Fine, and you?”|\n",
    "|2|“How do you do.”|“How do you do.”|\n",
    "|3|“Good to see you.”|“Me too.”|\n",
    "|4|others|“…”|"
   ]
  },
  {
   "cell_type": "markdown",
   "metadata": {
    "slideshow": {
     "slide_type": "subslide"
    }
   },
   "source": [
    "### Exercise 1 – Greeting\n",
    "\n",
    "- Use the function input() to get the user input. \n",
    "- Use If..then..else statement to check the inputted text. \n",
    "- Use the function print() to print the reply. \n",
    "- The following is the sample output of the program:\n",
    "\n",
    "```\n",
    "Computer: Hi! \n",
    "You: Good to see you. \n",
    "Computer: Me too. \n",
    "```"
   ]
  },
  {
   "cell_type": "code",
   "execution_count": null,
   "metadata": {
    "slideshow": {
     "slide_type": "skip"
    }
   },
   "outputs": [],
   "source": [
    "# Please write Exercise 1 code here\n"
   ]
  },
  {
   "cell_type": "markdown",
   "metadata": {
    "slideshow": {
     "slide_type": "subslide"
    }
   },
   "source": [
    "### Exercise 2 – Summation \n",
    "Write a program to accept integer inputs until the user inputs a non‐integer. Then, the program prints the summation of the inputted numbers.\n",
    "- Use the function input() to get the user input. \n",
    "- Use a variable total for calculating the summation. \n",
    "- Need to use while loop for the repeated inputs. \n",
    "- Use if statement with isdigit() function to check whether the user input is an integer or not.\n",
    "```python\n",
    "if (n.isdigit() == False): \n",
    "    break\n",
    "```\n",
    "- If user input is an integer, use `function int()` to convert user input to an integer and add it to the variable total. \n",
    "```python\n",
    "a = int(n)\n",
    "```\n",
    "- If user input is not an integer, use break statement to exit the loop immediately. \n",
    "- The following is the sample output of the program: \n",
    "```\n",
    "Input an integer: 5 \n",
    "Input an integer: 10 \n",
    "Input an integer: 2 \n",
    "Input an integer: x \n",
    "total =  17\n",
    "```"
   ]
  },
  {
   "cell_type": "code",
   "execution_count": null,
   "metadata": {
    "slideshow": {
     "slide_type": "skip"
    }
   },
   "outputs": [],
   "source": [
    "# Please write Exercise 2 code here\n"
   ]
  },
  {
   "cell_type": "markdown",
   "metadata": {
    "slideshow": {
     "slide_type": "subslide"
    }
   },
   "source": [
    "## Exercise 3 – Maximum Value \n",
    "\n",
    "Write a program to get 5 integer inputs and then print the maximum one. Assume that the user will input integers only. \n",
    "\n",
    "- Use for statement to get user inputs 5 times. \n",
    "- Use if statement to compare the integers. \n",
    "- The following is the sample output of the program: \n",
    "\n",
    "```\n",
    "Input a number: 15 \n",
    "Input a number: 3 \n",
    "Input a number: 21 \n",
    "Input a number: 9 \n",
    "Input a number: 18 \n",
    "Maximum is  21 \n",
    "```"
   ]
  },
  {
   "cell_type": "code",
   "execution_count": null,
   "metadata": {
    "slideshow": {
     "slide_type": "skip"
    }
   },
   "outputs": [],
   "source": [
    "# Please write Exercise 3 code here"
   ]
  },
  {
   "cell_type": "markdown",
   "metadata": {
    "slideshow": {
     "slide_type": "fragment"
    }
   },
   "source": [
    "# Submission for Lab2\n",
    "\n",
    "Please submit your solutions of the three exercises to Moodle"
   ]
  }
 ],
 "metadata": {
  "celltoolbar": "Slideshow",
  "kernelspec": {
   "display_name": "Python 3",
   "language": "python",
   "name": "python3"
  },
  "language_info": {
   "codemirror_mode": {
    "name": "ipython",
    "version": 3
   },
   "file_extension": ".py",
   "mimetype": "text/x-python",
   "name": "python",
   "nbconvert_exporter": "python",
   "pygments_lexer": "ipython3",
   "version": "3.7.8"
  }
 },
 "nbformat": 4,
 "nbformat_minor": 2
}
